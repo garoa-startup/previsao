{
 "cells": [
  {
   "cell_type": "code",
   "execution_count": 612,
   "metadata": {
    "executionInfo": {
     "elapsed": 10679,
     "status": "ok",
     "timestamp": 1654775303331,
     "user": {
      "displayName": "Prince Nyarko",
      "userId": "02482838485601494345"
     },
     "user_tz": 180
    },
    "id": "eEaRMEvaGBU-"
   },
   "outputs": [],
   "source": [
    "import requests\n",
    "url = 'https://apitempo.inmet.gov.br/estacao/2021-07-07/2022-06-08/A201'\n",
    "resultado = requests.get(url)"
   ]
  },
  {
   "cell_type": "code",
   "execution_count": 613,
   "metadata": {
    "executionInfo": {
     "elapsed": 5,
     "status": "ok",
     "timestamp": 1654775303333,
     "user": {
      "displayName": "Prince Nyarko",
      "userId": "02482838485601494345"
     },
     "user_tz": 180
    },
    "id": "9VSpLxYQGBVA"
   },
   "outputs": [],
   "source": [
    "import json\n",
    "dados_org = resultado.json()\n",
    "dados_str = json.dumps(dados_org)\n"
   ]
  },
  {
   "cell_type": "code",
   "execution_count": 614,
   "metadata": {
    "executionInfo": {
     "elapsed": 288,
     "status": "ok",
     "timestamp": 1654775303617,
     "user": {
      "displayName": "Prince Nyarko",
      "userId": "02482838485601494345"
     },
     "user_tz": 180
    },
    "id": "o615QirjGBVA"
   },
   "outputs": [],
   "source": [
    "import pandas as pd\n",
    "import numpy as np"
   ]
  },
  {
   "cell_type": "code",
   "execution_count": 615,
   "metadata": {
    "colab": {
     "base_uri": "https://localhost:8080/",
     "height": 488
    },
    "executionInfo": {
     "elapsed": 346,
     "status": "ok",
     "timestamp": 1654775303961,
     "user": {
      "displayName": "Prince Nyarko",
      "userId": "02482838485601494345"
     },
     "user_tz": 180
    },
    "id": "fpUU-zoIGBVB",
    "outputId": "ca952152-c038-4acc-b482-e29c866a0a6f"
   },
   "outputs": [
    {
     "data": {
      "text/html": [
       "<div>\n",
       "<style scoped>\n",
       "    .dataframe tbody tr th:only-of-type {\n",
       "        vertical-align: middle;\n",
       "    }\n",
       "\n",
       "    .dataframe tbody tr th {\n",
       "        vertical-align: top;\n",
       "    }\n",
       "\n",
       "    .dataframe thead th {\n",
       "        text-align: right;\n",
       "    }\n",
       "</style>\n",
       "<table border=\"1\" class=\"dataframe\">\n",
       "  <thead>\n",
       "    <tr style=\"text-align: right;\">\n",
       "      <th></th>\n",
       "      <th>DC_NOME</th>\n",
       "      <th>PRE_INS</th>\n",
       "      <th>TEM_SEN</th>\n",
       "      <th>VL_LATITUDE</th>\n",
       "      <th>PRE_MAX</th>\n",
       "      <th>UF</th>\n",
       "      <th>RAD_GLO</th>\n",
       "      <th>PTO_INS</th>\n",
       "      <th>TEM_MIN</th>\n",
       "      <th>VL_LONGITUDE</th>\n",
       "      <th>...</th>\n",
       "      <th>VEN_VEL</th>\n",
       "      <th>PTO_MIN</th>\n",
       "      <th>TEM_MAX</th>\n",
       "      <th>TEN_BAT</th>\n",
       "      <th>VEN_RAJ</th>\n",
       "      <th>TEM_CPU</th>\n",
       "      <th>TEM_INS</th>\n",
       "      <th>UMD_INS</th>\n",
       "      <th>CD_ESTACAO</th>\n",
       "      <th>HR_MEDICAO</th>\n",
       "    </tr>\n",
       "  </thead>\n",
       "  <tbody>\n",
       "    <tr>\n",
       "      <th>0</th>\n",
       "      <td>BELÉM</td>\n",
       "      <td>1011.9</td>\n",
       "      <td>NaN</td>\n",
       "      <td>-1.411228</td>\n",
       "      <td>1011.9</td>\n",
       "      <td>PA</td>\n",
       "      <td>0.8</td>\n",
       "      <td>24.0</td>\n",
       "      <td>23.8</td>\n",
       "      <td>-48.439512</td>\n",
       "      <td>...</td>\n",
       "      <td>1.1</td>\n",
       "      <td>24.0</td>\n",
       "      <td>24.4</td>\n",
       "      <td>13.1</td>\n",
       "      <td>4.3</td>\n",
       "      <td>26.0</td>\n",
       "      <td>23.8</td>\n",
       "      <td>NaN</td>\n",
       "      <td>A201</td>\n",
       "      <td>0</td>\n",
       "    </tr>\n",
       "    <tr>\n",
       "      <th>1</th>\n",
       "      <td>BELÉM</td>\n",
       "      <td>1012.0</td>\n",
       "      <td>NaN</td>\n",
       "      <td>-1.411228</td>\n",
       "      <td>1012.1</td>\n",
       "      <td>PA</td>\n",
       "      <td>1.8</td>\n",
       "      <td>23.9</td>\n",
       "      <td>23.7</td>\n",
       "      <td>-48.439512</td>\n",
       "      <td>...</td>\n",
       "      <td>0.7</td>\n",
       "      <td>23.8</td>\n",
       "      <td>23.8</td>\n",
       "      <td>13.0</td>\n",
       "      <td>4.2</td>\n",
       "      <td>26.0</td>\n",
       "      <td>23.8</td>\n",
       "      <td>NaN</td>\n",
       "      <td>A201</td>\n",
       "      <td>100</td>\n",
       "    </tr>\n",
       "    <tr>\n",
       "      <th>2</th>\n",
       "      <td>BELÉM</td>\n",
       "      <td>1012.3</td>\n",
       "      <td>NaN</td>\n",
       "      <td>-1.411228</td>\n",
       "      <td>1012.3</td>\n",
       "      <td>PA</td>\n",
       "      <td>-0.3</td>\n",
       "      <td>23.9</td>\n",
       "      <td>23.6</td>\n",
       "      <td>-48.439512</td>\n",
       "      <td>...</td>\n",
       "      <td>0.0</td>\n",
       "      <td>23.8</td>\n",
       "      <td>24.0</td>\n",
       "      <td>13.0</td>\n",
       "      <td>3.8</td>\n",
       "      <td>25.0</td>\n",
       "      <td>23.7</td>\n",
       "      <td>NaN</td>\n",
       "      <td>A201</td>\n",
       "      <td>200</td>\n",
       "    </tr>\n",
       "    <tr>\n",
       "      <th>3</th>\n",
       "      <td>BELÉM</td>\n",
       "      <td>1011.5</td>\n",
       "      <td>NaN</td>\n",
       "      <td>-1.411228</td>\n",
       "      <td>1012.4</td>\n",
       "      <td>PA</td>\n",
       "      <td>-1.0</td>\n",
       "      <td>24.0</td>\n",
       "      <td>23.6</td>\n",
       "      <td>-48.439512</td>\n",
       "      <td>...</td>\n",
       "      <td>0.2</td>\n",
       "      <td>23.9</td>\n",
       "      <td>23.9</td>\n",
       "      <td>13.0</td>\n",
       "      <td>1.7</td>\n",
       "      <td>25.0</td>\n",
       "      <td>23.6</td>\n",
       "      <td>NaN</td>\n",
       "      <td>A201</td>\n",
       "      <td>300</td>\n",
       "    </tr>\n",
       "    <tr>\n",
       "      <th>4</th>\n",
       "      <td>BELÉM</td>\n",
       "      <td>1011.2</td>\n",
       "      <td>NaN</td>\n",
       "      <td>-1.411228</td>\n",
       "      <td>1011.5</td>\n",
       "      <td>PA</td>\n",
       "      <td>-2.5</td>\n",
       "      <td>23.7</td>\n",
       "      <td>23.3</td>\n",
       "      <td>-48.439512</td>\n",
       "      <td>...</td>\n",
       "      <td>0.0</td>\n",
       "      <td>23.7</td>\n",
       "      <td>23.6</td>\n",
       "      <td>13.0</td>\n",
       "      <td>1.6</td>\n",
       "      <td>25.0</td>\n",
       "      <td>23.3</td>\n",
       "      <td>NaN</td>\n",
       "      <td>A201</td>\n",
       "      <td>400</td>\n",
       "    </tr>\n",
       "    <tr>\n",
       "      <th>...</th>\n",
       "      <td>...</td>\n",
       "      <td>...</td>\n",
       "      <td>...</td>\n",
       "      <td>...</td>\n",
       "      <td>...</td>\n",
       "      <td>...</td>\n",
       "      <td>...</td>\n",
       "      <td>...</td>\n",
       "      <td>...</td>\n",
       "      <td>...</td>\n",
       "      <td>...</td>\n",
       "      <td>...</td>\n",
       "      <td>...</td>\n",
       "      <td>...</td>\n",
       "      <td>...</td>\n",
       "      <td>...</td>\n",
       "      <td>...</td>\n",
       "      <td>...</td>\n",
       "      <td>...</td>\n",
       "      <td>...</td>\n",
       "      <td>...</td>\n",
       "    </tr>\n",
       "    <tr>\n",
       "      <th>8083</th>\n",
       "      <td>BELÉM</td>\n",
       "      <td>1006.4</td>\n",
       "      <td>31.5</td>\n",
       "      <td>-1.411228</td>\n",
       "      <td>1006.5</td>\n",
       "      <td>PA</td>\n",
       "      <td>709.0</td>\n",
       "      <td>23.6</td>\n",
       "      <td>29.8</td>\n",
       "      <td>-48.439512</td>\n",
       "      <td>...</td>\n",
       "      <td>1.6</td>\n",
       "      <td>22.9</td>\n",
       "      <td>32.2</td>\n",
       "      <td>14.5</td>\n",
       "      <td>4.6</td>\n",
       "      <td>34.0</td>\n",
       "      <td>29.8</td>\n",
       "      <td>69.0</td>\n",
       "      <td>A201</td>\n",
       "      <td>1900</td>\n",
       "    </tr>\n",
       "    <tr>\n",
       "      <th>8084</th>\n",
       "      <td>BELÉM</td>\n",
       "      <td>1007.0</td>\n",
       "      <td>29.3</td>\n",
       "      <td>-1.411228</td>\n",
       "      <td>1007.1</td>\n",
       "      <td>PA</td>\n",
       "      <td>158.4</td>\n",
       "      <td>24.2</td>\n",
       "      <td>26.4</td>\n",
       "      <td>-48.439512</td>\n",
       "      <td>...</td>\n",
       "      <td>1.1</td>\n",
       "      <td>23.4</td>\n",
       "      <td>29.9</td>\n",
       "      <td>13.2</td>\n",
       "      <td>6.6</td>\n",
       "      <td>32.0</td>\n",
       "      <td>26.4</td>\n",
       "      <td>88.0</td>\n",
       "      <td>A201</td>\n",
       "      <td>2000</td>\n",
       "    </tr>\n",
       "    <tr>\n",
       "      <th>8085</th>\n",
       "      <td>BELÉM</td>\n",
       "      <td>1007.3</td>\n",
       "      <td>28.5</td>\n",
       "      <td>-1.411228</td>\n",
       "      <td>1007.4</td>\n",
       "      <td>PA</td>\n",
       "      <td>38.0</td>\n",
       "      <td>23.6</td>\n",
       "      <td>25.6</td>\n",
       "      <td>-48.439512</td>\n",
       "      <td>...</td>\n",
       "      <td>0.8</td>\n",
       "      <td>23.6</td>\n",
       "      <td>26.4</td>\n",
       "      <td>13.1</td>\n",
       "      <td>3.7</td>\n",
       "      <td>29.0</td>\n",
       "      <td>25.6</td>\n",
       "      <td>89.0</td>\n",
       "      <td>A201</td>\n",
       "      <td>2100</td>\n",
       "    </tr>\n",
       "    <tr>\n",
       "      <th>8086</th>\n",
       "      <td>BELÉM</td>\n",
       "      <td>1008.4</td>\n",
       "      <td>28.9</td>\n",
       "      <td>-1.411228</td>\n",
       "      <td>1008.4</td>\n",
       "      <td>PA</td>\n",
       "      <td>2.6</td>\n",
       "      <td>24.0</td>\n",
       "      <td>25.4</td>\n",
       "      <td>-48.439512</td>\n",
       "      <td>...</td>\n",
       "      <td>0.0</td>\n",
       "      <td>23.4</td>\n",
       "      <td>25.7</td>\n",
       "      <td>13.1</td>\n",
       "      <td>2.2</td>\n",
       "      <td>28.0</td>\n",
       "      <td>25.6</td>\n",
       "      <td>91.0</td>\n",
       "      <td>A201</td>\n",
       "      <td>2200</td>\n",
       "    </tr>\n",
       "    <tr>\n",
       "      <th>8087</th>\n",
       "      <td>BELÉM</td>\n",
       "      <td>1008.9</td>\n",
       "      <td>28.4</td>\n",
       "      <td>-1.411228</td>\n",
       "      <td>1008.9</td>\n",
       "      <td>PA</td>\n",
       "      <td>-2.5</td>\n",
       "      <td>23.9</td>\n",
       "      <td>25.1</td>\n",
       "      <td>-48.439512</td>\n",
       "      <td>...</td>\n",
       "      <td>0.0</td>\n",
       "      <td>23.7</td>\n",
       "      <td>25.7</td>\n",
       "      <td>13.0</td>\n",
       "      <td>0.9</td>\n",
       "      <td>27.0</td>\n",
       "      <td>25.1</td>\n",
       "      <td>93.0</td>\n",
       "      <td>A201</td>\n",
       "      <td>2300</td>\n",
       "    </tr>\n",
       "  </tbody>\n",
       "</table>\n",
       "<p>8088 rows × 27 columns</p>\n",
       "</div>"
      ],
      "text/plain": [
       "     DC_NOME  PRE_INS  TEM_SEN  VL_LATITUDE  PRE_MAX  UF  RAD_GLO  PTO_INS  \\\n",
       "0      BELÉM   1011.9      NaN    -1.411228   1011.9  PA      0.8     24.0   \n",
       "1      BELÉM   1012.0      NaN    -1.411228   1012.1  PA      1.8     23.9   \n",
       "2      BELÉM   1012.3      NaN    -1.411228   1012.3  PA     -0.3     23.9   \n",
       "3      BELÉM   1011.5      NaN    -1.411228   1012.4  PA     -1.0     24.0   \n",
       "4      BELÉM   1011.2      NaN    -1.411228   1011.5  PA     -2.5     23.7   \n",
       "...      ...      ...      ...          ...      ...  ..      ...      ...   \n",
       "8083   BELÉM   1006.4     31.5    -1.411228   1006.5  PA    709.0     23.6   \n",
       "8084   BELÉM   1007.0     29.3    -1.411228   1007.1  PA    158.4     24.2   \n",
       "8085   BELÉM   1007.3     28.5    -1.411228   1007.4  PA     38.0     23.6   \n",
       "8086   BELÉM   1008.4     28.9    -1.411228   1008.4  PA      2.6     24.0   \n",
       "8087   BELÉM   1008.9     28.4    -1.411228   1008.9  PA     -2.5     23.9   \n",
       "\n",
       "      TEM_MIN  VL_LONGITUDE  ...  VEN_VEL  PTO_MIN  TEM_MAX TEN_BAT  VEN_RAJ  \\\n",
       "0        23.8    -48.439512  ...      1.1     24.0     24.4    13.1      4.3   \n",
       "1        23.7    -48.439512  ...      0.7     23.8     23.8    13.0      4.2   \n",
       "2        23.6    -48.439512  ...      0.0     23.8     24.0    13.0      3.8   \n",
       "3        23.6    -48.439512  ...      0.2     23.9     23.9    13.0      1.7   \n",
       "4        23.3    -48.439512  ...      0.0     23.7     23.6    13.0      1.6   \n",
       "...       ...           ...  ...      ...      ...      ...     ...      ...   \n",
       "8083     29.8    -48.439512  ...      1.6     22.9     32.2    14.5      4.6   \n",
       "8084     26.4    -48.439512  ...      1.1     23.4     29.9    13.2      6.6   \n",
       "8085     25.6    -48.439512  ...      0.8     23.6     26.4    13.1      3.7   \n",
       "8086     25.4    -48.439512  ...      0.0     23.4     25.7    13.1      2.2   \n",
       "8087     25.1    -48.439512  ...      0.0     23.7     25.7    13.0      0.9   \n",
       "\n",
       "      TEM_CPU  TEM_INS  UMD_INS  CD_ESTACAO  HR_MEDICAO  \n",
       "0        26.0     23.8      NaN        A201           0  \n",
       "1        26.0     23.8      NaN        A201         100  \n",
       "2        25.0     23.7      NaN        A201         200  \n",
       "3        25.0     23.6      NaN        A201         300  \n",
       "4        25.0     23.3      NaN        A201         400  \n",
       "...       ...      ...      ...         ...         ...  \n",
       "8083     34.0     29.8     69.0        A201        1900  \n",
       "8084     32.0     26.4     88.0        A201        2000  \n",
       "8085     29.0     25.6     89.0        A201        2100  \n",
       "8086     28.0     25.6     91.0        A201        2200  \n",
       "8087     27.0     25.1     93.0        A201        2300  \n",
       "\n",
       "[8088 rows x 27 columns]"
      ]
     },
     "execution_count": 615,
     "metadata": {},
     "output_type": "execute_result"
    }
   ],
   "source": [
    "dados_tabla = pd.read_json(dados_str)\n",
    "dados_tabla\n"
   ]
  },
  {
   "cell_type": "code",
   "execution_count": 616,
   "metadata": {
    "colab": {
     "base_uri": "https://localhost:8080/",
     "height": 424
    },
    "executionInfo": {
     "elapsed": 12,
     "status": "ok",
     "timestamp": 1654775303962,
     "user": {
      "displayName": "Prince Nyarko",
      "userId": "02482838485601494345"
     },
     "user_tz": 180
    },
    "id": "qWYgdsHyGBVB",
    "outputId": "caa3785e-cb7f-47ff-8e6c-5e641bba03f3"
   },
   "outputs": [
    {
     "data": {
      "text/html": [
       "<div>\n",
       "<style scoped>\n",
       "    .dataframe tbody tr th:only-of-type {\n",
       "        vertical-align: middle;\n",
       "    }\n",
       "\n",
       "    .dataframe tbody tr th {\n",
       "        vertical-align: top;\n",
       "    }\n",
       "\n",
       "    .dataframe thead th {\n",
       "        text-align: right;\n",
       "    }\n",
       "</style>\n",
       "<table border=\"1\" class=\"dataframe\">\n",
       "  <thead>\n",
       "    <tr style=\"text-align: right;\">\n",
       "      <th></th>\n",
       "      <th>DT_MEDICAO</th>\n",
       "      <th>HR_MEDICAO</th>\n",
       "      <th>TEM_INS</th>\n",
       "      <th>UMD_INS</th>\n",
       "      <th>RAD_GLO</th>\n",
       "    </tr>\n",
       "  </thead>\n",
       "  <tbody>\n",
       "    <tr>\n",
       "      <th>0</th>\n",
       "      <td>2021-07-07</td>\n",
       "      <td>0</td>\n",
       "      <td>23.8</td>\n",
       "      <td>NaN</td>\n",
       "      <td>0.8</td>\n",
       "    </tr>\n",
       "    <tr>\n",
       "      <th>1</th>\n",
       "      <td>2021-07-07</td>\n",
       "      <td>100</td>\n",
       "      <td>23.8</td>\n",
       "      <td>NaN</td>\n",
       "      <td>1.8</td>\n",
       "    </tr>\n",
       "    <tr>\n",
       "      <th>2</th>\n",
       "      <td>2021-07-07</td>\n",
       "      <td>200</td>\n",
       "      <td>23.7</td>\n",
       "      <td>NaN</td>\n",
       "      <td>-0.3</td>\n",
       "    </tr>\n",
       "    <tr>\n",
       "      <th>3</th>\n",
       "      <td>2021-07-07</td>\n",
       "      <td>300</td>\n",
       "      <td>23.6</td>\n",
       "      <td>NaN</td>\n",
       "      <td>-1.0</td>\n",
       "    </tr>\n",
       "    <tr>\n",
       "      <th>4</th>\n",
       "      <td>2021-07-07</td>\n",
       "      <td>400</td>\n",
       "      <td>23.3</td>\n",
       "      <td>NaN</td>\n",
       "      <td>-2.5</td>\n",
       "    </tr>\n",
       "    <tr>\n",
       "      <th>...</th>\n",
       "      <td>...</td>\n",
       "      <td>...</td>\n",
       "      <td>...</td>\n",
       "      <td>...</td>\n",
       "      <td>...</td>\n",
       "    </tr>\n",
       "    <tr>\n",
       "      <th>8083</th>\n",
       "      <td>2022-06-08</td>\n",
       "      <td>1900</td>\n",
       "      <td>29.8</td>\n",
       "      <td>69.0</td>\n",
       "      <td>709.0</td>\n",
       "    </tr>\n",
       "    <tr>\n",
       "      <th>8084</th>\n",
       "      <td>2022-06-08</td>\n",
       "      <td>2000</td>\n",
       "      <td>26.4</td>\n",
       "      <td>88.0</td>\n",
       "      <td>158.4</td>\n",
       "    </tr>\n",
       "    <tr>\n",
       "      <th>8085</th>\n",
       "      <td>2022-06-08</td>\n",
       "      <td>2100</td>\n",
       "      <td>25.6</td>\n",
       "      <td>89.0</td>\n",
       "      <td>38.0</td>\n",
       "    </tr>\n",
       "    <tr>\n",
       "      <th>8086</th>\n",
       "      <td>2022-06-08</td>\n",
       "      <td>2200</td>\n",
       "      <td>25.6</td>\n",
       "      <td>91.0</td>\n",
       "      <td>2.6</td>\n",
       "    </tr>\n",
       "    <tr>\n",
       "      <th>8087</th>\n",
       "      <td>2022-06-08</td>\n",
       "      <td>2300</td>\n",
       "      <td>25.1</td>\n",
       "      <td>93.0</td>\n",
       "      <td>-2.5</td>\n",
       "    </tr>\n",
       "  </tbody>\n",
       "</table>\n",
       "<p>8088 rows × 5 columns</p>\n",
       "</div>"
      ],
      "text/plain": [
       "      DT_MEDICAO  HR_MEDICAO  TEM_INS  UMD_INS  RAD_GLO\n",
       "0     2021-07-07           0     23.8      NaN      0.8\n",
       "1     2021-07-07         100     23.8      NaN      1.8\n",
       "2     2021-07-07         200     23.7      NaN     -0.3\n",
       "3     2021-07-07         300     23.6      NaN     -1.0\n",
       "4     2021-07-07         400     23.3      NaN     -2.5\n",
       "...          ...         ...      ...      ...      ...\n",
       "8083  2022-06-08        1900     29.8     69.0    709.0\n",
       "8084  2022-06-08        2000     26.4     88.0    158.4\n",
       "8085  2022-06-08        2100     25.6     89.0     38.0\n",
       "8086  2022-06-08        2200     25.6     91.0      2.6\n",
       "8087  2022-06-08        2300     25.1     93.0     -2.5\n",
       "\n",
       "[8088 rows x 5 columns]"
      ]
     },
     "execution_count": 616,
     "metadata": {},
     "output_type": "execute_result"
    }
   ],
   "source": [
    "dados = dados_tabla[['DT_MEDICAO', 'HR_MEDICAO', 'TEM_INS', 'UMD_INS', 'RAD_GLO']]\n",
    "dados"
   ]
  },
  {
   "cell_type": "markdown",
   "metadata": {
    "id": "YgXSxnmPGBVC"
   },
   "source": [
    "# Renomia o titulo do nosso dados"
   ]
  },
  {
   "cell_type": "code",
   "execution_count": 617,
   "metadata": {
    "executionInfo": {
     "elapsed": 9,
     "status": "ok",
     "timestamp": 1654775303962,
     "user": {
      "displayName": "Prince Nyarko",
      "userId": "02482838485601494345"
     },
     "user_tz": 180
    },
    "id": "rKDBPYuTGBVD"
   },
   "outputs": [],
   "source": [
    "dados.columns = ['DATA','HORARIO', 'TEMPERATURA', 'UMIDADE', 'RADIACAO']"
   ]
  },
  {
   "cell_type": "code",
   "execution_count": 618,
   "metadata": {
    "colab": {
     "base_uri": "https://localhost:8080/",
     "height": 424
    },
    "executionInfo": {
     "elapsed": 9,
     "status": "ok",
     "timestamp": 1654775303962,
     "user": {
      "displayName": "Prince Nyarko",
      "userId": "02482838485601494345"
     },
     "user_tz": 180
    },
    "id": "anFfGrDYGBVD",
    "outputId": "c5d87ca2-c798-405e-e990-1c981d211861"
   },
   "outputs": [
    {
     "data": {
      "text/html": [
       "<div>\n",
       "<style scoped>\n",
       "    .dataframe tbody tr th:only-of-type {\n",
       "        vertical-align: middle;\n",
       "    }\n",
       "\n",
       "    .dataframe tbody tr th {\n",
       "        vertical-align: top;\n",
       "    }\n",
       "\n",
       "    .dataframe thead th {\n",
       "        text-align: right;\n",
       "    }\n",
       "</style>\n",
       "<table border=\"1\" class=\"dataframe\">\n",
       "  <thead>\n",
       "    <tr style=\"text-align: right;\">\n",
       "      <th></th>\n",
       "      <th>DATA</th>\n",
       "      <th>HORARIO</th>\n",
       "      <th>TEMPERATURA</th>\n",
       "      <th>UMIDADE</th>\n",
       "      <th>RADIACAO</th>\n",
       "    </tr>\n",
       "  </thead>\n",
       "  <tbody>\n",
       "    <tr>\n",
       "      <th>0</th>\n",
       "      <td>2021-07-07</td>\n",
       "      <td>0</td>\n",
       "      <td>23.8</td>\n",
       "      <td>NaN</td>\n",
       "      <td>0.8</td>\n",
       "    </tr>\n",
       "    <tr>\n",
       "      <th>1</th>\n",
       "      <td>2021-07-07</td>\n",
       "      <td>100</td>\n",
       "      <td>23.8</td>\n",
       "      <td>NaN</td>\n",
       "      <td>1.8</td>\n",
       "    </tr>\n",
       "    <tr>\n",
       "      <th>2</th>\n",
       "      <td>2021-07-07</td>\n",
       "      <td>200</td>\n",
       "      <td>23.7</td>\n",
       "      <td>NaN</td>\n",
       "      <td>-0.3</td>\n",
       "    </tr>\n",
       "    <tr>\n",
       "      <th>3</th>\n",
       "      <td>2021-07-07</td>\n",
       "      <td>300</td>\n",
       "      <td>23.6</td>\n",
       "      <td>NaN</td>\n",
       "      <td>-1.0</td>\n",
       "    </tr>\n",
       "    <tr>\n",
       "      <th>4</th>\n",
       "      <td>2021-07-07</td>\n",
       "      <td>400</td>\n",
       "      <td>23.3</td>\n",
       "      <td>NaN</td>\n",
       "      <td>-2.5</td>\n",
       "    </tr>\n",
       "    <tr>\n",
       "      <th>...</th>\n",
       "      <td>...</td>\n",
       "      <td>...</td>\n",
       "      <td>...</td>\n",
       "      <td>...</td>\n",
       "      <td>...</td>\n",
       "    </tr>\n",
       "    <tr>\n",
       "      <th>8083</th>\n",
       "      <td>2022-06-08</td>\n",
       "      <td>1900</td>\n",
       "      <td>29.8</td>\n",
       "      <td>69.0</td>\n",
       "      <td>709.0</td>\n",
       "    </tr>\n",
       "    <tr>\n",
       "      <th>8084</th>\n",
       "      <td>2022-06-08</td>\n",
       "      <td>2000</td>\n",
       "      <td>26.4</td>\n",
       "      <td>88.0</td>\n",
       "      <td>158.4</td>\n",
       "    </tr>\n",
       "    <tr>\n",
       "      <th>8085</th>\n",
       "      <td>2022-06-08</td>\n",
       "      <td>2100</td>\n",
       "      <td>25.6</td>\n",
       "      <td>89.0</td>\n",
       "      <td>38.0</td>\n",
       "    </tr>\n",
       "    <tr>\n",
       "      <th>8086</th>\n",
       "      <td>2022-06-08</td>\n",
       "      <td>2200</td>\n",
       "      <td>25.6</td>\n",
       "      <td>91.0</td>\n",
       "      <td>2.6</td>\n",
       "    </tr>\n",
       "    <tr>\n",
       "      <th>8087</th>\n",
       "      <td>2022-06-08</td>\n",
       "      <td>2300</td>\n",
       "      <td>25.1</td>\n",
       "      <td>93.0</td>\n",
       "      <td>-2.5</td>\n",
       "    </tr>\n",
       "  </tbody>\n",
       "</table>\n",
       "<p>8088 rows × 5 columns</p>\n",
       "</div>"
      ],
      "text/plain": [
       "            DATA  HORARIO  TEMPERATURA  UMIDADE  RADIACAO\n",
       "0     2021-07-07        0         23.8      NaN       0.8\n",
       "1     2021-07-07      100         23.8      NaN       1.8\n",
       "2     2021-07-07      200         23.7      NaN      -0.3\n",
       "3     2021-07-07      300         23.6      NaN      -1.0\n",
       "4     2021-07-07      400         23.3      NaN      -2.5\n",
       "...          ...      ...          ...      ...       ...\n",
       "8083  2022-06-08     1900         29.8     69.0     709.0\n",
       "8084  2022-06-08     2000         26.4     88.0     158.4\n",
       "8085  2022-06-08     2100         25.6     89.0      38.0\n",
       "8086  2022-06-08     2200         25.6     91.0       2.6\n",
       "8087  2022-06-08     2300         25.1     93.0      -2.5\n",
       "\n",
       "[8088 rows x 5 columns]"
      ]
     },
     "execution_count": 618,
     "metadata": {},
     "output_type": "execute_result"
    }
   ],
   "source": [
    "dados"
   ]
  },
  {
   "cell_type": "code",
   "execution_count": 619,
   "metadata": {
    "colab": {
     "base_uri": "https://localhost:8080/",
     "height": 495
    },
    "executionInfo": {
     "elapsed": 802,
     "status": "ok",
     "timestamp": 1654775304756,
     "user": {
      "displayName": "Prince Nyarko",
      "userId": "02482838485601494345"
     },
     "user_tz": 180
    },
    "id": "tq-Nx-vQGBVE",
    "outputId": "5706de3a-78d6-4fe6-ebbb-ba133a55f300"
   },
   "outputs": [
    {
     "data": {
      "text/plain": [
       "<AxesSubplot:title={'center':'TEMPERATURA'}, xlabel='HORARIO'>"
      ]
     },
     "execution_count": 619,
     "metadata": {},
     "output_type": "execute_result"
    },
    {
     "data": {
      "image/png": "[encoded data removed]",
      "text/plain": [
       "<Figure size 1728x432 with 1 Axes>"
      ]
     },
     "metadata": {
      "needs_background": "light"
     },
     "output_type": "display_data"
    }
   ],
   "source": [
    "dados.boxplot(\"TEMPERATURA\", by='HORARIO', figsize=(24,6))"
   ]
  },
  {
   "cell_type": "code",
   "execution_count": 620,
   "metadata": {
    "colab": {
     "base_uri": "https://localhost:8080/",
     "height": 495
    },
    "executionInfo": {
     "elapsed": 394,
     "status": "ok",
     "timestamp": 1654775305143,
     "user": {
      "displayName": "Prince Nyarko",
      "userId": "02482838485601494345"
     },
     "user_tz": 180
    },
    "id": "3dLwhVHIGBVF",
    "outputId": "f5d1819f-ebc7-4dc5-a857-5aeeaa6df523"
   },
   "outputs": [
    {
     "data": {
      "text/plain": [
       "<AxesSubplot:title={'center':'UMIDADE'}, xlabel='HORARIO'>"
      ]
     },
     "execution_count": 620,
     "metadata": {},
     "output_type": "execute_result"
    },
    {
     "data": {
      "image/png": "[encoded data removed]",
      "text/plain": [
       "<Figure size 1728x432 with 1 Axes>"
      ]
     },
     "metadata": {
      "needs_background": "light"
     },
     "output_type": "display_data"
    }
   ],
   "source": [
    "dados.boxplot(\"UMIDADE\", by='HORARIO', figsize=(24,6))"
   ]
  },
  {
   "cell_type": "code",
   "execution_count": 621,
   "metadata": {
    "colab": {
     "base_uri": "https://localhost:8080/",
     "height": 495
    },
    "executionInfo": {
     "elapsed": 787,
     "status": "ok",
     "timestamp": 1654775305927,
     "user": {
      "displayName": "Prince Nyarko",
      "userId": "02482838485601494345"
     },
     "user_tz": 180
    },
    "id": "ZPM-TV2HGBVG",
    "outputId": "94d357f3-f127-4e0d-b2f2-2d9a6c3de708"
   },
   "outputs": [
    {
     "data": {
      "text/plain": [
       "<AxesSubplot:title={'center':'RADIACAO'}, xlabel='HORARIO'>"
      ]
     },
     "execution_count": 621,
     "metadata": {},
     "output_type": "execute_result"
    },
    {
     "data": {
      "image/png": "[encoded data removed]",
      "text/plain": [
       "<Figure size 1728x432 with 1 Axes>"
      ]
     },
     "metadata": {
      "needs_background": "light"
     },
     "output_type": "display_data"
    }
   ],
   "source": [
    "dados.boxplot(\"RADIACAO\", by='HORARIO', figsize=(24,6))"
   ]
  },
  {
   "cell_type": "markdown",
   "metadata": {
    "id": "C_wjTtG3GBVH"
   },
   "source": [
    "# Verificando a suma de dados null "
   ]
  },
  {
   "cell_type": "code",
   "execution_count": 622,
   "metadata": {
    "colab": {
     "base_uri": "https://localhost:8080/"
    },
    "executionInfo": {
     "elapsed": 35,
     "status": "ok",
     "timestamp": 1654775305928,
     "user": {
      "displayName": "Prince Nyarko",
      "userId": "02482838485601494345"
     },
     "user_tz": 180
    },
    "id": "xRyPpWDGGBVH",
    "outputId": "ada4481a-3d51-4bcc-d2ab-da53c753bbdf"
   },
   "outputs": [
    {
     "data": {
      "text/plain": [
       "DATA           0.000000\n",
       "HORARIO        0.000000\n",
       "TEMPERATURA    0.011251\n",
       "UMIDADE        0.015084\n",
       "RADIACAO       0.011251\n",
       "dtype: float64"
      ]
     },
     "execution_count": 622,
     "metadata": {},
     "output_type": "execute_result"
    }
   ],
   "source": [
    "dados.apply(pd.isnull).sum()/dados.shape[0]"
   ]
  },
  {
   "cell_type": "code",
   "execution_count": 623,
   "metadata": {
    "colab": {
     "base_uri": "https://localhost:8080/",
     "height": 424
    },
    "executionInfo": {
     "elapsed": 31,
     "status": "ok",
     "timestamp": 1654775305929,
     "user": {
      "displayName": "Prince Nyarko",
      "userId": "02482838485601494345"
     },
     "user_tz": 180
    },
    "id": "P0c1iVO-GBVI",
    "outputId": "b0f7f711-f8c4-4c96-fbe9-a1352f2833ed"
   },
   "outputs": [
    {
     "data": {
      "text/html": [
       "<div>\n",
       "<style scoped>\n",
       "    .dataframe tbody tr th:only-of-type {\n",
       "        vertical-align: middle;\n",
       "    }\n",
       "\n",
       "    .dataframe tbody tr th {\n",
       "        vertical-align: top;\n",
       "    }\n",
       "\n",
       "    .dataframe thead th {\n",
       "        text-align: right;\n",
       "    }\n",
       "</style>\n",
       "<table border=\"1\" class=\"dataframe\">\n",
       "  <thead>\n",
       "    <tr style=\"text-align: right;\">\n",
       "      <th></th>\n",
       "      <th>DATA</th>\n",
       "      <th>HORARIO</th>\n",
       "      <th>TEMPERATURA</th>\n",
       "      <th>UMIDADE</th>\n",
       "      <th>RADIACAO</th>\n",
       "    </tr>\n",
       "  </thead>\n",
       "  <tbody>\n",
       "    <tr>\n",
       "      <th>2000</th>\n",
       "      <td>2021-09-28</td>\n",
       "      <td>800</td>\n",
       "      <td>NaN</td>\n",
       "      <td>NaN</td>\n",
       "      <td>NaN</td>\n",
       "    </tr>\n",
       "    <tr>\n",
       "      <th>2001</th>\n",
       "      <td>2021-09-28</td>\n",
       "      <td>900</td>\n",
       "      <td>NaN</td>\n",
       "      <td>NaN</td>\n",
       "      <td>NaN</td>\n",
       "    </tr>\n",
       "    <tr>\n",
       "      <th>2002</th>\n",
       "      <td>2021-09-28</td>\n",
       "      <td>1000</td>\n",
       "      <td>NaN</td>\n",
       "      <td>NaN</td>\n",
       "      <td>NaN</td>\n",
       "    </tr>\n",
       "    <tr>\n",
       "      <th>2003</th>\n",
       "      <td>2021-09-28</td>\n",
       "      <td>1100</td>\n",
       "      <td>NaN</td>\n",
       "      <td>NaN</td>\n",
       "      <td>NaN</td>\n",
       "    </tr>\n",
       "    <tr>\n",
       "      <th>2004</th>\n",
       "      <td>2021-09-28</td>\n",
       "      <td>1200</td>\n",
       "      <td>NaN</td>\n",
       "      <td>NaN</td>\n",
       "      <td>NaN</td>\n",
       "    </tr>\n",
       "    <tr>\n",
       "      <th>...</th>\n",
       "      <td>...</td>\n",
       "      <td>...</td>\n",
       "      <td>...</td>\n",
       "      <td>...</td>\n",
       "      <td>...</td>\n",
       "    </tr>\n",
       "    <tr>\n",
       "      <th>5711</th>\n",
       "      <td>2022-03-01</td>\n",
       "      <td>2300</td>\n",
       "      <td>NaN</td>\n",
       "      <td>NaN</td>\n",
       "      <td>NaN</td>\n",
       "    </tr>\n",
       "    <tr>\n",
       "      <th>5761</th>\n",
       "      <td>2022-03-04</td>\n",
       "      <td>100</td>\n",
       "      <td>NaN</td>\n",
       "      <td>NaN</td>\n",
       "      <td>NaN</td>\n",
       "    </tr>\n",
       "    <tr>\n",
       "      <th>5858</th>\n",
       "      <td>2022-03-08</td>\n",
       "      <td>200</td>\n",
       "      <td>NaN</td>\n",
       "      <td>NaN</td>\n",
       "      <td>NaN</td>\n",
       "    </tr>\n",
       "    <tr>\n",
       "      <th>5953</th>\n",
       "      <td>2022-03-12</td>\n",
       "      <td>100</td>\n",
       "      <td>NaN</td>\n",
       "      <td>NaN</td>\n",
       "      <td>NaN</td>\n",
       "    </tr>\n",
       "    <tr>\n",
       "      <th>6119</th>\n",
       "      <td>2022-03-18</td>\n",
       "      <td>2300</td>\n",
       "      <td>NaN</td>\n",
       "      <td>NaN</td>\n",
       "      <td>NaN</td>\n",
       "    </tr>\n",
       "  </tbody>\n",
       "</table>\n",
       "<p>91 rows × 5 columns</p>\n",
       "</div>"
      ],
      "text/plain": [
       "            DATA  HORARIO  TEMPERATURA  UMIDADE  RADIACAO\n",
       "2000  2021-09-28      800          NaN      NaN       NaN\n",
       "2001  2021-09-28      900          NaN      NaN       NaN\n",
       "2002  2021-09-28     1000          NaN      NaN       NaN\n",
       "2003  2021-09-28     1100          NaN      NaN       NaN\n",
       "2004  2021-09-28     1200          NaN      NaN       NaN\n",
       "...          ...      ...          ...      ...       ...\n",
       "5711  2022-03-01     2300          NaN      NaN       NaN\n",
       "5761  2022-03-04      100          NaN      NaN       NaN\n",
       "5858  2022-03-08      200          NaN      NaN       NaN\n",
       "5953  2022-03-12      100          NaN      NaN       NaN\n",
       "6119  2022-03-18     2300          NaN      NaN       NaN\n",
       "\n",
       "[91 rows x 5 columns]"
      ]
     },
     "execution_count": 623,
     "metadata": {},
     "output_type": "execute_result"
    }
   ],
   "source": [
    "dados[pd.isnull(dados['TEMPERATURA'])]"
   ]
  },
  {
   "cell_type": "code",
   "execution_count": 624,
   "metadata": {
    "executionInfo": {
     "elapsed": 29,
     "status": "ok",
     "timestamp": 1654775305929,
     "user": {
      "displayName": "Prince Nyarko",
      "userId": "02482838485601494345"
     },
     "user_tz": 180
    },
    "id": "CZh25vwNGBVI"
   },
   "outputs": [],
   "source": [
    "dados = dados.fillna(method='ffill')"
   ]
  },
  {
   "cell_type": "code",
   "execution_count": 625,
   "metadata": {
    "colab": {
     "base_uri": "https://localhost:8080/"
    },
    "executionInfo": {
     "elapsed": 29,
     "status": "ok",
     "timestamp": 1654775305929,
     "user": {
      "displayName": "Prince Nyarko",
      "userId": "02482838485601494345"
     },
     "user_tz": 180
    },
    "id": "vyN63yoqGBVJ",
    "outputId": "07352a5b-9428-4a48-cc3d-fa531c96f7eb"
   },
   "outputs": [
    {
     "data": {
      "text/plain": [
       "DATA           0.00000\n",
       "HORARIO        0.00000\n",
       "TEMPERATURA    0.00000\n",
       "UMIDADE        0.00136\n",
       "RADIACAO       0.00000\n",
       "dtype: float64"
      ]
     },
     "execution_count": 625,
     "metadata": {},
     "output_type": "execute_result"
    }
   ],
   "source": [
    "dados.apply(pd.isnull).sum()/dados.shape[0]"
   ]
  },
  {
   "cell_type": "markdown",
   "metadata": {
    "id": "P0yEFmIUGBVJ"
   },
   "source": [
    "# verificando se nosso dados são numéricos"
   ]
  },
  {
   "cell_type": "code",
   "execution_count": 626,
   "metadata": {
    "colab": {
     "base_uri": "https://localhost:8080/"
    },
    "executionInfo": {
     "elapsed": 26,
     "status": "ok",
     "timestamp": 1654775305930,
     "user": {
      "displayName": "Prince Nyarko",
      "userId": "02482838485601494345"
     },
     "user_tz": 180
    },
    "id": "pM25jQ5yGBVJ",
    "outputId": "820de539-8931-45b2-f4e9-b9635a7babc5"
   },
   "outputs": [
    {
     "data": {
      "text/plain": [
       "DATA            object\n",
       "HORARIO          int64\n",
       "TEMPERATURA    float64\n",
       "UMIDADE        float64\n",
       "RADIACAO       float64\n",
       "dtype: object"
      ]
     },
     "execution_count": 626,
     "metadata": {},
     "output_type": "execute_result"
    }
   ],
   "source": [
    "dados.dtypes"
   ]
  },
  {
   "cell_type": "code",
   "execution_count": 627,
   "metadata": {
    "colab": {
     "base_uri": "https://localhost:8080/",
     "height": 392
    },
    "executionInfo": {
     "elapsed": 1131,
     "status": "ok",
     "timestamp": 1654775307038,
     "user": {
      "displayName": "Prince Nyarko",
      "userId": "02482838485601494345"
     },
     "user_tz": 180
    },
    "id": "ttYXjMHlGBVK",
    "outputId": "ac64b29a-1524-476c-d446-306a52719c3f"
   },
   "outputs": [
    {
     "data": {
      "text/plain": [
       "<AxesSubplot:>"
      ]
     },
     "execution_count": 627,
     "metadata": {},
     "output_type": "execute_result"
    },
    {
     "data": {
      "image/png": "[encoded data removed]",
      "text/plain": [
       "<Figure size 1872x432 with 1 Axes>"
      ]
     },
     "metadata": {
      "needs_background": "light"
     },
     "output_type": "display_data"
    }
   ],
   "source": [
    "dados[['TEMPERATURA']].plot(figsize=(26,6))"
   ]
  },
  {
   "cell_type": "markdown",
   "metadata": {
    "id": "bny6ElU2GBVK"
   },
   "source": [
    "# Agrupando os dados por horário"
   ]
  },
  {
   "cell_type": "code",
   "execution_count": 628,
   "metadata": {
    "colab": {
     "base_uri": "https://localhost:8080/",
     "height": 833
    },
    "executionInfo": {
     "elapsed": 18,
     "status": "ok",
     "timestamp": 1654775307038,
     "user": {
      "displayName": "Prince Nyarko",
      "userId": "02482838485601494345"
     },
     "user_tz": 180
    },
    "id": "Xm2__H7_GBVL",
    "outputId": "0f3746de-a231-44a6-dd25-8f794d5c6514"
   },
   "outputs": [
    {
     "data": {
      "text/html": [
       "<div>\n",
       "<style scoped>\n",
       "    .dataframe tbody tr th:only-of-type {\n",
       "        vertical-align: middle;\n",
       "    }\n",
       "\n",
       "    .dataframe tbody tr th {\n",
       "        vertical-align: top;\n",
       "    }\n",
       "\n",
       "    .dataframe thead th {\n",
       "        text-align: right;\n",
       "    }\n",
       "</style>\n",
       "<table border=\"1\" class=\"dataframe\">\n",
       "  <thead>\n",
       "    <tr style=\"text-align: right;\">\n",
       "      <th></th>\n",
       "      <th>TEMPERATURA</th>\n",
       "      <th>UMIDADE</th>\n",
       "      <th>RADIACAO</th>\n",
       "    </tr>\n",
       "    <tr>\n",
       "      <th>HORARIO</th>\n",
       "      <th></th>\n",
       "      <th></th>\n",
       "      <th></th>\n",
       "    </tr>\n",
       "  </thead>\n",
       "  <tbody>\n",
       "    <tr>\n",
       "      <th>0</th>\n",
       "      <td>8547.4</td>\n",
       "      <td>30267.0</td>\n",
       "      <td>-344.7</td>\n",
       "    </tr>\n",
       "    <tr>\n",
       "      <th>100</th>\n",
       "      <td>8485.9</td>\n",
       "      <td>30589.0</td>\n",
       "      <td>-459.9</td>\n",
       "    </tr>\n",
       "    <tr>\n",
       "      <th>200</th>\n",
       "      <td>8414.1</td>\n",
       "      <td>30939.0</td>\n",
       "      <td>-530.2</td>\n",
       "    </tr>\n",
       "    <tr>\n",
       "      <th>300</th>\n",
       "      <td>8348.3</td>\n",
       "      <td>31248.0</td>\n",
       "      <td>-608.8</td>\n",
       "    </tr>\n",
       "    <tr>\n",
       "      <th>400</th>\n",
       "      <td>8281.6</td>\n",
       "      <td>31508.0</td>\n",
       "      <td>-626.4</td>\n",
       "    </tr>\n",
       "    <tr>\n",
       "      <th>500</th>\n",
       "      <td>8220.2</td>\n",
       "      <td>31714.0</td>\n",
       "      <td>-649.5</td>\n",
       "    </tr>\n",
       "    <tr>\n",
       "      <th>600</th>\n",
       "      <td>8170.1</td>\n",
       "      <td>31895.0</td>\n",
       "      <td>-654.9</td>\n",
       "    </tr>\n",
       "    <tr>\n",
       "      <th>700</th>\n",
       "      <td>8121.4</td>\n",
       "      <td>32031.0</td>\n",
       "      <td>-653.2</td>\n",
       "    </tr>\n",
       "    <tr>\n",
       "      <th>800</th>\n",
       "      <td>8079.6</td>\n",
       "      <td>32149.0</td>\n",
       "      <td>-657.7</td>\n",
       "    </tr>\n",
       "    <tr>\n",
       "      <th>900</th>\n",
       "      <td>8049.8</td>\n",
       "      <td>32225.0</td>\n",
       "      <td>-441.1</td>\n",
       "    </tr>\n",
       "    <tr>\n",
       "      <th>1000</th>\n",
       "      <td>8251.8</td>\n",
       "      <td>31931.0</td>\n",
       "      <td>23499.4</td>\n",
       "    </tr>\n",
       "    <tr>\n",
       "      <th>1100</th>\n",
       "      <td>8900.5</td>\n",
       "      <td>29738.0</td>\n",
       "      <td>134209.8</td>\n",
       "    </tr>\n",
       "    <tr>\n",
       "      <th>1200</th>\n",
       "      <td>9584.3</td>\n",
       "      <td>26980.0</td>\n",
       "      <td>356908.9</td>\n",
       "    </tr>\n",
       "    <tr>\n",
       "      <th>1300</th>\n",
       "      <td>10020.7</td>\n",
       "      <td>24935.0</td>\n",
       "      <td>534800.6</td>\n",
       "    </tr>\n",
       "    <tr>\n",
       "      <th>1400</th>\n",
       "      <td>10299.5</td>\n",
       "      <td>23755.0</td>\n",
       "      <td>680039.2</td>\n",
       "    </tr>\n",
       "    <tr>\n",
       "      <th>1500</th>\n",
       "      <td>10462.2</td>\n",
       "      <td>23180.0</td>\n",
       "      <td>747979.9</td>\n",
       "    </tr>\n",
       "    <tr>\n",
       "      <th>1600</th>\n",
       "      <td>10465.4</td>\n",
       "      <td>23071.0</td>\n",
       "      <td>773066.7</td>\n",
       "    </tr>\n",
       "    <tr>\n",
       "      <th>1700</th>\n",
       "      <td>10270.2</td>\n",
       "      <td>23883.0</td>\n",
       "      <td>655582.6</td>\n",
       "    </tr>\n",
       "    <tr>\n",
       "      <th>1800</th>\n",
       "      <td>9901.6</td>\n",
       "      <td>25393.0</td>\n",
       "      <td>487551.3</td>\n",
       "    </tr>\n",
       "    <tr>\n",
       "      <th>1900</th>\n",
       "      <td>9611.8</td>\n",
       "      <td>26434.0</td>\n",
       "      <td>320062.4</td>\n",
       "    </tr>\n",
       "    <tr>\n",
       "      <th>2000</th>\n",
       "      <td>9371.4</td>\n",
       "      <td>27250.0</td>\n",
       "      <td>183293.7</td>\n",
       "    </tr>\n",
       "    <tr>\n",
       "      <th>2100</th>\n",
       "      <td>9009.8</td>\n",
       "      <td>28530.0</td>\n",
       "      <td>59036.0</td>\n",
       "    </tr>\n",
       "    <tr>\n",
       "      <th>2200</th>\n",
       "      <td>8748.1</td>\n",
       "      <td>29638.0</td>\n",
       "      <td>3704.0</td>\n",
       "    </tr>\n",
       "    <tr>\n",
       "      <th>2300</th>\n",
       "      <td>8620.7</td>\n",
       "      <td>30020.0</td>\n",
       "      <td>-125.9</td>\n",
       "    </tr>\n",
       "  </tbody>\n",
       "</table>\n",
       "</div>"
      ],
      "text/plain": [
       "         TEMPERATURA  UMIDADE  RADIACAO\n",
       "HORARIO                                \n",
       "0             8547.4  30267.0    -344.7\n",
       "100           8485.9  30589.0    -459.9\n",
       "200           8414.1  30939.0    -530.2\n",
       "300           8348.3  31248.0    -608.8\n",
       "400           8281.6  31508.0    -626.4\n",
       "500           8220.2  31714.0    -649.5\n",
       "600           8170.1  31895.0    -654.9\n",
       "700           8121.4  32031.0    -653.2\n",
       "800           8079.6  32149.0    -657.7\n",
       "900           8049.8  32225.0    -441.1\n",
       "1000          8251.8  31931.0   23499.4\n",
       "1100          8900.5  29738.0  134209.8\n",
       "1200          9584.3  26980.0  356908.9\n",
       "1300         10020.7  24935.0  534800.6\n",
       "1400         10299.5  23755.0  680039.2\n",
       "1500         10462.2  23180.0  747979.9\n",
       "1600         10465.4  23071.0  773066.7\n",
       "1700         10270.2  23883.0  655582.6\n",
       "1800          9901.6  25393.0  487551.3\n",
       "1900          9611.8  26434.0  320062.4\n",
       "2000          9371.4  27250.0  183293.7\n",
       "2100          9009.8  28530.0   59036.0\n",
       "2200          8748.1  29638.0    3704.0\n",
       "2300          8620.7  30020.0    -125.9"
      ]
     },
     "execution_count": 628,
     "metadata": {},
     "output_type": "execute_result"
    }
   ],
   "source": [
    "dados.groupby(dados.HORARIO).sum()"
   ]
  },
  {
   "cell_type": "code",
   "execution_count": 629,
   "metadata": {
    "colab": {
     "base_uri": "https://localhost:8080/",
     "height": 424
    },
    "executionInfo": {
     "elapsed": 17,
     "status": "ok",
     "timestamp": 1654775307038,
     "user": {
      "displayName": "Prince Nyarko",
      "userId": "02482838485601494345"
     },
     "user_tz": 180
    },
    "id": "0tYYu9jyGBVL",
    "outputId": "c0fc82e8-3a64-4c06-b336-eac10231294a"
   },
   "outputs": [
    {
     "data": {
      "text/html": [
       "<div>\n",
       "<style scoped>\n",
       "    .dataframe tbody tr th:only-of-type {\n",
       "        vertical-align: middle;\n",
       "    }\n",
       "\n",
       "    .dataframe tbody tr th {\n",
       "        vertical-align: top;\n",
       "    }\n",
       "\n",
       "    .dataframe thead th {\n",
       "        text-align: right;\n",
       "    }\n",
       "</style>\n",
       "<table border=\"1\" class=\"dataframe\">\n",
       "  <thead>\n",
       "    <tr style=\"text-align: right;\">\n",
       "      <th></th>\n",
       "      <th>DATA</th>\n",
       "      <th>HORARIO</th>\n",
       "      <th>TEMPERATURA</th>\n",
       "      <th>UMIDADE</th>\n",
       "      <th>RADIACAO</th>\n",
       "    </tr>\n",
       "  </thead>\n",
       "  <tbody>\n",
       "    <tr>\n",
       "      <th>0</th>\n",
       "      <td>2021-07-07</td>\n",
       "      <td>0</td>\n",
       "      <td>23.8</td>\n",
       "      <td>NaN</td>\n",
       "      <td>0.8</td>\n",
       "    </tr>\n",
       "    <tr>\n",
       "      <th>1</th>\n",
       "      <td>2021-07-07</td>\n",
       "      <td>100</td>\n",
       "      <td>23.8</td>\n",
       "      <td>NaN</td>\n",
       "      <td>1.8</td>\n",
       "    </tr>\n",
       "    <tr>\n",
       "      <th>2</th>\n",
       "      <td>2021-07-07</td>\n",
       "      <td>200</td>\n",
       "      <td>23.7</td>\n",
       "      <td>NaN</td>\n",
       "      <td>-0.3</td>\n",
       "    </tr>\n",
       "    <tr>\n",
       "      <th>3</th>\n",
       "      <td>2021-07-07</td>\n",
       "      <td>300</td>\n",
       "      <td>23.6</td>\n",
       "      <td>NaN</td>\n",
       "      <td>-1.0</td>\n",
       "    </tr>\n",
       "    <tr>\n",
       "      <th>4</th>\n",
       "      <td>2021-07-07</td>\n",
       "      <td>400</td>\n",
       "      <td>23.3</td>\n",
       "      <td>NaN</td>\n",
       "      <td>-2.5</td>\n",
       "    </tr>\n",
       "    <tr>\n",
       "      <th>...</th>\n",
       "      <td>...</td>\n",
       "      <td>...</td>\n",
       "      <td>...</td>\n",
       "      <td>...</td>\n",
       "      <td>...</td>\n",
       "    </tr>\n",
       "    <tr>\n",
       "      <th>8083</th>\n",
       "      <td>2022-06-08</td>\n",
       "      <td>1900</td>\n",
       "      <td>29.8</td>\n",
       "      <td>69.0</td>\n",
       "      <td>709.0</td>\n",
       "    </tr>\n",
       "    <tr>\n",
       "      <th>8084</th>\n",
       "      <td>2022-06-08</td>\n",
       "      <td>2000</td>\n",
       "      <td>26.4</td>\n",
       "      <td>88.0</td>\n",
       "      <td>158.4</td>\n",
       "    </tr>\n",
       "    <tr>\n",
       "      <th>8085</th>\n",
       "      <td>2022-06-08</td>\n",
       "      <td>2100</td>\n",
       "      <td>25.6</td>\n",
       "      <td>89.0</td>\n",
       "      <td>38.0</td>\n",
       "    </tr>\n",
       "    <tr>\n",
       "      <th>8086</th>\n",
       "      <td>2022-06-08</td>\n",
       "      <td>2200</td>\n",
       "      <td>25.6</td>\n",
       "      <td>91.0</td>\n",
       "      <td>2.6</td>\n",
       "    </tr>\n",
       "    <tr>\n",
       "      <th>8087</th>\n",
       "      <td>2022-06-08</td>\n",
       "      <td>2300</td>\n",
       "      <td>25.1</td>\n",
       "      <td>93.0</td>\n",
       "      <td>-2.5</td>\n",
       "    </tr>\n",
       "  </tbody>\n",
       "</table>\n",
       "<p>8088 rows × 5 columns</p>\n",
       "</div>"
      ],
      "text/plain": [
       "            DATA  HORARIO  TEMPERATURA  UMIDADE  RADIACAO\n",
       "0     2021-07-07        0         23.8      NaN       0.8\n",
       "1     2021-07-07      100         23.8      NaN       1.8\n",
       "2     2021-07-07      200         23.7      NaN      -0.3\n",
       "3     2021-07-07      300         23.6      NaN      -1.0\n",
       "4     2021-07-07      400         23.3      NaN      -2.5\n",
       "...          ...      ...          ...      ...       ...\n",
       "8083  2022-06-08     1900         29.8     69.0     709.0\n",
       "8084  2022-06-08     2000         26.4     88.0     158.4\n",
       "8085  2022-06-08     2100         25.6     89.0      38.0\n",
       "8086  2022-06-08     2200         25.6     91.0       2.6\n",
       "8087  2022-06-08     2300         25.1     93.0      -2.5\n",
       "\n",
       "[8088 rows x 5 columns]"
      ]
     },
     "execution_count": 629,
     "metadata": {},
     "output_type": "execute_result"
    }
   ],
   "source": [
    "dados"
   ]
  },
  {
   "cell_type": "markdown",
   "metadata": {
    "id": "PStacdIUGBVM"
   },
   "source": [
    "### Criando novos colunas para Temperatura da amahão, Umidade da amahão e Radiação da amahão na tabla "
   ]
  },
  {
   "cell_type": "code",
   "execution_count": 630,
   "metadata": {
    "executionInfo": {
     "elapsed": 17,
     "status": "ok",
     "timestamp": 1654775307039,
     "user": {
      "displayName": "Prince Nyarko",
      "userId": "02482838485601494345"
     },
     "user_tz": 180
    },
    "id": "2kY8fSWpGBVM"
   },
   "outputs": [],
   "source": [
    "dados['TEMP_AMANHA'] = dados.shift(-1)['TEMPERATURA']\n",
    "dados['TEMP_MES_MIX'] = dados['TEMPERATURA'].rolling(30).mean()"
   ]
  },
  {
   "cell_type": "code",
   "execution_count": 631,
   "metadata": {
    "executionInfo": {
     "elapsed": 17,
     "status": "ok",
     "timestamp": 1654775307039,
     "user": {
      "displayName": "Prince Nyarko",
      "userId": "02482838485601494345"
     },
     "user_tz": 180
    },
    "id": "4LgQDjizGBVM"
   },
   "outputs": [],
   "source": [
    "dados['UMID_AMANHA'] = dados.shift(-1)['UMIDADE']\n",
    "dados['UMID_MES_MIX'] = dados['UMIDADE'].rolling(30).mean()"
   ]
  },
  {
   "cell_type": "code",
   "execution_count": 632,
   "metadata": {
    "executionInfo": {
     "elapsed": 18,
     "status": "ok",
     "timestamp": 1654775307040,
     "user": {
      "displayName": "Prince Nyarko",
      "userId": "02482838485601494345"
     },
     "user_tz": 180
    },
    "id": "llGtCd4mGBVM"
   },
   "outputs": [],
   "source": [
    "dados['RADI_AMANHA'] = dados.shift(-1)['RADIACAO']\n",
    "dados['RADI_MES_MIX'] = dados['RADIACAO'].rolling(30).mean()"
   ]
  },
  {
   "cell_type": "code",
   "execution_count": 633,
   "metadata": {
    "executionInfo": {
     "elapsed": 18,
     "status": "ok",
     "timestamp": 1654775307040,
     "user": {
      "displayName": "Prince Nyarko",
      "userId": "02482838485601494345"
     },
     "user_tz": 180
    },
    "id": "SGOhjJLGX2BD"
   },
   "outputs": [],
   "source": [
    "dados['HORARIO_ATUAL'] = dados.shift(3)['HORARIO']\n"
   ]
  },
  {
   "cell_type": "code",
   "execution_count": 634,
   "metadata": {
    "colab": {
     "base_uri": "https://localhost:8080/",
     "height": 424
    },
    "executionInfo": {
     "elapsed": 18,
     "status": "ok",
     "timestamp": 1654775307040,
     "user": {
      "displayName": "Prince Nyarko",
      "userId": "02482838485601494345"
     },
     "user_tz": 180
    },
    "id": "wgunDlAjGBVM",
    "outputId": "2e9a3657-657e-4bf7-91c8-57015a2b8159"
   },
   "outputs": [
    {
     "data": {
      "text/html": [
       "<div>\n",
       "<style scoped>\n",
       "    .dataframe tbody tr th:only-of-type {\n",
       "        vertical-align: middle;\n",
       "    }\n",
       "\n",
       "    .dataframe tbody tr th {\n",
       "        vertical-align: top;\n",
       "    }\n",
       "\n",
       "    .dataframe thead th {\n",
       "        text-align: right;\n",
       "    }\n",
       "</style>\n",
       "<table border=\"1\" class=\"dataframe\">\n",
       "  <thead>\n",
       "    <tr style=\"text-align: right;\">\n",
       "      <th></th>\n",
       "      <th>DATA</th>\n",
       "      <th>HORARIO</th>\n",
       "      <th>TEMPERATURA</th>\n",
       "      <th>UMIDADE</th>\n",
       "      <th>RADIACAO</th>\n",
       "      <th>TEMP_AMANHA</th>\n",
       "      <th>TEMP_MES_MIX</th>\n",
       "      <th>UMID_AMANHA</th>\n",
       "      <th>UMID_MES_MIX</th>\n",
       "      <th>RADI_AMANHA</th>\n",
       "      <th>RADI_MES_MIX</th>\n",
       "      <th>HORARIO_ATUAL</th>\n",
       "    </tr>\n",
       "  </thead>\n",
       "  <tbody>\n",
       "    <tr>\n",
       "      <th>0</th>\n",
       "      <td>2021-07-07</td>\n",
       "      <td>0</td>\n",
       "      <td>23.8</td>\n",
       "      <td>NaN</td>\n",
       "      <td>0.8</td>\n",
       "      <td>23.8</td>\n",
       "      <td>NaN</td>\n",
       "      <td>NaN</td>\n",
       "      <td>NaN</td>\n",
       "      <td>1.8</td>\n",
       "      <td>NaN</td>\n",
       "      <td>NaN</td>\n",
       "    </tr>\n",
       "    <tr>\n",
       "      <th>1</th>\n",
       "      <td>2021-07-07</td>\n",
       "      <td>100</td>\n",
       "      <td>23.8</td>\n",
       "      <td>NaN</td>\n",
       "      <td>1.8</td>\n",
       "      <td>23.7</td>\n",
       "      <td>NaN</td>\n",
       "      <td>NaN</td>\n",
       "      <td>NaN</td>\n",
       "      <td>-0.3</td>\n",
       "      <td>NaN</td>\n",
       "      <td>NaN</td>\n",
       "    </tr>\n",
       "    <tr>\n",
       "      <th>2</th>\n",
       "      <td>2021-07-07</td>\n",
       "      <td>200</td>\n",
       "      <td>23.7</td>\n",
       "      <td>NaN</td>\n",
       "      <td>-0.3</td>\n",
       "      <td>23.6</td>\n",
       "      <td>NaN</td>\n",
       "      <td>NaN</td>\n",
       "      <td>NaN</td>\n",
       "      <td>-1.0</td>\n",
       "      <td>NaN</td>\n",
       "      <td>NaN</td>\n",
       "    </tr>\n",
       "    <tr>\n",
       "      <th>3</th>\n",
       "      <td>2021-07-07</td>\n",
       "      <td>300</td>\n",
       "      <td>23.6</td>\n",
       "      <td>NaN</td>\n",
       "      <td>-1.0</td>\n",
       "      <td>23.3</td>\n",
       "      <td>NaN</td>\n",
       "      <td>NaN</td>\n",
       "      <td>NaN</td>\n",
       "      <td>-2.5</td>\n",
       "      <td>NaN</td>\n",
       "      <td>0.0</td>\n",
       "    </tr>\n",
       "    <tr>\n",
       "      <th>4</th>\n",
       "      <td>2021-07-07</td>\n",
       "      <td>400</td>\n",
       "      <td>23.3</td>\n",
       "      <td>NaN</td>\n",
       "      <td>-2.5</td>\n",
       "      <td>23.5</td>\n",
       "      <td>NaN</td>\n",
       "      <td>NaN</td>\n",
       "      <td>NaN</td>\n",
       "      <td>-1.5</td>\n",
       "      <td>NaN</td>\n",
       "      <td>100.0</td>\n",
       "    </tr>\n",
       "    <tr>\n",
       "      <th>...</th>\n",
       "      <td>...</td>\n",
       "      <td>...</td>\n",
       "      <td>...</td>\n",
       "      <td>...</td>\n",
       "      <td>...</td>\n",
       "      <td>...</td>\n",
       "      <td>...</td>\n",
       "      <td>...</td>\n",
       "      <td>...</td>\n",
       "      <td>...</td>\n",
       "      <td>...</td>\n",
       "      <td>...</td>\n",
       "    </tr>\n",
       "    <tr>\n",
       "      <th>8083</th>\n",
       "      <td>2022-06-08</td>\n",
       "      <td>1900</td>\n",
       "      <td>29.8</td>\n",
       "      <td>69.0</td>\n",
       "      <td>709.0</td>\n",
       "      <td>26.4</td>\n",
       "      <td>26.960000</td>\n",
       "      <td>88.0</td>\n",
       "      <td>82.566667</td>\n",
       "      <td>158.4</td>\n",
       "      <td>967.646667</td>\n",
       "      <td>1600.0</td>\n",
       "    </tr>\n",
       "    <tr>\n",
       "      <th>8084</th>\n",
       "      <td>2022-06-08</td>\n",
       "      <td>2000</td>\n",
       "      <td>26.4</td>\n",
       "      <td>88.0</td>\n",
       "      <td>158.4</td>\n",
       "      <td>25.6</td>\n",
       "      <td>26.870000</td>\n",
       "      <td>89.0</td>\n",
       "      <td>83.033333</td>\n",
       "      <td>38.0</td>\n",
       "      <td>892.953333</td>\n",
       "      <td>1700.0</td>\n",
       "    </tr>\n",
       "    <tr>\n",
       "      <th>8085</th>\n",
       "      <td>2022-06-08</td>\n",
       "      <td>2100</td>\n",
       "      <td>25.6</td>\n",
       "      <td>89.0</td>\n",
       "      <td>38.0</td>\n",
       "      <td>25.6</td>\n",
       "      <td>26.700000</td>\n",
       "      <td>91.0</td>\n",
       "      <td>83.633333</td>\n",
       "      <td>2.6</td>\n",
       "      <td>798.586667</td>\n",
       "      <td>1800.0</td>\n",
       "    </tr>\n",
       "    <tr>\n",
       "      <th>8086</th>\n",
       "      <td>2022-06-08</td>\n",
       "      <td>2200</td>\n",
       "      <td>25.6</td>\n",
       "      <td>91.0</td>\n",
       "      <td>2.6</td>\n",
       "      <td>25.1</td>\n",
       "      <td>26.553333</td>\n",
       "      <td>93.0</td>\n",
       "      <td>84.166667</td>\n",
       "      <td>-2.5</td>\n",
       "      <td>706.776667</td>\n",
       "      <td>1900.0</td>\n",
       "    </tr>\n",
       "    <tr>\n",
       "      <th>8087</th>\n",
       "      <td>2022-06-08</td>\n",
       "      <td>2300</td>\n",
       "      <td>25.1</td>\n",
       "      <td>93.0</td>\n",
       "      <td>-2.5</td>\n",
       "      <td>NaN</td>\n",
       "      <td>26.393333</td>\n",
       "      <td>NaN</td>\n",
       "      <td>84.833333</td>\n",
       "      <td>NaN</td>\n",
       "      <td>604.233333</td>\n",
       "      <td>2000.0</td>\n",
       "    </tr>\n",
       "  </tbody>\n",
       "</table>\n",
       "<p>8088 rows × 12 columns</p>\n",
       "</div>"
      ],
      "text/plain": [
       "            DATA  HORARIO  TEMPERATURA  UMIDADE  RADIACAO  TEMP_AMANHA  \\\n",
       "0     2021-07-07        0         23.8      NaN       0.8         23.8   \n",
       "1     2021-07-07      100         23.8      NaN       1.8         23.7   \n",
       "2     2021-07-07      200         23.7      NaN      -0.3         23.6   \n",
       "3     2021-07-07      300         23.6      NaN      -1.0         23.3   \n",
       "4     2021-07-07      400         23.3      NaN      -2.5         23.5   \n",
       "...          ...      ...          ...      ...       ...          ...   \n",
       "8083  2022-06-08     1900         29.8     69.0     709.0         26.4   \n",
       "8084  2022-06-08     2000         26.4     88.0     158.4         25.6   \n",
       "8085  2022-06-08     2100         25.6     89.0      38.0         25.6   \n",
       "8086  2022-06-08     2200         25.6     91.0       2.6         25.1   \n",
       "8087  2022-06-08     2300         25.1     93.0      -2.5          NaN   \n",
       "\n",
       "      TEMP_MES_MIX  UMID_AMANHA  UMID_MES_MIX  RADI_AMANHA  RADI_MES_MIX  \\\n",
       "0              NaN          NaN           NaN          1.8           NaN   \n",
       "1              NaN          NaN           NaN         -0.3           NaN   \n",
       "2              NaN          NaN           NaN         -1.0           NaN   \n",
       "3              NaN          NaN           NaN         -2.5           NaN   \n",
       "4              NaN          NaN           NaN         -1.5           NaN   \n",
       "...            ...          ...           ...          ...           ...   \n",
       "8083     26.960000         88.0     82.566667        158.4    967.646667   \n",
       "8084     26.870000         89.0     83.033333         38.0    892.953333   \n",
       "8085     26.700000         91.0     83.633333          2.6    798.586667   \n",
       "8086     26.553333         93.0     84.166667         -2.5    706.776667   \n",
       "8087     26.393333          NaN     84.833333          NaN    604.233333   \n",
       "\n",
       "      HORARIO_ATUAL  \n",
       "0               NaN  \n",
       "1               NaN  \n",
       "2               NaN  \n",
       "3               0.0  \n",
       "4             100.0  \n",
       "...             ...  \n",
       "8083         1600.0  \n",
       "8084         1700.0  \n",
       "8085         1800.0  \n",
       "8086         1900.0  \n",
       "8087         2000.0  \n",
       "\n",
       "[8088 rows x 12 columns]"
      ]
     },
     "execution_count": 634,
     "metadata": {},
     "output_type": "execute_result"
    }
   ],
   "source": [
    "dados"
   ]
  },
  {
   "cell_type": "code",
   "execution_count": 635,
   "metadata": {},
   "outputs": [
    {
     "data": {
      "text/plain": [
       "DATA             0.000000\n",
       "HORARIO          0.000000\n",
       "TEMPERATURA      0.000000\n",
       "UMIDADE          0.001360\n",
       "RADIACAO         0.000000\n",
       "TEMP_AMANHA      0.000124\n",
       "TEMP_MES_MIX     0.003586\n",
       "UMID_AMANHA      0.001360\n",
       "UMID_MES_MIX     0.004946\n",
       "RADI_AMANHA      0.000124\n",
       "RADI_MES_MIX     0.003586\n",
       "HORARIO_ATUAL    0.000371\n",
       "dtype: float64"
      ]
     },
     "execution_count": 635,
     "metadata": {},
     "output_type": "execute_result"
    }
   ],
   "source": [
    "dados.apply(pd.isnull).sum()/dados.shape[0]"
   ]
  },
  {
   "cell_type": "markdown",
   "metadata": {
    "id": "9CA4tOJeGBVN"
   },
   "source": [
    "### Limpando NULL"
   ]
  },
  {
   "cell_type": "code",
   "execution_count": 636,
   "metadata": {
    "executionInfo": {
     "elapsed": 17,
     "status": "ok",
     "timestamp": 1654775307040,
     "user": {
      "displayName": "Prince Nyarko",
      "userId": "02482838485601494345"
     },
     "user_tz": 180
    },
    "id": "ku9T8-afGBVN"
   },
   "outputs": [],
   "source": [
    "dados = dados.iloc[63:,:].copy()\n",
    "dados = dados.iloc[:-1, :].copy()"
   ]
  },
  {
   "cell_type": "code",
   "execution_count": 637,
   "metadata": {
    "colab": {
     "base_uri": "https://localhost:8080/",
     "height": 424
    },
    "executionInfo": {
     "elapsed": 18,
     "status": "ok",
     "timestamp": 1654775307041,
     "user": {
      "displayName": "Prince Nyarko",
      "userId": "02482838485601494345"
     },
     "user_tz": 180
    },
    "id": "bFWE9IQVGBVN",
    "outputId": "44b92b35-1f7a-4cea-dcfe-a4c3545dafcf"
   },
   "outputs": [
    {
     "data": {
      "text/html": [
       "<div>\n",
       "<style scoped>\n",
       "    .dataframe tbody tr th:only-of-type {\n",
       "        vertical-align: middle;\n",
       "    }\n",
       "\n",
       "    .dataframe tbody tr th {\n",
       "        vertical-align: top;\n",
       "    }\n",
       "\n",
       "    .dataframe thead th {\n",
       "        text-align: right;\n",
       "    }\n",
       "</style>\n",
       "<table border=\"1\" class=\"dataframe\">\n",
       "  <thead>\n",
       "    <tr style=\"text-align: right;\">\n",
       "      <th></th>\n",
       "      <th>DATA</th>\n",
       "      <th>HORARIO</th>\n",
       "      <th>TEMPERATURA</th>\n",
       "      <th>UMIDADE</th>\n",
       "      <th>RADIACAO</th>\n",
       "      <th>TEMP_AMANHA</th>\n",
       "      <th>TEMP_MES_MIX</th>\n",
       "      <th>UMID_AMANHA</th>\n",
       "      <th>UMID_MES_MIX</th>\n",
       "      <th>RADI_AMANHA</th>\n",
       "      <th>RADI_MES_MIX</th>\n",
       "      <th>HORARIO_ATUAL</th>\n",
       "    </tr>\n",
       "  </thead>\n",
       "  <tbody>\n",
       "    <tr>\n",
       "      <th>63</th>\n",
       "      <td>2021-07-09</td>\n",
       "      <td>1500</td>\n",
       "      <td>32.8</td>\n",
       "      <td>61.0</td>\n",
       "      <td>2669.5</td>\n",
       "      <td>32.1</td>\n",
       "      <td>27.863333</td>\n",
       "      <td>63.0</td>\n",
       "      <td>78.600000</td>\n",
       "      <td>2571.9</td>\n",
       "      <td>938.226667</td>\n",
       "      <td>1200.0</td>\n",
       "    </tr>\n",
       "    <tr>\n",
       "      <th>64</th>\n",
       "      <td>2021-07-09</td>\n",
       "      <td>1600</td>\n",
       "      <td>32.1</td>\n",
       "      <td>63.0</td>\n",
       "      <td>2571.9</td>\n",
       "      <td>31.9</td>\n",
       "      <td>28.130000</td>\n",
       "      <td>66.0</td>\n",
       "      <td>77.366667</td>\n",
       "      <td>1768.0</td>\n",
       "      <td>1022.620000</td>\n",
       "      <td>1300.0</td>\n",
       "    </tr>\n",
       "    <tr>\n",
       "      <th>65</th>\n",
       "      <td>2021-07-09</td>\n",
       "      <td>1700</td>\n",
       "      <td>31.9</td>\n",
       "      <td>66.0</td>\n",
       "      <td>1768.0</td>\n",
       "      <td>32.3</td>\n",
       "      <td>28.313333</td>\n",
       "      <td>60.0</td>\n",
       "      <td>76.400000</td>\n",
       "      <td>2011.6</td>\n",
       "      <td>1068.063333</td>\n",
       "      <td>1400.0</td>\n",
       "    </tr>\n",
       "    <tr>\n",
       "      <th>66</th>\n",
       "      <td>2021-07-09</td>\n",
       "      <td>1800</td>\n",
       "      <td>32.3</td>\n",
       "      <td>60.0</td>\n",
       "      <td>2011.6</td>\n",
       "      <td>31.5</td>\n",
       "      <td>28.426667</td>\n",
       "      <td>66.0</td>\n",
       "      <td>75.800000</td>\n",
       "      <td>599.2</td>\n",
       "      <td>1095.230000</td>\n",
       "      <td>1500.0</td>\n",
       "    </tr>\n",
       "    <tr>\n",
       "      <th>67</th>\n",
       "      <td>2021-07-09</td>\n",
       "      <td>1900</td>\n",
       "      <td>31.5</td>\n",
       "      <td>66.0</td>\n",
       "      <td>599.2</td>\n",
       "      <td>29.4</td>\n",
       "      <td>28.456667</td>\n",
       "      <td>72.0</td>\n",
       "      <td>75.800000</td>\n",
       "      <td>822.2</td>\n",
       "      <td>1044.700000</td>\n",
       "      <td>1600.0</td>\n",
       "    </tr>\n",
       "    <tr>\n",
       "      <th>...</th>\n",
       "      <td>...</td>\n",
       "      <td>...</td>\n",
       "      <td>...</td>\n",
       "      <td>...</td>\n",
       "      <td>...</td>\n",
       "      <td>...</td>\n",
       "      <td>...</td>\n",
       "      <td>...</td>\n",
       "      <td>...</td>\n",
       "      <td>...</td>\n",
       "      <td>...</td>\n",
       "      <td>...</td>\n",
       "    </tr>\n",
       "    <tr>\n",
       "      <th>8082</th>\n",
       "      <td>2022-06-08</td>\n",
       "      <td>1800</td>\n",
       "      <td>32.2</td>\n",
       "      <td>58.0</td>\n",
       "      <td>2455.7</td>\n",
       "      <td>29.8</td>\n",
       "      <td>26.933333</td>\n",
       "      <td>69.0</td>\n",
       "      <td>82.666667</td>\n",
       "      <td>709.0</td>\n",
       "      <td>1012.166667</td>\n",
       "      <td>1500.0</td>\n",
       "    </tr>\n",
       "    <tr>\n",
       "      <th>8083</th>\n",
       "      <td>2022-06-08</td>\n",
       "      <td>1900</td>\n",
       "      <td>29.8</td>\n",
       "      <td>69.0</td>\n",
       "      <td>709.0</td>\n",
       "      <td>26.4</td>\n",
       "      <td>26.960000</td>\n",
       "      <td>88.0</td>\n",
       "      <td>82.566667</td>\n",
       "      <td>158.4</td>\n",
       "      <td>967.646667</td>\n",
       "      <td>1600.0</td>\n",
       "    </tr>\n",
       "    <tr>\n",
       "      <th>8084</th>\n",
       "      <td>2022-06-08</td>\n",
       "      <td>2000</td>\n",
       "      <td>26.4</td>\n",
       "      <td>88.0</td>\n",
       "      <td>158.4</td>\n",
       "      <td>25.6</td>\n",
       "      <td>26.870000</td>\n",
       "      <td>89.0</td>\n",
       "      <td>83.033333</td>\n",
       "      <td>38.0</td>\n",
       "      <td>892.953333</td>\n",
       "      <td>1700.0</td>\n",
       "    </tr>\n",
       "    <tr>\n",
       "      <th>8085</th>\n",
       "      <td>2022-06-08</td>\n",
       "      <td>2100</td>\n",
       "      <td>25.6</td>\n",
       "      <td>89.0</td>\n",
       "      <td>38.0</td>\n",
       "      <td>25.6</td>\n",
       "      <td>26.700000</td>\n",
       "      <td>91.0</td>\n",
       "      <td>83.633333</td>\n",
       "      <td>2.6</td>\n",
       "      <td>798.586667</td>\n",
       "      <td>1800.0</td>\n",
       "    </tr>\n",
       "    <tr>\n",
       "      <th>8086</th>\n",
       "      <td>2022-06-08</td>\n",
       "      <td>2200</td>\n",
       "      <td>25.6</td>\n",
       "      <td>91.0</td>\n",
       "      <td>2.6</td>\n",
       "      <td>25.1</td>\n",
       "      <td>26.553333</td>\n",
       "      <td>93.0</td>\n",
       "      <td>84.166667</td>\n",
       "      <td>-2.5</td>\n",
       "      <td>706.776667</td>\n",
       "      <td>1900.0</td>\n",
       "    </tr>\n",
       "  </tbody>\n",
       "</table>\n",
       "<p>8024 rows × 12 columns</p>\n",
       "</div>"
      ],
      "text/plain": [
       "            DATA  HORARIO  TEMPERATURA  UMIDADE  RADIACAO  TEMP_AMANHA  \\\n",
       "63    2021-07-09     1500         32.8     61.0    2669.5         32.1   \n",
       "64    2021-07-09     1600         32.1     63.0    2571.9         31.9   \n",
       "65    2021-07-09     1700         31.9     66.0    1768.0         32.3   \n",
       "66    2021-07-09     1800         32.3     60.0    2011.6         31.5   \n",
       "67    2021-07-09     1900         31.5     66.0     599.2         29.4   \n",
       "...          ...      ...          ...      ...       ...          ...   \n",
       "8082  2022-06-08     1800         32.2     58.0    2455.7         29.8   \n",
       "8083  2022-06-08     1900         29.8     69.0     709.0         26.4   \n",
       "8084  2022-06-08     2000         26.4     88.0     158.4         25.6   \n",
       "8085  2022-06-08     2100         25.6     89.0      38.0         25.6   \n",
       "8086  2022-06-08     2200         25.6     91.0       2.6         25.1   \n",
       "\n",
       "      TEMP_MES_MIX  UMID_AMANHA  UMID_MES_MIX  RADI_AMANHA  RADI_MES_MIX  \\\n",
       "63       27.863333         63.0     78.600000       2571.9    938.226667   \n",
       "64       28.130000         66.0     77.366667       1768.0   1022.620000   \n",
       "65       28.313333         60.0     76.400000       2011.6   1068.063333   \n",
       "66       28.426667         66.0     75.800000        599.2   1095.230000   \n",
       "67       28.456667         72.0     75.800000        822.2   1044.700000   \n",
       "...            ...          ...           ...          ...           ...   \n",
       "8082     26.933333         69.0     82.666667        709.0   1012.166667   \n",
       "8083     26.960000         88.0     82.566667        158.4    967.646667   \n",
       "8084     26.870000         89.0     83.033333         38.0    892.953333   \n",
       "8085     26.700000         91.0     83.633333          2.6    798.586667   \n",
       "8086     26.553333         93.0     84.166667         -2.5    706.776667   \n",
       "\n",
       "      HORARIO_ATUAL  \n",
       "63           1200.0  \n",
       "64           1300.0  \n",
       "65           1400.0  \n",
       "66           1500.0  \n",
       "67           1600.0  \n",
       "...             ...  \n",
       "8082         1500.0  \n",
       "8083         1600.0  \n",
       "8084         1700.0  \n",
       "8085         1800.0  \n",
       "8086         1900.0  \n",
       "\n",
       "[8024 rows x 12 columns]"
      ]
     },
     "execution_count": 637,
     "metadata": {},
     "output_type": "execute_result"
    }
   ],
   "source": [
    "dados"
   ]
  },
  {
   "cell_type": "code",
   "execution_count": 638,
   "metadata": {},
   "outputs": [
    {
     "data": {
      "text/plain": [
       "DATA             0.0\n",
       "HORARIO          0.0\n",
       "TEMPERATURA      0.0\n",
       "UMIDADE          0.0\n",
       "RADIACAO         0.0\n",
       "TEMP_AMANHA      0.0\n",
       "TEMP_MES_MIX     0.0\n",
       "UMID_AMANHA      0.0\n",
       "UMID_MES_MIX     0.0\n",
       "RADI_AMANHA      0.0\n",
       "RADI_MES_MIX     0.0\n",
       "HORARIO_ATUAL    0.0\n",
       "dtype: float64"
      ]
     },
     "execution_count": 638,
     "metadata": {},
     "output_type": "execute_result"
    }
   ],
   "source": [
    "dados.apply(pd.isnull).sum()/dados.shape[0]"
   ]
  },
  {
   "cell_type": "code",
   "execution_count": 639,
   "metadata": {
    "executionInfo": {
     "elapsed": 347,
     "status": "ok",
     "timestamp": 1654775307371,
     "user": {
      "displayName": "Prince Nyarko",
      "userId": "02482838485601494345"
     },
     "user_tz": 180
    },
    "id": "45CS9uKjGBVN"
   },
   "outputs": [],
   "source": [
    "from sklearn.linear_model import Ridge\n",
    "from sklearn.model_selection import GridSearchCV"
   ]
  },
  {
   "cell_type": "code",
   "execution_count": 640,
   "metadata": {
    "executionInfo": {
     "elapsed": 8,
     "status": "ok",
     "timestamp": 1654775307371,
     "user": {
      "displayName": "Prince Nyarko",
      "userId": "02482838485601494345"
     },
     "user_tz": 180
    },
    "id": "Tu3XjxEWGBVN"
   },
   "outputs": [],
   "source": [
    "from sklearn.metrics import mean_absolute_percentage_error"
   ]
  },
  {
   "cell_type": "code",
   "execution_count": 641,
   "metadata": {},
   "outputs": [],
   "source": [
    "ridge = Ridge()\n",
    "parametros = {'alpha':[1e-15,1e-10,1e-8,1e-3,1e-2,1,5,10,20,30,35,40,45,50,55,100]}\n",
    "reg = GridSearchCV(ridge,parametros, cv=5)\n",
    "#reg = Ridge(alpha=0, solver='auto', fit_intercept=True, max_iter=None, tol=0.001, copy_X=True)"
   ]
  },
  {
   "cell_type": "code",
   "execution_count": 696,
   "metadata": {
    "executionInfo": {
     "elapsed": 7,
     "status": "ok",
     "timestamp": 1654775307371,
     "user": {
      "displayName": "Prince Nyarko",
      "userId": "02482838485601494345"
     },
     "user_tz": 180
    },
    "id": "R1tcVH8yGBVO"
   },
   "outputs": [],
   "source": [
    "numerio_de_dados = len(dados)+37"
   ]
  },
  {
   "cell_type": "code",
   "execution_count": 697,
   "metadata": {
    "executionInfo": {
     "elapsed": 8,
     "status": "ok",
     "timestamp": 1654775307372,
     "user": {
      "displayName": "Prince Nyarko",
      "userId": "02482838485601494345"
     },
     "user_tz": 180
    },
    "id": "9NBaKyE-GBVO"
   },
   "outputs": [],
   "source": [
    "def criar_previsões_temp(preditores, dados, reg):\n",
    "    #numerio_de_dados = len(dados)-24\n",
    "    trinar = dados.loc[:numerio_de_dados]\n",
    "    teste = dados.loc[numerio_de_dados:]\n",
    "    reg.fit(trinar[preditores], trinar[\"TEMPERATURA\"])\n",
    "    preditores = reg.predict(teste[preditores])\n",
    "    erro = mean_absolute_percentage_error(teste[\"TEMPERATURA\"],preditores)\n",
    "    conjunto = pd.concat([teste['TEMPERATURA'], pd.Series(preditores, index=teste.index )], axis=1)\n",
    "    conjunto.columns = ['ATUAL_TEMPERATURA', 'PREVISOES_TEMPERATURA']\n",
    "    conjunto[['DATA','HORARIO']] = teste[['DATA','HORARIO_ATUAL']]\n",
    "    print(reg.best_params_)\n",
    "    return erro, conjunto"
   ]
  },
  {
   "cell_type": "code",
   "execution_count": 698,
   "metadata": {
    "executionInfo": {
     "elapsed": 8,
     "status": "ok",
     "timestamp": 1654775307372,
     "user": {
      "displayName": "Prince Nyarko",
      "userId": "02482838485601494345"
     },
     "user_tz": 180
    },
    "id": "aJSXowLkGBVO"
   },
   "outputs": [],
   "source": [
    "def criar_previsões_umid(preditores, dados, reg):\n",
    "    trinar = dados.loc[:numerio_de_dados]\n",
    "    teste = dados.loc[numerio_de_dados:]\n",
    "    reg.fit(trinar[preditores], trinar[\"UMIDADE\"])\n",
    "    preditores = reg.predict(teste[preditores])\n",
    "    erro = mean_absolute_percentage_error(teste[\"UMIDADE\"],preditores)\n",
    "    conjunto = pd.concat([teste[\"UMIDADE\"], pd.Series(preditores, index=teste.index)], axis=1)\n",
    "    conjunto.columns = [\"ATUAL_UMIDADE\", \"PREVISOES_UMIDADE\"]\n",
    "    return erro, conjunto"
   ]
  },
  {
   "cell_type": "code",
   "execution_count": 699,
   "metadata": {
    "executionInfo": {
     "elapsed": 8,
     "status": "ok",
     "timestamp": 1654775307372,
     "user": {
      "displayName": "Prince Nyarko",
      "userId": "02482838485601494345"
     },
     "user_tz": 180
    },
    "id": "qWCLnasRGBVO"
   },
   "outputs": [],
   "source": [
    "def criar_previsões_radi(preditores, dados, reg):\n",
    "    trinar = dados.loc[:numerio_de_dados]\n",
    "    teste = dados.loc[numerio_de_dados:]\n",
    "    reg.fit(trinar[preditores], trinar[\"RADI_AMANHA\"])\n",
    "    preditores = reg.predict(teste[preditores])\n",
    "    erro = mean_absolute_percentage_error(teste[\"RADI_AMANHA\"],preditores)\n",
    "    conjunto = pd.concat([teste[\"RADI_AMANHA\"], pd.Series(preditores, index=teste.index)], axis=1)\n",
    "    conjunto.columns = [\"ATUAL_RADIACAO\", \"PREVISOES_RADIACAO\"]\n",
    "    return erro, conjunto"
   ]
  },
  {
   "cell_type": "code",
   "execution_count": 700,
   "metadata": {
    "executionInfo": {
     "elapsed": 7,
     "status": "ok",
     "timestamp": 1654775307372,
     "user": {
      "displayName": "Prince Nyarko",
      "userId": "02482838485601494345"
     },
     "user_tz": 180
    },
    "id": "FCRJBTojGBVP"
   },
   "outputs": [],
   "source": [
    "preditores = ['HORARIO', 'TEMP_AMANHA','UMID_AMANHA', 'RADIACAO','TEMP_MES_MIX', 'UMID_MES_MIX','RADI_MES_MIX']"
   ]
  },
  {
   "cell_type": "code",
   "execution_count": 701,
   "metadata": {
    "executionInfo": {
     "elapsed": 8,
     "status": "ok",
     "timestamp": 1654775307373,
     "user": {
      "displayName": "Prince Nyarko",
      "userId": "02482838485601494345"
     },
     "user_tz": 180
    },
    "id": "cp_6Zu89GBVP"
   },
   "outputs": [
    {
     "name": "stdout",
     "output_type": "stream",
     "text": [
      "{'alpha': 5}\n"
     ]
    }
   ],
   "source": [
    "temp_erro, temp_previsao = criar_previsões_temp(preditores, dados, reg)"
   ]
  },
  {
   "cell_type": "code",
   "execution_count": 702,
   "metadata": {
    "executionInfo": {
     "elapsed": 8,
     "status": "ok",
     "timestamp": 1654775307373,
     "user": {
      "displayName": "Prince Nyarko",
      "userId": "02482838485601494345"
     },
     "user_tz": 180
    },
    "id": "dHQF9W59GBVP"
   },
   "outputs": [],
   "source": [
    "umid_erro, umid_previsao = criar_previsões_umid(preditores, dados, reg)"
   ]
  },
  {
   "cell_type": "code",
   "execution_count": 703,
   "metadata": {
    "executionInfo": {
     "elapsed": 8,
     "status": "ok",
     "timestamp": 1654775307373,
     "user": {
      "displayName": "Prince Nyarko",
      "userId": "02482838485601494345"
     },
     "user_tz": 180
    },
    "id": "ImsKWHWBGBVP"
   },
   "outputs": [],
   "source": [
    "radi_erro, radi_previsao = criar_previsões_radi(preditores, dados, reg)"
   ]
  },
  {
   "cell_type": "code",
   "execution_count": 704,
   "metadata": {
    "executionInfo": {
     "elapsed": 8,
     "status": "ok",
     "timestamp": 1654775307373,
     "user": {
      "displayName": "Prince Nyarko",
      "userId": "02482838485601494345"
     },
     "user_tz": 180
    },
    "id": "H1_pyNa3GBVP"
   },
   "outputs": [],
   "source": [
    "previsoes_dados = temp_previsao"
   ]
  },
  {
   "cell_type": "code",
   "execution_count": 705,
   "metadata": {
    "executionInfo": {
     "elapsed": 8,
     "status": "ok",
     "timestamp": 1654775307374,
     "user": {
      "displayName": "Prince Nyarko",
      "userId": "02482838485601494345"
     },
     "user_tz": 180
    },
    "id": "WPi-qQrmGBVQ"
   },
   "outputs": [],
   "source": [
    "previsoes_dados[[\"ATUAL_UMIDADE\", \"PREVISOES_UMIDADE\"]] = umid_previsao[[\"ATUAL_UMIDADE\", \"PREVISOES_UMIDADE\"]]"
   ]
  },
  {
   "cell_type": "code",
   "execution_count": 706,
   "metadata": {
    "executionInfo": {
     "elapsed": 8,
     "status": "ok",
     "timestamp": 1654775307374,
     "user": {
      "displayName": "Prince Nyarko",
      "userId": "02482838485601494345"
     },
     "user_tz": 180
    },
    "id": "lo5yQExXKicD"
   },
   "outputs": [],
   "source": [
    "previsoes_dados[[\"ATUAL_RADIACAO\", \"PREVISOES_RADIACAO\"]] = radi_previsao[[\"ATUAL_RADIACAO\", \"PREVISOES_RADIACAO\"]]"
   ]
  },
  {
   "cell_type": "code",
   "execution_count": 707,
   "metadata": {
    "executionInfo": {
     "elapsed": 486,
     "status": "ok",
     "timestamp": 1654775307852,
     "user": {
      "displayName": "Prince Nyarko",
      "userId": "02482838485601494345"
     },
     "user_tz": 180
    },
    "id": "GVOuLqqAGBVQ"
   },
   "outputs": [],
   "source": [
    "previsoes_dados = previsoes_dados[['DATA','HORARIO','ATUAL_TEMPERATURA','PREVISOES_TEMPERATURA','ATUAL_UMIDADE','PREVISOES_UMIDADE','ATUAL_RADIACAO','PREVISOES_RADIACAO']]"
   ]
  },
  {
   "cell_type": "code",
   "execution_count": 708,
   "metadata": {},
   "outputs": [],
   "source": [
    "previsoes_dados2 = previsoes_dados[['HORARIO','PREVISOES_TEMPERATURA','PREVISOES_UMIDADE','PREVISOES_RADIACAO']]"
   ]
  },
  {
   "cell_type": "code",
   "execution_count": 709,
   "metadata": {},
   "outputs": [
    {
     "data": {
      "text/html": [
       "<div>\n",
       "<style scoped>\n",
       "    .dataframe tbody tr th:only-of-type {\n",
       "        vertical-align: middle;\n",
       "    }\n",
       "\n",
       "    .dataframe tbody tr th {\n",
       "        vertical-align: top;\n",
       "    }\n",
       "\n",
       "    .dataframe thead th {\n",
       "        text-align: right;\n",
       "    }\n",
       "</style>\n",
       "<table border=\"1\" class=\"dataframe\">\n",
       "  <thead>\n",
       "    <tr style=\"text-align: right;\">\n",
       "      <th></th>\n",
       "      <th>HORARIO</th>\n",
       "      <th>PREVISOES_TEMPERATURA</th>\n",
       "      <th>PREVISOES_UMIDADE</th>\n",
       "      <th>PREVISOES_RADIACAO</th>\n",
       "    </tr>\n",
       "  </thead>\n",
       "  <tbody>\n",
       "    <tr>\n",
       "      <th>8061</th>\n",
       "      <td>1800.0</td>\n",
       "      <td>25.901371</td>\n",
       "      <td>85.158781</td>\n",
       "      <td>-66.635947</td>\n",
       "    </tr>\n",
       "    <tr>\n",
       "      <th>8062</th>\n",
       "      <td>1900.0</td>\n",
       "      <td>25.591211</td>\n",
       "      <td>85.798707</td>\n",
       "      <td>-78.240328</td>\n",
       "    </tr>\n",
       "    <tr>\n",
       "      <th>8063</th>\n",
       "      <td>2000.0</td>\n",
       "      <td>25.274708</td>\n",
       "      <td>88.240483</td>\n",
       "      <td>-139.658763</td>\n",
       "    </tr>\n",
       "    <tr>\n",
       "      <th>8064</th>\n",
       "      <td>2100.0</td>\n",
       "      <td>24.487350</td>\n",
       "      <td>91.740684</td>\n",
       "      <td>68.467417</td>\n",
       "    </tr>\n",
       "    <tr>\n",
       "      <th>8065</th>\n",
       "      <td>2200.0</td>\n",
       "      <td>24.369041</td>\n",
       "      <td>92.242430</td>\n",
       "      <td>114.908795</td>\n",
       "    </tr>\n",
       "    <tr>\n",
       "      <th>8066</th>\n",
       "      <td>2300.0</td>\n",
       "      <td>24.192257</td>\n",
       "      <td>93.686074</td>\n",
       "      <td>98.635290</td>\n",
       "    </tr>\n",
       "    <tr>\n",
       "      <th>8067</th>\n",
       "      <td>0.0</td>\n",
       "      <td>23.959133</td>\n",
       "      <td>94.899108</td>\n",
       "      <td>39.442124</td>\n",
       "    </tr>\n",
       "    <tr>\n",
       "      <th>8068</th>\n",
       "      <td>100.0</td>\n",
       "      <td>23.866316</td>\n",
       "      <td>95.715498</td>\n",
       "      <td>-32.012088</td>\n",
       "    </tr>\n",
       "    <tr>\n",
       "      <th>8069</th>\n",
       "      <td>200.0</td>\n",
       "      <td>23.807526</td>\n",
       "      <td>96.038581</td>\n",
       "      <td>-77.511824</td>\n",
       "    </tr>\n",
       "    <tr>\n",
       "      <th>8070</th>\n",
       "      <td>300.0</td>\n",
       "      <td>23.749052</td>\n",
       "      <td>96.360390</td>\n",
       "      <td>-122.939331</td>\n",
       "    </tr>\n",
       "    <tr>\n",
       "      <th>8071</th>\n",
       "      <td>400.0</td>\n",
       "      <td>23.690464</td>\n",
       "      <td>96.070766</td>\n",
       "      <td>-161.686642</td>\n",
       "    </tr>\n",
       "    <tr>\n",
       "      <th>8072</th>\n",
       "      <td>500.0</td>\n",
       "      <td>23.627368</td>\n",
       "      <td>95.789721</td>\n",
       "      <td>-199.893421</td>\n",
       "    </tr>\n",
       "    <tr>\n",
       "      <th>8073</th>\n",
       "      <td>600.0</td>\n",
       "      <td>23.927328</td>\n",
       "      <td>96.370150</td>\n",
       "      <td>-92.826108</td>\n",
       "    </tr>\n",
       "    <tr>\n",
       "      <th>8074</th>\n",
       "      <td>700.0</td>\n",
       "      <td>24.680075</td>\n",
       "      <td>92.528381</td>\n",
       "      <td>227.629157</td>\n",
       "    </tr>\n",
       "    <tr>\n",
       "      <th>8075</th>\n",
       "      <td>800.0</td>\n",
       "      <td>26.503065</td>\n",
       "      <td>84.591552</td>\n",
       "      <td>945.282660</td>\n",
       "    </tr>\n",
       "    <tr>\n",
       "      <th>8076</th>\n",
       "      <td>900.0</td>\n",
       "      <td>28.645323</td>\n",
       "      <td>76.069360</td>\n",
       "      <td>1677.368502</td>\n",
       "    </tr>\n",
       "    <tr>\n",
       "      <th>8077</th>\n",
       "      <td>1000.0</td>\n",
       "      <td>29.609490</td>\n",
       "      <td>73.533466</td>\n",
       "      <td>1855.065317</td>\n",
       "    </tr>\n",
       "    <tr>\n",
       "      <th>8078</th>\n",
       "      <td>1100.0</td>\n",
       "      <td>29.017662</td>\n",
       "      <td>76.694192</td>\n",
       "      <td>1472.365440</td>\n",
       "    </tr>\n",
       "    <tr>\n",
       "      <th>8079</th>\n",
       "      <td>1200.0</td>\n",
       "      <td>30.515539</td>\n",
       "      <td>69.413196</td>\n",
       "      <td>2048.021257</td>\n",
       "    </tr>\n",
       "    <tr>\n",
       "      <th>8080</th>\n",
       "      <td>1300.0</td>\n",
       "      <td>31.741852</td>\n",
       "      <td>62.050036</td>\n",
       "      <td>2298.642415</td>\n",
       "    </tr>\n",
       "    <tr>\n",
       "      <th>8081</th>\n",
       "      <td>1400.0</td>\n",
       "      <td>31.001727</td>\n",
       "      <td>64.743306</td>\n",
       "      <td>2061.832947</td>\n",
       "    </tr>\n",
       "    <tr>\n",
       "      <th>8082</th>\n",
       "      <td>1500.0</td>\n",
       "      <td>31.092699</td>\n",
       "      <td>64.863280</td>\n",
       "      <td>1883.029003</td>\n",
       "    </tr>\n",
       "    <tr>\n",
       "      <th>8083</th>\n",
       "      <td>1600.0</td>\n",
       "      <td>27.134623</td>\n",
       "      <td>83.887149</td>\n",
       "      <td>377.663949</td>\n",
       "    </tr>\n",
       "    <tr>\n",
       "      <th>8084</th>\n",
       "      <td>1700.0</td>\n",
       "      <td>25.957718</td>\n",
       "      <td>87.244731</td>\n",
       "      <td>7.681469</td>\n",
       "    </tr>\n",
       "    <tr>\n",
       "      <th>8085</th>\n",
       "      <td>1800.0</td>\n",
       "      <td>25.684930</td>\n",
       "      <td>89.553025</td>\n",
       "      <td>-17.134564</td>\n",
       "    </tr>\n",
       "    <tr>\n",
       "      <th>8086</th>\n",
       "      <td>1900.0</td>\n",
       "      <td>25.346256</td>\n",
       "      <td>90.833100</td>\n",
       "      <td>-84.846976</td>\n",
       "    </tr>\n",
       "  </tbody>\n",
       "</table>\n",
       "</div>"
      ],
      "text/plain": [
       "      HORARIO  PREVISOES_TEMPERATURA  PREVISOES_UMIDADE  PREVISOES_RADIACAO\n",
       "8061   1800.0              25.901371          85.158781          -66.635947\n",
       "8062   1900.0              25.591211          85.798707          -78.240328\n",
       "8063   2000.0              25.274708          88.240483         -139.658763\n",
       "8064   2100.0              24.487350          91.740684           68.467417\n",
       "8065   2200.0              24.369041          92.242430          114.908795\n",
       "8066   2300.0              24.192257          93.686074           98.635290\n",
       "8067      0.0              23.959133          94.899108           39.442124\n",
       "8068    100.0              23.866316          95.715498          -32.012088\n",
       "8069    200.0              23.807526          96.038581          -77.511824\n",
       "8070    300.0              23.749052          96.360390         -122.939331\n",
       "8071    400.0              23.690464          96.070766         -161.686642\n",
       "8072    500.0              23.627368          95.789721         -199.893421\n",
       "8073    600.0              23.927328          96.370150          -92.826108\n",
       "8074    700.0              24.680075          92.528381          227.629157\n",
       "8075    800.0              26.503065          84.591552          945.282660\n",
       "8076    900.0              28.645323          76.069360         1677.368502\n",
       "8077   1000.0              29.609490          73.533466         1855.065317\n",
       "8078   1100.0              29.017662          76.694192         1472.365440\n",
       "8079   1200.0              30.515539          69.413196         2048.021257\n",
       "8080   1300.0              31.741852          62.050036         2298.642415\n",
       "8081   1400.0              31.001727          64.743306         2061.832947\n",
       "8082   1500.0              31.092699          64.863280         1883.029003\n",
       "8083   1600.0              27.134623          83.887149          377.663949\n",
       "8084   1700.0              25.957718          87.244731            7.681469\n",
       "8085   1800.0              25.684930          89.553025          -17.134564\n",
       "8086   1900.0              25.346256          90.833100          -84.846976"
      ]
     },
     "execution_count": 709,
     "metadata": {},
     "output_type": "execute_result"
    }
   ],
   "source": [
    "previsoes_dados2"
   ]
  },
  {
   "cell_type": "code",
   "execution_count": 710,
   "metadata": {
    "colab": {
     "base_uri": "https://localhost:8080/",
     "height": 802
    },
    "executionInfo": {
     "elapsed": 45,
     "status": "ok",
     "timestamp": 1654775307853,
     "user": {
      "displayName": "Prince Nyarko",
      "userId": "02482838485601494345"
     },
     "user_tz": 180
    },
    "id": "iu58xjggMEbO",
    "outputId": "34edd404-9c98-4268-b813-cb91a26eb6b3"
   },
   "outputs": [
    {
     "data": {
      "text/html": [
       "<div>\n",
       "<style scoped>\n",
       "    .dataframe tbody tr th:only-of-type {\n",
       "        vertical-align: middle;\n",
       "    }\n",
       "\n",
       "    .dataframe tbody tr th {\n",
       "        vertical-align: top;\n",
       "    }\n",
       "\n",
       "    .dataframe thead th {\n",
       "        text-align: right;\n",
       "    }\n",
       "</style>\n",
       "<table border=\"1\" class=\"dataframe\">\n",
       "  <thead>\n",
       "    <tr style=\"text-align: right;\">\n",
       "      <th></th>\n",
       "      <th>DATA</th>\n",
       "      <th>HORARIO</th>\n",
       "      <th>ATUAL_TEMPERATURA</th>\n",
       "      <th>PREVISOES_TEMPERATURA</th>\n",
       "      <th>ATUAL_UMIDADE</th>\n",
       "      <th>PREVISOES_UMIDADE</th>\n",
       "      <th>ATUAL_RADIACAO</th>\n",
       "      <th>PREVISOES_RADIACAO</th>\n",
       "    </tr>\n",
       "  </thead>\n",
       "  <tbody>\n",
       "    <tr>\n",
       "      <th>8061</th>\n",
       "      <td>2022-06-07</td>\n",
       "      <td>1800.0</td>\n",
       "      <td>25.9</td>\n",
       "      <td>25.901371</td>\n",
       "      <td>84.0</td>\n",
       "      <td>85.158781</td>\n",
       "      <td>3.4</td>\n",
       "      <td>-66.635947</td>\n",
       "    </tr>\n",
       "    <tr>\n",
       "      <th>8062</th>\n",
       "      <td>2022-06-07</td>\n",
       "      <td>1900.0</td>\n",
       "      <td>25.5</td>\n",
       "      <td>25.591211</td>\n",
       "      <td>85.0</td>\n",
       "      <td>85.798707</td>\n",
       "      <td>-0.4</td>\n",
       "      <td>-78.240328</td>\n",
       "    </tr>\n",
       "    <tr>\n",
       "      <th>8063</th>\n",
       "      <td>2022-06-07</td>\n",
       "      <td>2000.0</td>\n",
       "      <td>25.3</td>\n",
       "      <td>25.274708</td>\n",
       "      <td>85.0</td>\n",
       "      <td>88.240483</td>\n",
       "      <td>-2.0</td>\n",
       "      <td>-139.658763</td>\n",
       "    </tr>\n",
       "    <tr>\n",
       "      <th>8064</th>\n",
       "      <td>2022-06-08</td>\n",
       "      <td>2100.0</td>\n",
       "      <td>24.8</td>\n",
       "      <td>24.487350</td>\n",
       "      <td>89.0</td>\n",
       "      <td>91.740684</td>\n",
       "      <td>-2.4</td>\n",
       "      <td>68.467417</td>\n",
       "    </tr>\n",
       "    <tr>\n",
       "      <th>8065</th>\n",
       "      <td>2022-06-08</td>\n",
       "      <td>2200.0</td>\n",
       "      <td>24.7</td>\n",
       "      <td>24.369041</td>\n",
       "      <td>90.0</td>\n",
       "      <td>92.242430</td>\n",
       "      <td>-2.4</td>\n",
       "      <td>114.908795</td>\n",
       "    </tr>\n",
       "    <tr>\n",
       "      <th>8066</th>\n",
       "      <td>2022-06-08</td>\n",
       "      <td>2300.0</td>\n",
       "      <td>24.7</td>\n",
       "      <td>24.192257</td>\n",
       "      <td>90.0</td>\n",
       "      <td>93.686074</td>\n",
       "      <td>-2.3</td>\n",
       "      <td>98.635290</td>\n",
       "    </tr>\n",
       "    <tr>\n",
       "      <th>8067</th>\n",
       "      <td>2022-06-08</td>\n",
       "      <td>0.0</td>\n",
       "      <td>24.5</td>\n",
       "      <td>23.959133</td>\n",
       "      <td>92.0</td>\n",
       "      <td>94.899108</td>\n",
       "      <td>-3.5</td>\n",
       "      <td>39.442124</td>\n",
       "    </tr>\n",
       "    <tr>\n",
       "      <th>8068</th>\n",
       "      <td>2022-06-08</td>\n",
       "      <td>100.0</td>\n",
       "      <td>24.1</td>\n",
       "      <td>23.866316</td>\n",
       "      <td>94.0</td>\n",
       "      <td>95.715498</td>\n",
       "      <td>-3.0</td>\n",
       "      <td>-32.012088</td>\n",
       "    </tr>\n",
       "    <tr>\n",
       "      <th>8069</th>\n",
       "      <td>2022-06-08</td>\n",
       "      <td>200.0</td>\n",
       "      <td>23.8</td>\n",
       "      <td>23.807526</td>\n",
       "      <td>96.0</td>\n",
       "      <td>96.038581</td>\n",
       "      <td>-2.3</td>\n",
       "      <td>-77.511824</td>\n",
       "    </tr>\n",
       "    <tr>\n",
       "      <th>8070</th>\n",
       "      <td>2022-06-08</td>\n",
       "      <td>300.0</td>\n",
       "      <td>23.6</td>\n",
       "      <td>23.749052</td>\n",
       "      <td>97.0</td>\n",
       "      <td>96.360390</td>\n",
       "      <td>-2.2</td>\n",
       "      <td>-122.939331</td>\n",
       "    </tr>\n",
       "    <tr>\n",
       "      <th>8071</th>\n",
       "      <td>2022-06-08</td>\n",
       "      <td>400.0</td>\n",
       "      <td>23.4</td>\n",
       "      <td>23.690464</td>\n",
       "      <td>98.0</td>\n",
       "      <td>96.070766</td>\n",
       "      <td>-2.6</td>\n",
       "      <td>-161.686642</td>\n",
       "    </tr>\n",
       "    <tr>\n",
       "      <th>8072</th>\n",
       "      <td>2022-06-08</td>\n",
       "      <td>500.0</td>\n",
       "      <td>23.2</td>\n",
       "      <td>23.627368</td>\n",
       "      <td>98.0</td>\n",
       "      <td>95.789721</td>\n",
       "      <td>-2.5</td>\n",
       "      <td>-199.893421</td>\n",
       "    </tr>\n",
       "    <tr>\n",
       "      <th>8073</th>\n",
       "      <td>2022-06-08</td>\n",
       "      <td>600.0</td>\n",
       "      <td>23.0</td>\n",
       "      <td>23.927328</td>\n",
       "      <td>98.0</td>\n",
       "      <td>96.370150</td>\n",
       "      <td>37.6</td>\n",
       "      <td>-92.826108</td>\n",
       "    </tr>\n",
       "    <tr>\n",
       "      <th>8074</th>\n",
       "      <td>2022-06-08</td>\n",
       "      <td>700.0</td>\n",
       "      <td>23.7</td>\n",
       "      <td>24.680075</td>\n",
       "      <td>98.0</td>\n",
       "      <td>92.528381</td>\n",
       "      <td>422.4</td>\n",
       "      <td>227.629157</td>\n",
       "    </tr>\n",
       "    <tr>\n",
       "      <th>8075</th>\n",
       "      <td>2022-06-08</td>\n",
       "      <td>800.0</td>\n",
       "      <td>25.3</td>\n",
       "      <td>26.503065</td>\n",
       "      <td>90.0</td>\n",
       "      <td>84.591552</td>\n",
       "      <td>1247.0</td>\n",
       "      <td>945.282660</td>\n",
       "    </tr>\n",
       "    <tr>\n",
       "      <th>8076</th>\n",
       "      <td>2022-06-08</td>\n",
       "      <td>900.0</td>\n",
       "      <td>28.2</td>\n",
       "      <td>28.645323</td>\n",
       "      <td>77.0</td>\n",
       "      <td>76.069360</td>\n",
       "      <td>1918.8</td>\n",
       "      <td>1677.368502</td>\n",
       "    </tr>\n",
       "    <tr>\n",
       "      <th>8077</th>\n",
       "      <td>2022-06-08</td>\n",
       "      <td>1000.0</td>\n",
       "      <td>30.2</td>\n",
       "      <td>29.609490</td>\n",
       "      <td>69.0</td>\n",
       "      <td>73.533466</td>\n",
       "      <td>1874.5</td>\n",
       "      <td>1855.065317</td>\n",
       "    </tr>\n",
       "    <tr>\n",
       "      <th>8078</th>\n",
       "      <td>2022-06-08</td>\n",
       "      <td>1100.0</td>\n",
       "      <td>29.8</td>\n",
       "      <td>29.017662</td>\n",
       "      <td>73.0</td>\n",
       "      <td>76.694192</td>\n",
       "      <td>1932.2</td>\n",
       "      <td>1472.365440</td>\n",
       "    </tr>\n",
       "    <tr>\n",
       "      <th>8079</th>\n",
       "      <td>2022-06-08</td>\n",
       "      <td>1200.0</td>\n",
       "      <td>28.2</td>\n",
       "      <td>30.515539</td>\n",
       "      <td>81.0</td>\n",
       "      <td>69.413196</td>\n",
       "      <td>2897.8</td>\n",
       "      <td>2048.021257</td>\n",
       "    </tr>\n",
       "    <tr>\n",
       "      <th>8080</th>\n",
       "      <td>2022-06-08</td>\n",
       "      <td>1300.0</td>\n",
       "      <td>31.3</td>\n",
       "      <td>31.741852</td>\n",
       "      <td>66.0</td>\n",
       "      <td>62.050036</td>\n",
       "      <td>1792.1</td>\n",
       "      <td>2298.642415</td>\n",
       "    </tr>\n",
       "    <tr>\n",
       "      <th>8081</th>\n",
       "      <td>2022-06-08</td>\n",
       "      <td>1400.0</td>\n",
       "      <td>30.4</td>\n",
       "      <td>31.001727</td>\n",
       "      <td>66.0</td>\n",
       "      <td>64.743306</td>\n",
       "      <td>2455.7</td>\n",
       "      <td>2061.832947</td>\n",
       "    </tr>\n",
       "    <tr>\n",
       "      <th>8082</th>\n",
       "      <td>2022-06-08</td>\n",
       "      <td>1500.0</td>\n",
       "      <td>32.2</td>\n",
       "      <td>31.092699</td>\n",
       "      <td>58.0</td>\n",
       "      <td>64.863280</td>\n",
       "      <td>709.0</td>\n",
       "      <td>1883.029003</td>\n",
       "    </tr>\n",
       "    <tr>\n",
       "      <th>8083</th>\n",
       "      <td>2022-06-08</td>\n",
       "      <td>1600.0</td>\n",
       "      <td>29.8</td>\n",
       "      <td>27.134623</td>\n",
       "      <td>69.0</td>\n",
       "      <td>83.887149</td>\n",
       "      <td>158.4</td>\n",
       "      <td>377.663949</td>\n",
       "    </tr>\n",
       "    <tr>\n",
       "      <th>8084</th>\n",
       "      <td>2022-06-08</td>\n",
       "      <td>1700.0</td>\n",
       "      <td>26.4</td>\n",
       "      <td>25.957718</td>\n",
       "      <td>88.0</td>\n",
       "      <td>87.244731</td>\n",
       "      <td>38.0</td>\n",
       "      <td>7.681469</td>\n",
       "    </tr>\n",
       "    <tr>\n",
       "      <th>8085</th>\n",
       "      <td>2022-06-08</td>\n",
       "      <td>1800.0</td>\n",
       "      <td>25.6</td>\n",
       "      <td>25.684930</td>\n",
       "      <td>89.0</td>\n",
       "      <td>89.553025</td>\n",
       "      <td>2.6</td>\n",
       "      <td>-17.134564</td>\n",
       "    </tr>\n",
       "    <tr>\n",
       "      <th>8086</th>\n",
       "      <td>2022-06-08</td>\n",
       "      <td>1900.0</td>\n",
       "      <td>25.6</td>\n",
       "      <td>25.346256</td>\n",
       "      <td>91.0</td>\n",
       "      <td>90.833100</td>\n",
       "      <td>-2.5</td>\n",
       "      <td>-84.846976</td>\n",
       "    </tr>\n",
       "  </tbody>\n",
       "</table>\n",
       "</div>"
      ],
      "text/plain": [
       "            DATA  HORARIO  ATUAL_TEMPERATURA  PREVISOES_TEMPERATURA  \\\n",
       "8061  2022-06-07   1800.0               25.9              25.901371   \n",
       "8062  2022-06-07   1900.0               25.5              25.591211   \n",
       "8063  2022-06-07   2000.0               25.3              25.274708   \n",
       "8064  2022-06-08   2100.0               24.8              24.487350   \n",
       "8065  2022-06-08   2200.0               24.7              24.369041   \n",
       "8066  2022-06-08   2300.0               24.7              24.192257   \n",
       "8067  2022-06-08      0.0               24.5              23.959133   \n",
       "8068  2022-06-08    100.0               24.1              23.866316   \n",
       "8069  2022-06-08    200.0               23.8              23.807526   \n",
       "8070  2022-06-08    300.0               23.6              23.749052   \n",
       "8071  2022-06-08    400.0               23.4              23.690464   \n",
       "8072  2022-06-08    500.0               23.2              23.627368   \n",
       "8073  2022-06-08    600.0               23.0              23.927328   \n",
       "8074  2022-06-08    700.0               23.7              24.680075   \n",
       "8075  2022-06-08    800.0               25.3              26.503065   \n",
       "8076  2022-06-08    900.0               28.2              28.645323   \n",
       "8077  2022-06-08   1000.0               30.2              29.609490   \n",
       "8078  2022-06-08   1100.0               29.8              29.017662   \n",
       "8079  2022-06-08   1200.0               28.2              30.515539   \n",
       "8080  2022-06-08   1300.0               31.3              31.741852   \n",
       "8081  2022-06-08   1400.0               30.4              31.001727   \n",
       "8082  2022-06-08   1500.0               32.2              31.092699   \n",
       "8083  2022-06-08   1600.0               29.8              27.134623   \n",
       "8084  2022-06-08   1700.0               26.4              25.957718   \n",
       "8085  2022-06-08   1800.0               25.6              25.684930   \n",
       "8086  2022-06-08   1900.0               25.6              25.346256   \n",
       "\n",
       "      ATUAL_UMIDADE  PREVISOES_UMIDADE  ATUAL_RADIACAO  PREVISOES_RADIACAO  \n",
       "8061           84.0          85.158781             3.4          -66.635947  \n",
       "8062           85.0          85.798707            -0.4          -78.240328  \n",
       "8063           85.0          88.240483            -2.0         -139.658763  \n",
       "8064           89.0          91.740684            -2.4           68.467417  \n",
       "8065           90.0          92.242430            -2.4          114.908795  \n",
       "8066           90.0          93.686074            -2.3           98.635290  \n",
       "8067           92.0          94.899108            -3.5           39.442124  \n",
       "8068           94.0          95.715498            -3.0          -32.012088  \n",
       "8069           96.0          96.038581            -2.3          -77.511824  \n",
       "8070           97.0          96.360390            -2.2         -122.939331  \n",
       "8071           98.0          96.070766            -2.6         -161.686642  \n",
       "8072           98.0          95.789721            -2.5         -199.893421  \n",
       "8073           98.0          96.370150            37.6          -92.826108  \n",
       "8074           98.0          92.528381           422.4          227.629157  \n",
       "8075           90.0          84.591552          1247.0          945.282660  \n",
       "8076           77.0          76.069360          1918.8         1677.368502  \n",
       "8077           69.0          73.533466          1874.5         1855.065317  \n",
       "8078           73.0          76.694192          1932.2         1472.365440  \n",
       "8079           81.0          69.413196          2897.8         2048.021257  \n",
       "8080           66.0          62.050036          1792.1         2298.642415  \n",
       "8081           66.0          64.743306          2455.7         2061.832947  \n",
       "8082           58.0          64.863280           709.0         1883.029003  \n",
       "8083           69.0          83.887149           158.4          377.663949  \n",
       "8084           88.0          87.244731            38.0            7.681469  \n",
       "8085           89.0          89.553025             2.6          -17.134564  \n",
       "8086           91.0          90.833100            -2.5          -84.846976  "
      ]
     },
     "execution_count": 710,
     "metadata": {},
     "output_type": "execute_result"
    }
   ],
   "source": [
    "previsoes_dados"
   ]
  },
  {
   "cell_type": "code",
   "execution_count": 711,
   "metadata": {
    "executionInfo": {
     "elapsed": 43,
     "status": "ok",
     "timestamp": 1654775307853,
     "user": {
      "displayName": "Prince Nyarko",
      "userId": "02482838485601494345"
     },
     "user_tz": 180
    },
    "id": "bsuYJPTwjbzr"
   },
   "outputs": [],
   "source": [
    "previsoes_dados.to_csv('garoa.csv', index=False)"
   ]
  },
  {
   "cell_type": "code",
   "execution_count": 712,
   "metadata": {},
   "outputs": [],
   "source": [
    "dados.to_csv('garoa_raw.csv', index=False)\n"
   ]
  },
  {
   "cell_type": "code",
   "execution_count": 713,
   "metadata": {
    "colab": {
     "base_uri": "https://localhost:8080/"
    },
    "executionInfo": {
     "elapsed": 43,
     "status": "ok",
     "timestamp": 1654775307854,
     "user": {
      "displayName": "Prince Nyarko",
      "userId": "02482838485601494345"
     },
     "user_tz": 180
    },
    "id": "hTH-zGQnlGf0",
    "outputId": "cf264b9e-d029-4db4-ad1a-d89f55b2aa4e"
   },
   "outputs": [],
   "source": [
    "#previsoes_dados.to_excel('garoa.xls', index=False)"
   ]
  },
  {
   "cell_type": "code",
   "execution_count": 714,
   "metadata": {
    "colab": {
     "base_uri": "https://localhost:8080/"
    },
    "executionInfo": {
     "elapsed": 37,
     "status": "ok",
     "timestamp": 1654775307854,
     "user": {
      "displayName": "Prince Nyarko",
      "userId": "02482838485601494345"
     },
     "user_tz": 180
    },
    "id": "y0CYebmjGBVQ",
    "outputId": "064e297e-cc72-4ad0-fb07-9e6522c483c2"
   },
   "outputs": [
    {
     "data": {
      "text/plain": [
       "0.04194558868687161"
      ]
     },
     "execution_count": 714,
     "metadata": {},
     "output_type": "execute_result"
    }
   ],
   "source": [
    "umid_erro"
   ]
  },
  {
   "cell_type": "code",
   "execution_count": 715,
   "metadata": {
    "colab": {
     "base_uri": "https://localhost:8080/"
    },
    "executionInfo": {
     "elapsed": 34,
     "status": "ok",
     "timestamp": 1654775307855,
     "user": {
      "displayName": "Prince Nyarko",
      "userId": "02482838485601494345"
     },
     "user_tz": 180
    },
    "id": "9e21wTLnNU2Z",
    "outputId": "34d4dc19-bf98-4d4c-dfc7-2dfc31ceb849"
   },
   "outputs": [
    {
     "data": {
      "text/plain": [
       "0.022349501230286114"
      ]
     },
     "execution_count": 715,
     "metadata": {},
     "output_type": "execute_result"
    }
   ],
   "source": [
    "temp_erro"
   ]
  },
  {
   "cell_type": "code",
   "execution_count": 716,
   "metadata": {
    "colab": {
     "base_uri": "https://localhost:8080/"
    },
    "executionInfo": {
     "elapsed": 30,
     "status": "ok",
     "timestamp": 1654775307855,
     "user": {
      "displayName": "Prince Nyarko",
      "userId": "02482838485601494345"
     },
     "user_tz": 180
    },
    "id": "YREAn3RFNYIg",
    "outputId": "24738d12-a4bb-4f5f-87c9-e30eba80af36"
   },
   "outputs": [
    {
     "data": {
      "text/plain": [
       "27.139873126438893"
      ]
     },
     "execution_count": 716,
     "metadata": {},
     "output_type": "execute_result"
    }
   ],
   "source": [
    "radi_erro"
   ]
  },
  {
   "cell_type": "code",
   "execution_count": 717,
   "metadata": {
    "colab": {
     "base_uri": "https://localhost:8080/",
     "height": 284
    },
    "executionInfo": {
     "elapsed": 645,
     "status": "ok",
     "timestamp": 1654775308475,
     "user": {
      "displayName": "Prince Nyarko",
      "userId": "02482838485601494345"
     },
     "user_tz": 180
    },
    "id": "6UNTwbypTB2R",
    "outputId": "4186c582-a4d0-461f-92e1-7a723e501a3c"
   },
   "outputs": [
    {
     "data": {
      "text/plain": [
       "<AxesSubplot:>"
      ]
     },
     "execution_count": 717,
     "metadata": {},
     "output_type": "execute_result"
    },
    {
     "data": {
      "image/png": "[encoded data removed]",
      "text/plain": [
       "<Figure size 432x288 with 1 Axes>"
      ]
     },
     "metadata": {
      "needs_background": "light"
     },
     "output_type": "display_data"
    }
   ],
   "source": [
    "previsoes_dados.plot()"
   ]
  },
  {
   "cell_type": "code",
   "execution_count": 718,
   "metadata": {},
   "outputs": [
    {
     "data": {
      "text/plain": [
       "<AxesSubplot:title={'center':'TEMPERATURA'}, xlabel='HORARIO'>"
      ]
     },
     "execution_count": 718,
     "metadata": {},
     "output_type": "execute_result"
    },
    {
     "data": {
      "image/png": "[encoded data removed]",
      "text/plain": [
       "<Figure size 1728x432 with 1 Axes>"
      ]
     },
     "metadata": {
      "needs_background": "light"
     },
     "output_type": "display_data"
    }
   ],
   "source": [
    "dados.boxplot(\"TEMPERATURA\", by='HORARIO', figsize=(24,6))"
   ]
  },
  {
   "cell_type": "code",
   "execution_count": 719,
   "metadata": {
    "colab": {
     "base_uri": "https://localhost:8080/",
     "height": 438
    },
    "executionInfo": {
     "elapsed": 554,
     "status": "ok",
     "timestamp": 1654775309020,
     "user": {
      "displayName": "Prince Nyarko",
      "userId": "02482838485601494345"
     },
     "user_tz": 180
    },
    "id": "Ux4sYPgRU-zJ",
    "outputId": "8f569319-94fa-4d8e-b057-e5332ea5aa80"
   },
   "outputs": [
    {
     "data": {
      "text/plain": [
       "<AxesSubplot:title={'center':'PREVISOES_TEMPERATURA'}, xlabel='HORARIO'>"
      ]
     },
     "execution_count": 719,
     "metadata": {},
     "output_type": "execute_result"
    },
    {
     "data": {
      "image/png": "[encoded data removed]",
      "text/plain": [
       "<Figure size 1728x432 with 1 Axes>"
      ]
     },
     "metadata": {
      "needs_background": "light"
     },
     "output_type": "display_data"
    }
   ],
   "source": [
    "previsoes_dados.boxplot(\"PREVISOES_TEMPERATURA\", by='HORARIO', figsize=(24,6))"
   ]
  },
  {
   "cell_type": "code",
   "execution_count": 720,
   "metadata": {
    "executionInfo": {
     "elapsed": 14,
     "status": "ok",
     "timestamp": 1654775309021,
     "user": {
      "displayName": "Prince Nyarko",
      "userId": "02482838485601494345"
     },
     "user_tz": 180
    },
    "id": "hyNmMIhHTFtw"
   },
   "outputs": [],
   "source": [
    "import matplotlib.pyplot as plt\n"
   ]
  },
  {
   "cell_type": "code",
   "execution_count": 721,
   "metadata": {
    "colab": {
     "base_uri": "https://localhost:8080/",
     "height": 265
    },
    "executionInfo": {
     "elapsed": 14,
     "status": "ok",
     "timestamp": 1654775309022,
     "user": {
      "displayName": "Prince Nyarko",
      "userId": "02482838485601494345"
     },
     "user_tz": 180
    },
    "id": "ZeAJDeQcTUZH",
    "outputId": "efcec62b-55a8-4f27-cbd9-56910dd34a33"
   },
   "outputs": [
    {
     "data": {
      "image/png": "[encoded data removed]",
      "text/plain": [
       "<Figure size 432x288 with 1 Axes>"
      ]
     },
     "metadata": {
      "needs_background": "light"
     },
     "output_type": "display_data"
    }
   ],
   "source": [
    "plt.plot( previsoes_dados.PREVISOES_TEMPERATURA)\n",
    "#plt.plot(previsoes_dados.HORARIO, previsoes_dados.ATUAL_UMIDADE)\n",
    "#plt.plot(previsoes_dados.HORARIO, previsoes_dados.ATUAL_RADIACAO)\n",
    "\n",
    "plt.show()"
   ]
  }
 ],
 "metadata": {
  "colab": {
   "collapsed_sections": [],
   "name": "Cópia de teste.ipynb",
   "provenance": [
    {
     "file_id": "https://github.com/garoa-startup/previsao/blob/main/modelo/teste.ipynb",
     "timestamp": 1653564358004
    }
   ]
  },
  "kernelspec": {
   "display_name": "Python 3.10.5 64-bit",
   "language": "python",
   "name": "python3"
  },
  "language_info": {
   "codemirror_mode": {
    "name": "ipython",
    "version": 3
   },
   "file_extension": ".py",
   "mimetype": "text/x-python",
   "name": "python",
   "nbconvert_exporter": "python",
   "pygments_lexer": "ipython3",
   "version": "3.10.5"
  },
  "vscode": {
   "interpreter": {
    "hash": "4e1d9a8909477db77738c33245c29c7265277ef753467dede8cf3f814cde494e"
   }
  }
 },
 "nbformat": 4,
 "nbformat_minor": 1
}
