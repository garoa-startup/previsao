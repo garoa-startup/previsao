{
 "cells": [
  {
   "cell_type": "code",
   "execution_count": 393,
   "metadata": {
    "executionInfo": {
     "elapsed": 10679,
     "status": "ok",
     "timestamp": 1654775303331,
     "user": {
      "displayName": "Prince Nyarko",
      "userId": "02482838485601494345"
     },
     "user_tz": 180
    },
    "id": "eEaRMEvaGBU-"
   },
   "outputs": [],
   "source": [
    "import requests\n",
    "url = 'https://apitempo.inmet.gov.br/estacao/2021-06-08/2022-06-09/A201'\n",
    "resultado = requests.get(url)"
   ]
  },
  {
   "cell_type": "code",
   "execution_count": 394,
   "metadata": {
    "executionInfo": {
     "elapsed": 5,
     "status": "ok",
     "timestamp": 1654775303333,
     "user": {
      "displayName": "Prince Nyarko",
      "userId": "02482838485601494345"
     },
     "user_tz": 180
    },
    "id": "9VSpLxYQGBVA"
   },
   "outputs": [],
   "source": [
    "import json\n",
    "dados_org = resultado.json()\n",
    "dados_str = json.dumps(dados_org)\n"
   ]
  },
  {
   "cell_type": "code",
   "execution_count": 395,
   "metadata": {
    "executionInfo": {
     "elapsed": 288,
     "status": "ok",
     "timestamp": 1654775303617,
     "user": {
      "displayName": "Prince Nyarko",
      "userId": "02482838485601494345"
     },
     "user_tz": 180
    },
    "id": "o615QirjGBVA"
   },
   "outputs": [],
   "source": [
    "import pandas as pd\n",
    "import numpy as np"
   ]
  },
  {
   "cell_type": "code",
   "execution_count": 396,
   "metadata": {
    "colab": {
     "base_uri": "https://localhost:8080/",
     "height": 488
    },
    "executionInfo": {
     "elapsed": 346,
     "status": "ok",
     "timestamp": 1654775303961,
     "user": {
      "displayName": "Prince Nyarko",
      "userId": "02482838485601494345"
     },
     "user_tz": 180
    },
    "id": "fpUU-zoIGBVB",
    "outputId": "ca952152-c038-4acc-b482-e29c866a0a6f"
   },
   "outputs": [
    {
     "data": {
      "text/html": [
       "<div>\n",
       "<style scoped>\n",
       "    .dataframe tbody tr th:only-of-type {\n",
       "        vertical-align: middle;\n",
       "    }\n",
       "\n",
       "    .dataframe tbody tr th {\n",
       "        vertical-align: top;\n",
       "    }\n",
       "\n",
       "    .dataframe thead th {\n",
       "        text-align: right;\n",
       "    }\n",
       "</style>\n",
       "<table border=\"1\" class=\"dataframe\">\n",
       "  <thead>\n",
       "    <tr style=\"text-align: right;\">\n",
       "      <th></th>\n",
       "      <th>DC_NOME</th>\n",
       "      <th>PRE_INS</th>\n",
       "      <th>TEM_SEN</th>\n",
       "      <th>VL_LATITUDE</th>\n",
       "      <th>PRE_MAX</th>\n",
       "      <th>UF</th>\n",
       "      <th>RAD_GLO</th>\n",
       "      <th>PTO_INS</th>\n",
       "      <th>TEM_MIN</th>\n",
       "      <th>VL_LONGITUDE</th>\n",
       "      <th>...</th>\n",
       "      <th>VEN_VEL</th>\n",
       "      <th>PTO_MIN</th>\n",
       "      <th>TEM_MAX</th>\n",
       "      <th>TEN_BAT</th>\n",
       "      <th>VEN_RAJ</th>\n",
       "      <th>TEM_CPU</th>\n",
       "      <th>TEM_INS</th>\n",
       "      <th>UMD_INS</th>\n",
       "      <th>CD_ESTACAO</th>\n",
       "      <th>HR_MEDICAO</th>\n",
       "    </tr>\n",
       "  </thead>\n",
       "  <tbody>\n",
       "    <tr>\n",
       "      <th>0</th>\n",
       "      <td>BELÉM</td>\n",
       "      <td>1008.5</td>\n",
       "      <td>29.2</td>\n",
       "      <td>-1.411228</td>\n",
       "      <td>1008.5</td>\n",
       "      <td>PA</td>\n",
       "      <td>-0.8</td>\n",
       "      <td>22.9</td>\n",
       "      <td>26.2</td>\n",
       "      <td>-48.439512</td>\n",
       "      <td>...</td>\n",
       "      <td>0.2</td>\n",
       "      <td>22.7</td>\n",
       "      <td>26.8</td>\n",
       "      <td>13.1</td>\n",
       "      <td>3.1</td>\n",
       "      <td>28.0</td>\n",
       "      <td>26.8</td>\n",
       "      <td>79.0</td>\n",
       "      <td>A201</td>\n",
       "      <td>0</td>\n",
       "    </tr>\n",
       "    <tr>\n",
       "      <th>1</th>\n",
       "      <td>BELÉM</td>\n",
       "      <td>1008.9</td>\n",
       "      <td>29.1</td>\n",
       "      <td>-1.411228</td>\n",
       "      <td>1008.9</td>\n",
       "      <td>PA</td>\n",
       "      <td>-2.6</td>\n",
       "      <td>23.0</td>\n",
       "      <td>26.5</td>\n",
       "      <td>-48.439512</td>\n",
       "      <td>...</td>\n",
       "      <td>0.2</td>\n",
       "      <td>22.8</td>\n",
       "      <td>26.9</td>\n",
       "      <td>13.0</td>\n",
       "      <td>3.2</td>\n",
       "      <td>28.0</td>\n",
       "      <td>26.6</td>\n",
       "      <td>81.0</td>\n",
       "      <td>A201</td>\n",
       "      <td>100</td>\n",
       "    </tr>\n",
       "    <tr>\n",
       "      <th>2</th>\n",
       "      <td>BELÉM</td>\n",
       "      <td>1009.6</td>\n",
       "      <td>29.3</td>\n",
       "      <td>-1.411228</td>\n",
       "      <td>1009.6</td>\n",
       "      <td>PA</td>\n",
       "      <td>-3.3</td>\n",
       "      <td>24.2</td>\n",
       "      <td>26.0</td>\n",
       "      <td>-48.439512</td>\n",
       "      <td>...</td>\n",
       "      <td>0.6</td>\n",
       "      <td>23.0</td>\n",
       "      <td>26.6</td>\n",
       "      <td>13.0</td>\n",
       "      <td>4.0</td>\n",
       "      <td>28.0</td>\n",
       "      <td>26.0</td>\n",
       "      <td>90.0</td>\n",
       "      <td>A201</td>\n",
       "      <td>200</td>\n",
       "    </tr>\n",
       "    <tr>\n",
       "      <th>3</th>\n",
       "      <td>BELÉM</td>\n",
       "      <td>1009.2</td>\n",
       "      <td>28.9</td>\n",
       "      <td>-1.411228</td>\n",
       "      <td>1009.6</td>\n",
       "      <td>PA</td>\n",
       "      <td>-2.0</td>\n",
       "      <td>24.4</td>\n",
       "      <td>25.4</td>\n",
       "      <td>-48.439512</td>\n",
       "      <td>...</td>\n",
       "      <td>0.4</td>\n",
       "      <td>24.2</td>\n",
       "      <td>26.1</td>\n",
       "      <td>13.0</td>\n",
       "      <td>4.0</td>\n",
       "      <td>27.0</td>\n",
       "      <td>25.4</td>\n",
       "      <td>94.0</td>\n",
       "      <td>A201</td>\n",
       "      <td>300</td>\n",
       "    </tr>\n",
       "    <tr>\n",
       "      <th>4</th>\n",
       "      <td>BELÉM</td>\n",
       "      <td>1008.6</td>\n",
       "      <td>28.7</td>\n",
       "      <td>-1.411228</td>\n",
       "      <td>1009.2</td>\n",
       "      <td>PA</td>\n",
       "      <td>-2.0</td>\n",
       "      <td>24.5</td>\n",
       "      <td>25.4</td>\n",
       "      <td>-48.439512</td>\n",
       "      <td>...</td>\n",
       "      <td>1.1</td>\n",
       "      <td>24.4</td>\n",
       "      <td>25.5</td>\n",
       "      <td>13.0</td>\n",
       "      <td>4.3</td>\n",
       "      <td>27.0</td>\n",
       "      <td>25.5</td>\n",
       "      <td>94.0</td>\n",
       "      <td>A201</td>\n",
       "      <td>400</td>\n",
       "    </tr>\n",
       "    <tr>\n",
       "      <th>...</th>\n",
       "      <td>...</td>\n",
       "      <td>...</td>\n",
       "      <td>...</td>\n",
       "      <td>...</td>\n",
       "      <td>...</td>\n",
       "      <td>...</td>\n",
       "      <td>...</td>\n",
       "      <td>...</td>\n",
       "      <td>...</td>\n",
       "      <td>...</td>\n",
       "      <td>...</td>\n",
       "      <td>...</td>\n",
       "      <td>...</td>\n",
       "      <td>...</td>\n",
       "      <td>...</td>\n",
       "      <td>...</td>\n",
       "      <td>...</td>\n",
       "      <td>...</td>\n",
       "      <td>...</td>\n",
       "      <td>...</td>\n",
       "      <td>...</td>\n",
       "    </tr>\n",
       "    <tr>\n",
       "      <th>8803</th>\n",
       "      <td>BELÉM</td>\n",
       "      <td>1007.0</td>\n",
       "      <td>33.5</td>\n",
       "      <td>-1.411228</td>\n",
       "      <td>1007.1</td>\n",
       "      <td>PA</td>\n",
       "      <td>1748.5</td>\n",
       "      <td>25.5</td>\n",
       "      <td>28.1</td>\n",
       "      <td>-48.439512</td>\n",
       "      <td>...</td>\n",
       "      <td>1.3</td>\n",
       "      <td>24.6</td>\n",
       "      <td>31.0</td>\n",
       "      <td>14.6</td>\n",
       "      <td>4.0</td>\n",
       "      <td>33.0</td>\n",
       "      <td>30.7</td>\n",
       "      <td>74.0</td>\n",
       "      <td>A201</td>\n",
       "      <td>1900</td>\n",
       "    </tr>\n",
       "    <tr>\n",
       "      <th>8804</th>\n",
       "      <td>BELÉM</td>\n",
       "      <td>1008.3</td>\n",
       "      <td>25.5</td>\n",
       "      <td>-1.411228</td>\n",
       "      <td>1008.7</td>\n",
       "      <td>PA</td>\n",
       "      <td>142.9</td>\n",
       "      <td>22.7</td>\n",
       "      <td>23.3</td>\n",
       "      <td>-48.439512</td>\n",
       "      <td>...</td>\n",
       "      <td>1.4</td>\n",
       "      <td>22.6</td>\n",
       "      <td>30.8</td>\n",
       "      <td>13.1</td>\n",
       "      <td>11.3</td>\n",
       "      <td>30.0</td>\n",
       "      <td>23.3</td>\n",
       "      <td>96.0</td>\n",
       "      <td>A201</td>\n",
       "      <td>2000</td>\n",
       "    </tr>\n",
       "    <tr>\n",
       "      <th>8805</th>\n",
       "      <td>BELÉM</td>\n",
       "      <td>1008.6</td>\n",
       "      <td>26.6</td>\n",
       "      <td>-1.411228</td>\n",
       "      <td>1008.6</td>\n",
       "      <td>PA</td>\n",
       "      <td>17.7</td>\n",
       "      <td>22.8</td>\n",
       "      <td>23.3</td>\n",
       "      <td>-48.439512</td>\n",
       "      <td>...</td>\n",
       "      <td>0.1</td>\n",
       "      <td>22.6</td>\n",
       "      <td>23.5</td>\n",
       "      <td>13.1</td>\n",
       "      <td>4.1</td>\n",
       "      <td>27.0</td>\n",
       "      <td>23.4</td>\n",
       "      <td>97.0</td>\n",
       "      <td>A201</td>\n",
       "      <td>2100</td>\n",
       "    </tr>\n",
       "    <tr>\n",
       "      <th>8806</th>\n",
       "      <td>BELÉM</td>\n",
       "      <td>1009.0</td>\n",
       "      <td>26.6</td>\n",
       "      <td>-1.411228</td>\n",
       "      <td>1009.0</td>\n",
       "      <td>PA</td>\n",
       "      <td>1.6</td>\n",
       "      <td>22.9</td>\n",
       "      <td>23.3</td>\n",
       "      <td>-48.439512</td>\n",
       "      <td>...</td>\n",
       "      <td>0.4</td>\n",
       "      <td>22.8</td>\n",
       "      <td>23.4</td>\n",
       "      <td>13.0</td>\n",
       "      <td>1.9</td>\n",
       "      <td>26.0</td>\n",
       "      <td>23.4</td>\n",
       "      <td>97.0</td>\n",
       "      <td>A201</td>\n",
       "      <td>2200</td>\n",
       "    </tr>\n",
       "    <tr>\n",
       "      <th>8807</th>\n",
       "      <td>BELÉM</td>\n",
       "      <td>NaN</td>\n",
       "      <td>NaN</td>\n",
       "      <td>-1.411228</td>\n",
       "      <td>NaN</td>\n",
       "      <td>PA</td>\n",
       "      <td>NaN</td>\n",
       "      <td>NaN</td>\n",
       "      <td>NaN</td>\n",
       "      <td>-48.439512</td>\n",
       "      <td>...</td>\n",
       "      <td>NaN</td>\n",
       "      <td>NaN</td>\n",
       "      <td>NaN</td>\n",
       "      <td>NaN</td>\n",
       "      <td>NaN</td>\n",
       "      <td>NaN</td>\n",
       "      <td>NaN</td>\n",
       "      <td>NaN</td>\n",
       "      <td>A201</td>\n",
       "      <td>2300</td>\n",
       "    </tr>\n",
       "  </tbody>\n",
       "</table>\n",
       "<p>8808 rows × 27 columns</p>\n",
       "</div>"
      ],
      "text/plain": [
       "     DC_NOME  PRE_INS  TEM_SEN  VL_LATITUDE  PRE_MAX  UF  RAD_GLO  PTO_INS  \\\n",
       "0      BELÉM   1008.5     29.2    -1.411228   1008.5  PA     -0.8     22.9   \n",
       "1      BELÉM   1008.9     29.1    -1.411228   1008.9  PA     -2.6     23.0   \n",
       "2      BELÉM   1009.6     29.3    -1.411228   1009.6  PA     -3.3     24.2   \n",
       "3      BELÉM   1009.2     28.9    -1.411228   1009.6  PA     -2.0     24.4   \n",
       "4      BELÉM   1008.6     28.7    -1.411228   1009.2  PA     -2.0     24.5   \n",
       "...      ...      ...      ...          ...      ...  ..      ...      ...   \n",
       "8803   BELÉM   1007.0     33.5    -1.411228   1007.1  PA   1748.5     25.5   \n",
       "8804   BELÉM   1008.3     25.5    -1.411228   1008.7  PA    142.9     22.7   \n",
       "8805   BELÉM   1008.6     26.6    -1.411228   1008.6  PA     17.7     22.8   \n",
       "8806   BELÉM   1009.0     26.6    -1.411228   1009.0  PA      1.6     22.9   \n",
       "8807   BELÉM      NaN      NaN    -1.411228      NaN  PA      NaN      NaN   \n",
       "\n",
       "      TEM_MIN  VL_LONGITUDE  ...  VEN_VEL  PTO_MIN  TEM_MAX TEN_BAT  VEN_RAJ  \\\n",
       "0        26.2    -48.439512  ...      0.2     22.7     26.8    13.1      3.1   \n",
       "1        26.5    -48.439512  ...      0.2     22.8     26.9    13.0      3.2   \n",
       "2        26.0    -48.439512  ...      0.6     23.0     26.6    13.0      4.0   \n",
       "3        25.4    -48.439512  ...      0.4     24.2     26.1    13.0      4.0   \n",
       "4        25.4    -48.439512  ...      1.1     24.4     25.5    13.0      4.3   \n",
       "...       ...           ...  ...      ...      ...      ...     ...      ...   \n",
       "8803     28.1    -48.439512  ...      1.3     24.6     31.0    14.6      4.0   \n",
       "8804     23.3    -48.439512  ...      1.4     22.6     30.8    13.1     11.3   \n",
       "8805     23.3    -48.439512  ...      0.1     22.6     23.5    13.1      4.1   \n",
       "8806     23.3    -48.439512  ...      0.4     22.8     23.4    13.0      1.9   \n",
       "8807      NaN    -48.439512  ...      NaN      NaN      NaN     NaN      NaN   \n",
       "\n",
       "      TEM_CPU  TEM_INS  UMD_INS  CD_ESTACAO  HR_MEDICAO  \n",
       "0        28.0     26.8     79.0        A201           0  \n",
       "1        28.0     26.6     81.0        A201         100  \n",
       "2        28.0     26.0     90.0        A201         200  \n",
       "3        27.0     25.4     94.0        A201         300  \n",
       "4        27.0     25.5     94.0        A201         400  \n",
       "...       ...      ...      ...         ...         ...  \n",
       "8803     33.0     30.7     74.0        A201        1900  \n",
       "8804     30.0     23.3     96.0        A201        2000  \n",
       "8805     27.0     23.4     97.0        A201        2100  \n",
       "8806     26.0     23.4     97.0        A201        2200  \n",
       "8807      NaN      NaN      NaN        A201        2300  \n",
       "\n",
       "[8808 rows x 27 columns]"
      ]
     },
     "execution_count": 396,
     "metadata": {},
     "output_type": "execute_result"
    }
   ],
   "source": [
    "dados_tabla = pd.read_json(dados_str)\n",
    "dados_tabla\n"
   ]
  },
  {
   "cell_type": "code",
   "execution_count": 397,
   "metadata": {
    "colab": {
     "base_uri": "https://localhost:8080/",
     "height": 424
    },
    "executionInfo": {
     "elapsed": 12,
     "status": "ok",
     "timestamp": 1654775303962,
     "user": {
      "displayName": "Prince Nyarko",
      "userId": "02482838485601494345"
     },
     "user_tz": 180
    },
    "id": "qWYgdsHyGBVB",
    "outputId": "caa3785e-cb7f-47ff-8e6c-5e641bba03f3"
   },
   "outputs": [
    {
     "data": {
      "text/html": [
       "<div>\n",
       "<style scoped>\n",
       "    .dataframe tbody tr th:only-of-type {\n",
       "        vertical-align: middle;\n",
       "    }\n",
       "\n",
       "    .dataframe tbody tr th {\n",
       "        vertical-align: top;\n",
       "    }\n",
       "\n",
       "    .dataframe thead th {\n",
       "        text-align: right;\n",
       "    }\n",
       "</style>\n",
       "<table border=\"1\" class=\"dataframe\">\n",
       "  <thead>\n",
       "    <tr style=\"text-align: right;\">\n",
       "      <th></th>\n",
       "      <th>DT_MEDICAO</th>\n",
       "      <th>HR_MEDICAO</th>\n",
       "      <th>TEM_INS</th>\n",
       "      <th>UMD_INS</th>\n",
       "      <th>RAD_GLO</th>\n",
       "    </tr>\n",
       "  </thead>\n",
       "  <tbody>\n",
       "    <tr>\n",
       "      <th>0</th>\n",
       "      <td>2021-06-08</td>\n",
       "      <td>0</td>\n",
       "      <td>26.8</td>\n",
       "      <td>79.0</td>\n",
       "      <td>-0.8</td>\n",
       "    </tr>\n",
       "    <tr>\n",
       "      <th>1</th>\n",
       "      <td>2021-06-08</td>\n",
       "      <td>100</td>\n",
       "      <td>26.6</td>\n",
       "      <td>81.0</td>\n",
       "      <td>-2.6</td>\n",
       "    </tr>\n",
       "    <tr>\n",
       "      <th>2</th>\n",
       "      <td>2021-06-08</td>\n",
       "      <td>200</td>\n",
       "      <td>26.0</td>\n",
       "      <td>90.0</td>\n",
       "      <td>-3.3</td>\n",
       "    </tr>\n",
       "    <tr>\n",
       "      <th>3</th>\n",
       "      <td>2021-06-08</td>\n",
       "      <td>300</td>\n",
       "      <td>25.4</td>\n",
       "      <td>94.0</td>\n",
       "      <td>-2.0</td>\n",
       "    </tr>\n",
       "    <tr>\n",
       "      <th>4</th>\n",
       "      <td>2021-06-08</td>\n",
       "      <td>400</td>\n",
       "      <td>25.5</td>\n",
       "      <td>94.0</td>\n",
       "      <td>-2.0</td>\n",
       "    </tr>\n",
       "    <tr>\n",
       "      <th>...</th>\n",
       "      <td>...</td>\n",
       "      <td>...</td>\n",
       "      <td>...</td>\n",
       "      <td>...</td>\n",
       "      <td>...</td>\n",
       "    </tr>\n",
       "    <tr>\n",
       "      <th>8803</th>\n",
       "      <td>2022-06-09</td>\n",
       "      <td>1900</td>\n",
       "      <td>30.7</td>\n",
       "      <td>74.0</td>\n",
       "      <td>1748.5</td>\n",
       "    </tr>\n",
       "    <tr>\n",
       "      <th>8804</th>\n",
       "      <td>2022-06-09</td>\n",
       "      <td>2000</td>\n",
       "      <td>23.3</td>\n",
       "      <td>96.0</td>\n",
       "      <td>142.9</td>\n",
       "    </tr>\n",
       "    <tr>\n",
       "      <th>8805</th>\n",
       "      <td>2022-06-09</td>\n",
       "      <td>2100</td>\n",
       "      <td>23.4</td>\n",
       "      <td>97.0</td>\n",
       "      <td>17.7</td>\n",
       "    </tr>\n",
       "    <tr>\n",
       "      <th>8806</th>\n",
       "      <td>2022-06-09</td>\n",
       "      <td>2200</td>\n",
       "      <td>23.4</td>\n",
       "      <td>97.0</td>\n",
       "      <td>1.6</td>\n",
       "    </tr>\n",
       "    <tr>\n",
       "      <th>8807</th>\n",
       "      <td>2022-06-09</td>\n",
       "      <td>2300</td>\n",
       "      <td>NaN</td>\n",
       "      <td>NaN</td>\n",
       "      <td>NaN</td>\n",
       "    </tr>\n",
       "  </tbody>\n",
       "</table>\n",
       "<p>8808 rows × 5 columns</p>\n",
       "</div>"
      ],
      "text/plain": [
       "      DT_MEDICAO  HR_MEDICAO  TEM_INS  UMD_INS  RAD_GLO\n",
       "0     2021-06-08           0     26.8     79.0     -0.8\n",
       "1     2021-06-08         100     26.6     81.0     -2.6\n",
       "2     2021-06-08         200     26.0     90.0     -3.3\n",
       "3     2021-06-08         300     25.4     94.0     -2.0\n",
       "4     2021-06-08         400     25.5     94.0     -2.0\n",
       "...          ...         ...      ...      ...      ...\n",
       "8803  2022-06-09        1900     30.7     74.0   1748.5\n",
       "8804  2022-06-09        2000     23.3     96.0    142.9\n",
       "8805  2022-06-09        2100     23.4     97.0     17.7\n",
       "8806  2022-06-09        2200     23.4     97.0      1.6\n",
       "8807  2022-06-09        2300      NaN      NaN      NaN\n",
       "\n",
       "[8808 rows x 5 columns]"
      ]
     },
     "execution_count": 397,
     "metadata": {},
     "output_type": "execute_result"
    }
   ],
   "source": [
    "dados = dados_tabla[['DT_MEDICAO', 'HR_MEDICAO', 'TEM_INS', 'UMD_INS', 'RAD_GLO']]\n",
    "dados"
   ]
  },
  {
   "cell_type": "markdown",
   "metadata": {
    "id": "YgXSxnmPGBVC"
   },
   "source": [
    "# Renomia o titulo do nosso dados"
   ]
  },
  {
   "cell_type": "code",
   "execution_count": 398,
   "metadata": {
    "executionInfo": {
     "elapsed": 9,
     "status": "ok",
     "timestamp": 1654775303962,
     "user": {
      "displayName": "Prince Nyarko",
      "userId": "02482838485601494345"
     },
     "user_tz": 180
    },
    "id": "rKDBPYuTGBVD"
   },
   "outputs": [],
   "source": [
    "dados.columns = ['DATA','HORARIO', 'TEMPERATURA', 'UMIDADE', 'RADIACAO']"
   ]
  },
  {
   "cell_type": "code",
   "execution_count": 399,
   "metadata": {
    "colab": {
     "base_uri": "https://localhost:8080/",
     "height": 424
    },
    "executionInfo": {
     "elapsed": 9,
     "status": "ok",
     "timestamp": 1654775303962,
     "user": {
      "displayName": "Prince Nyarko",
      "userId": "02482838485601494345"
     },
     "user_tz": 180
    },
    "id": "anFfGrDYGBVD",
    "outputId": "c5d87ca2-c798-405e-e990-1c981d211861"
   },
   "outputs": [
    {
     "data": {
      "text/html": [
       "<div>\n",
       "<style scoped>\n",
       "    .dataframe tbody tr th:only-of-type {\n",
       "        vertical-align: middle;\n",
       "    }\n",
       "\n",
       "    .dataframe tbody tr th {\n",
       "        vertical-align: top;\n",
       "    }\n",
       "\n",
       "    .dataframe thead th {\n",
       "        text-align: right;\n",
       "    }\n",
       "</style>\n",
       "<table border=\"1\" class=\"dataframe\">\n",
       "  <thead>\n",
       "    <tr style=\"text-align: right;\">\n",
       "      <th></th>\n",
       "      <th>DATA</th>\n",
       "      <th>HORARIO</th>\n",
       "      <th>TEMPERATURA</th>\n",
       "      <th>UMIDADE</th>\n",
       "      <th>RADIACAO</th>\n",
       "    </tr>\n",
       "  </thead>\n",
       "  <tbody>\n",
       "    <tr>\n",
       "      <th>0</th>\n",
       "      <td>2021-06-08</td>\n",
       "      <td>0</td>\n",
       "      <td>26.8</td>\n",
       "      <td>79.0</td>\n",
       "      <td>-0.8</td>\n",
       "    </tr>\n",
       "    <tr>\n",
       "      <th>1</th>\n",
       "      <td>2021-06-08</td>\n",
       "      <td>100</td>\n",
       "      <td>26.6</td>\n",
       "      <td>81.0</td>\n",
       "      <td>-2.6</td>\n",
       "    </tr>\n",
       "    <tr>\n",
       "      <th>2</th>\n",
       "      <td>2021-06-08</td>\n",
       "      <td>200</td>\n",
       "      <td>26.0</td>\n",
       "      <td>90.0</td>\n",
       "      <td>-3.3</td>\n",
       "    </tr>\n",
       "    <tr>\n",
       "      <th>3</th>\n",
       "      <td>2021-06-08</td>\n",
       "      <td>300</td>\n",
       "      <td>25.4</td>\n",
       "      <td>94.0</td>\n",
       "      <td>-2.0</td>\n",
       "    </tr>\n",
       "    <tr>\n",
       "      <th>4</th>\n",
       "      <td>2021-06-08</td>\n",
       "      <td>400</td>\n",
       "      <td>25.5</td>\n",
       "      <td>94.0</td>\n",
       "      <td>-2.0</td>\n",
       "    </tr>\n",
       "    <tr>\n",
       "      <th>...</th>\n",
       "      <td>...</td>\n",
       "      <td>...</td>\n",
       "      <td>...</td>\n",
       "      <td>...</td>\n",
       "      <td>...</td>\n",
       "    </tr>\n",
       "    <tr>\n",
       "      <th>8803</th>\n",
       "      <td>2022-06-09</td>\n",
       "      <td>1900</td>\n",
       "      <td>30.7</td>\n",
       "      <td>74.0</td>\n",
       "      <td>1748.5</td>\n",
       "    </tr>\n",
       "    <tr>\n",
       "      <th>8804</th>\n",
       "      <td>2022-06-09</td>\n",
       "      <td>2000</td>\n",
       "      <td>23.3</td>\n",
       "      <td>96.0</td>\n",
       "      <td>142.9</td>\n",
       "    </tr>\n",
       "    <tr>\n",
       "      <th>8805</th>\n",
       "      <td>2022-06-09</td>\n",
       "      <td>2100</td>\n",
       "      <td>23.4</td>\n",
       "      <td>97.0</td>\n",
       "      <td>17.7</td>\n",
       "    </tr>\n",
       "    <tr>\n",
       "      <th>8806</th>\n",
       "      <td>2022-06-09</td>\n",
       "      <td>2200</td>\n",
       "      <td>23.4</td>\n",
       "      <td>97.0</td>\n",
       "      <td>1.6</td>\n",
       "    </tr>\n",
       "    <tr>\n",
       "      <th>8807</th>\n",
       "      <td>2022-06-09</td>\n",
       "      <td>2300</td>\n",
       "      <td>NaN</td>\n",
       "      <td>NaN</td>\n",
       "      <td>NaN</td>\n",
       "    </tr>\n",
       "  </tbody>\n",
       "</table>\n",
       "<p>8808 rows × 5 columns</p>\n",
       "</div>"
      ],
      "text/plain": [
       "            DATA  HORARIO  TEMPERATURA  UMIDADE  RADIACAO\n",
       "0     2021-06-08        0         26.8     79.0      -0.8\n",
       "1     2021-06-08      100         26.6     81.0      -2.6\n",
       "2     2021-06-08      200         26.0     90.0      -3.3\n",
       "3     2021-06-08      300         25.4     94.0      -2.0\n",
       "4     2021-06-08      400         25.5     94.0      -2.0\n",
       "...          ...      ...          ...      ...       ...\n",
       "8803  2022-06-09     1900         30.7     74.0    1748.5\n",
       "8804  2022-06-09     2000         23.3     96.0     142.9\n",
       "8805  2022-06-09     2100         23.4     97.0      17.7\n",
       "8806  2022-06-09     2200         23.4     97.0       1.6\n",
       "8807  2022-06-09     2300          NaN      NaN       NaN\n",
       "\n",
       "[8808 rows x 5 columns]"
      ]
     },
     "execution_count": 399,
     "metadata": {},
     "output_type": "execute_result"
    }
   ],
   "source": [
    "dados"
   ]
  },
  {
   "cell_type": "code",
   "execution_count": 400,
   "metadata": {
    "colab": {
     "base_uri": "https://localhost:8080/",
     "height": 495
    },
    "executionInfo": {
     "elapsed": 802,
     "status": "ok",
     "timestamp": 1654775304756,
     "user": {
      "displayName": "Prince Nyarko",
      "userId": "02482838485601494345"
     },
     "user_tz": 180
    },
    "id": "tq-Nx-vQGBVE",
    "outputId": "5706de3a-78d6-4fe6-ebbb-ba133a55f300"
   },
   "outputs": [
    {
     "data": {
      "text/plain": [
       "<AxesSubplot:title={'center':'TEMPERATURA'}, xlabel='HORARIO'>"
      ]
     },
     "execution_count": 400,
     "metadata": {},
     "output_type": "execute_result"
    },
    {
     "data": {
      "image/png": "[encoded data removed]",
      "text/plain": [
       "<Figure size 1728x432 with 1 Axes>"
      ]
     },
     "metadata": {
      "needs_background": "light"
     },
     "output_type": "display_data"
    }
   ],
   "source": [
    "dados.boxplot(\"TEMPERATURA\", by='HORARIO', figsize=(24,6))"
   ]
  },
  {
   "cell_type": "code",
   "execution_count": 401,
   "metadata": {
    "colab": {
     "base_uri": "https://localhost:8080/",
     "height": 495
    },
    "executionInfo": {
     "elapsed": 394,
     "status": "ok",
     "timestamp": 1654775305143,
     "user": {
      "displayName": "Prince Nyarko",
      "userId": "02482838485601494345"
     },
     "user_tz": 180
    },
    "id": "3dLwhVHIGBVF",
    "outputId": "f5d1819f-ebc7-4dc5-a857-5aeeaa6df523"
   },
   "outputs": [
    {
     "data": {
      "text/plain": [
       "<AxesSubplot:title={'center':'UMIDADE'}, xlabel='HORARIO'>"
      ]
     },
     "execution_count": 401,
     "metadata": {},
     "output_type": "execute_result"
    },
    {
     "data": {
      "image/png": "[encoded data removed]",
      "text/plain": [
       "<Figure size 1728x432 with 1 Axes>"
      ]
     },
     "metadata": {
      "needs_background": "light"
     },
     "output_type": "display_data"
    }
   ],
   "source": [
    "dados.boxplot(\"UMIDADE\", by='HORARIO', figsize=(24,6))"
   ]
  },
  {
   "cell_type": "code",
   "execution_count": 402,
   "metadata": {
    "colab": {
     "base_uri": "https://localhost:8080/",
     "height": 495
    },
    "executionInfo": {
     "elapsed": 787,
     "status": "ok",
     "timestamp": 1654775305927,
     "user": {
      "displayName": "Prince Nyarko",
      "userId": "02482838485601494345"
     },
     "user_tz": 180
    },
    "id": "ZPM-TV2HGBVG",
    "outputId": "94d357f3-f127-4e0d-b2f2-2d9a6c3de708"
   },
   "outputs": [
    {
     "data": {
      "text/plain": [
       "<AxesSubplot:title={'center':'RADIACAO'}, xlabel='HORARIO'>"
      ]
     },
     "execution_count": 402,
     "metadata": {},
     "output_type": "execute_result"
    },
    {
     "data": {
      "image/png": "[encoded data removed]",
      "text/plain": [
       "<Figure size 1728x432 with 1 Axes>"
      ]
     },
     "metadata": {
      "needs_background": "light"
     },
     "output_type": "display_data"
    }
   ],
   "source": [
    "dados.boxplot(\"RADIACAO\", by='HORARIO', figsize=(24,6))"
   ]
  },
  {
   "cell_type": "markdown",
   "metadata": {
    "id": "C_wjTtG3GBVH"
   },
   "source": [
    "# Verificando a suma de dados null "
   ]
  },
  {
   "cell_type": "code",
   "execution_count": 403,
   "metadata": {
    "colab": {
     "base_uri": "https://localhost:8080/"
    },
    "executionInfo": {
     "elapsed": 35,
     "status": "ok",
     "timestamp": 1654775305928,
     "user": {
      "displayName": "Prince Nyarko",
      "userId": "02482838485601494345"
     },
     "user_tz": 180
    },
    "id": "xRyPpWDGGBVH",
    "outputId": "ada4481a-3d51-4bcc-d2ab-da53c753bbdf"
   },
   "outputs": [
    {
     "data": {
      "text/plain": [
       "DATA           0.000000\n",
       "HORARIO        0.000000\n",
       "TEMPERATURA    0.010445\n",
       "UMIDADE        0.033833\n",
       "RADIACAO       0.010445\n",
       "dtype: float64"
      ]
     },
     "execution_count": 403,
     "metadata": {},
     "output_type": "execute_result"
    }
   ],
   "source": [
    "dados.apply(pd.isnull).sum()/dados.shape[0]"
   ]
  },
  {
   "cell_type": "code",
   "execution_count": 404,
   "metadata": {
    "colab": {
     "base_uri": "https://localhost:8080/",
     "height": 424
    },
    "executionInfo": {
     "elapsed": 31,
     "status": "ok",
     "timestamp": 1654775305929,
     "user": {
      "displayName": "Prince Nyarko",
      "userId": "02482838485601494345"
     },
     "user_tz": 180
    },
    "id": "P0c1iVO-GBVI",
    "outputId": "b0f7f711-f8c4-4c96-fbe9-a1352f2833ed"
   },
   "outputs": [
    {
     "data": {
      "text/html": [
       "<div>\n",
       "<style scoped>\n",
       "    .dataframe tbody tr th:only-of-type {\n",
       "        vertical-align: middle;\n",
       "    }\n",
       "\n",
       "    .dataframe tbody tr th {\n",
       "        vertical-align: top;\n",
       "    }\n",
       "\n",
       "    .dataframe thead th {\n",
       "        text-align: right;\n",
       "    }\n",
       "</style>\n",
       "<table border=\"1\" class=\"dataframe\">\n",
       "  <thead>\n",
       "    <tr style=\"text-align: right;\">\n",
       "      <th></th>\n",
       "      <th>DATA</th>\n",
       "      <th>HORARIO</th>\n",
       "      <th>TEMPERATURA</th>\n",
       "      <th>UMIDADE</th>\n",
       "      <th>RADIACAO</th>\n",
       "    </tr>\n",
       "  </thead>\n",
       "  <tbody>\n",
       "    <tr>\n",
       "      <th>2696</th>\n",
       "      <td>2021-09-28</td>\n",
       "      <td>800</td>\n",
       "      <td>NaN</td>\n",
       "      <td>NaN</td>\n",
       "      <td>NaN</td>\n",
       "    </tr>\n",
       "    <tr>\n",
       "      <th>2697</th>\n",
       "      <td>2021-09-28</td>\n",
       "      <td>900</td>\n",
       "      <td>NaN</td>\n",
       "      <td>NaN</td>\n",
       "      <td>NaN</td>\n",
       "    </tr>\n",
       "    <tr>\n",
       "      <th>2698</th>\n",
       "      <td>2021-09-28</td>\n",
       "      <td>1000</td>\n",
       "      <td>NaN</td>\n",
       "      <td>NaN</td>\n",
       "      <td>NaN</td>\n",
       "    </tr>\n",
       "    <tr>\n",
       "      <th>2699</th>\n",
       "      <td>2021-09-28</td>\n",
       "      <td>1100</td>\n",
       "      <td>NaN</td>\n",
       "      <td>NaN</td>\n",
       "      <td>NaN</td>\n",
       "    </tr>\n",
       "    <tr>\n",
       "      <th>2700</th>\n",
       "      <td>2021-09-28</td>\n",
       "      <td>1200</td>\n",
       "      <td>NaN</td>\n",
       "      <td>NaN</td>\n",
       "      <td>NaN</td>\n",
       "    </tr>\n",
       "    <tr>\n",
       "      <th>...</th>\n",
       "      <td>...</td>\n",
       "      <td>...</td>\n",
       "      <td>...</td>\n",
       "      <td>...</td>\n",
       "      <td>...</td>\n",
       "    </tr>\n",
       "    <tr>\n",
       "      <th>6457</th>\n",
       "      <td>2022-03-04</td>\n",
       "      <td>100</td>\n",
       "      <td>NaN</td>\n",
       "      <td>NaN</td>\n",
       "      <td>NaN</td>\n",
       "    </tr>\n",
       "    <tr>\n",
       "      <th>6554</th>\n",
       "      <td>2022-03-08</td>\n",
       "      <td>200</td>\n",
       "      <td>NaN</td>\n",
       "      <td>NaN</td>\n",
       "      <td>NaN</td>\n",
       "    </tr>\n",
       "    <tr>\n",
       "      <th>6649</th>\n",
       "      <td>2022-03-12</td>\n",
       "      <td>100</td>\n",
       "      <td>NaN</td>\n",
       "      <td>NaN</td>\n",
       "      <td>NaN</td>\n",
       "    </tr>\n",
       "    <tr>\n",
       "      <th>6815</th>\n",
       "      <td>2022-03-18</td>\n",
       "      <td>2300</td>\n",
       "      <td>NaN</td>\n",
       "      <td>NaN</td>\n",
       "      <td>NaN</td>\n",
       "    </tr>\n",
       "    <tr>\n",
       "      <th>8807</th>\n",
       "      <td>2022-06-09</td>\n",
       "      <td>2300</td>\n",
       "      <td>NaN</td>\n",
       "      <td>NaN</td>\n",
       "      <td>NaN</td>\n",
       "    </tr>\n",
       "  </tbody>\n",
       "</table>\n",
       "<p>92 rows × 5 columns</p>\n",
       "</div>"
      ],
      "text/plain": [
       "            DATA  HORARIO  TEMPERATURA  UMIDADE  RADIACAO\n",
       "2696  2021-09-28      800          NaN      NaN       NaN\n",
       "2697  2021-09-28      900          NaN      NaN       NaN\n",
       "2698  2021-09-28     1000          NaN      NaN       NaN\n",
       "2699  2021-09-28     1100          NaN      NaN       NaN\n",
       "2700  2021-09-28     1200          NaN      NaN       NaN\n",
       "...          ...      ...          ...      ...       ...\n",
       "6457  2022-03-04      100          NaN      NaN       NaN\n",
       "6554  2022-03-08      200          NaN      NaN       NaN\n",
       "6649  2022-03-12      100          NaN      NaN       NaN\n",
       "6815  2022-03-18     2300          NaN      NaN       NaN\n",
       "8807  2022-06-09     2300          NaN      NaN       NaN\n",
       "\n",
       "[92 rows x 5 columns]"
      ]
     },
     "execution_count": 404,
     "metadata": {},
     "output_type": "execute_result"
    }
   ],
   "source": [
    "dados[pd.isnull(dados['TEMPERATURA'])]"
   ]
  },
  {
   "cell_type": "code",
   "execution_count": 405,
   "metadata": {
    "executionInfo": {
     "elapsed": 29,
     "status": "ok",
     "timestamp": 1654775305929,
     "user": {
      "displayName": "Prince Nyarko",
      "userId": "02482838485601494345"
     },
     "user_tz": 180
    },
    "id": "CZh25vwNGBVI"
   },
   "outputs": [],
   "source": [
    "dados = dados.fillna(method='ffill')"
   ]
  },
  {
   "cell_type": "code",
   "execution_count": 406,
   "metadata": {
    "colab": {
     "base_uri": "https://localhost:8080/"
    },
    "executionInfo": {
     "elapsed": 29,
     "status": "ok",
     "timestamp": 1654775305929,
     "user": {
      "displayName": "Prince Nyarko",
      "userId": "02482838485601494345"
     },
     "user_tz": 180
    },
    "id": "vyN63yoqGBVJ",
    "outputId": "07352a5b-9428-4a48-cc3d-fa531c96f7eb"
   },
   "outputs": [
    {
     "data": {
      "text/plain": [
       "DATA           0.0\n",
       "HORARIO        0.0\n",
       "TEMPERATURA    0.0\n",
       "UMIDADE        0.0\n",
       "RADIACAO       0.0\n",
       "dtype: float64"
      ]
     },
     "execution_count": 406,
     "metadata": {},
     "output_type": "execute_result"
    }
   ],
   "source": [
    "dados.apply(pd.isnull).sum()/dados.shape[0]"
   ]
  },
  {
   "cell_type": "markdown",
   "metadata": {
    "id": "P0yEFmIUGBVJ"
   },
   "source": [
    "# verificando se nosso dados são numéricos"
   ]
  },
  {
   "cell_type": "code",
   "execution_count": 407,
   "metadata": {
    "colab": {
     "base_uri": "https://localhost:8080/"
    },
    "executionInfo": {
     "elapsed": 26,
     "status": "ok",
     "timestamp": 1654775305930,
     "user": {
      "displayName": "Prince Nyarko",
      "userId": "02482838485601494345"
     },
     "user_tz": 180
    },
    "id": "pM25jQ5yGBVJ",
    "outputId": "820de539-8931-45b2-f4e9-b9635a7babc5"
   },
   "outputs": [
    {
     "data": {
      "text/plain": [
       "DATA            object\n",
       "HORARIO          int64\n",
       "TEMPERATURA    float64\n",
       "UMIDADE        float64\n",
       "RADIACAO       float64\n",
       "dtype: object"
      ]
     },
     "execution_count": 407,
     "metadata": {},
     "output_type": "execute_result"
    }
   ],
   "source": [
    "dados.dtypes"
   ]
  },
  {
   "cell_type": "code",
   "execution_count": 408,
   "metadata": {
    "colab": {
     "base_uri": "https://localhost:8080/",
     "height": 392
    },
    "executionInfo": {
     "elapsed": 1131,
     "status": "ok",
     "timestamp": 1654775307038,
     "user": {
      "displayName": "Prince Nyarko",
      "userId": "02482838485601494345"
     },
     "user_tz": 180
    },
    "id": "ttYXjMHlGBVK",
    "outputId": "ac64b29a-1524-476c-d446-306a52719c3f"
   },
   "outputs": [
    {
     "data": {
      "text/plain": [
       "<AxesSubplot:>"
      ]
     },
     "execution_count": 408,
     "metadata": {},
     "output_type": "execute_result"
    },
    {
     "data": {
      "image/png": "[encoded data removed]",
      "text/plain": [
       "<Figure size 1872x432 with 1 Axes>"
      ]
     },
     "metadata": {
      "needs_background": "light"
     },
     "output_type": "display_data"
    }
   ],
   "source": [
    "dados[['TEMPERATURA']].plot(figsize=(26,6))"
   ]
  },
  {
   "cell_type": "markdown",
   "metadata": {
    "id": "bny6ElU2GBVK"
   },
   "source": [
    "# Agrupando os dados por horário"
   ]
  },
  {
   "cell_type": "code",
   "execution_count": 409,
   "metadata": {
    "colab": {
     "base_uri": "https://localhost:8080/",
     "height": 833
    },
    "executionInfo": {
     "elapsed": 18,
     "status": "ok",
     "timestamp": 1654775307038,
     "user": {
      "displayName": "Prince Nyarko",
      "userId": "02482838485601494345"
     },
     "user_tz": 180
    },
    "id": "Xm2__H7_GBVL",
    "outputId": "0f3746de-a231-44a6-dd25-8f794d5c6514"
   },
   "outputs": [
    {
     "data": {
      "text/html": [
       "<div>\n",
       "<style scoped>\n",
       "    .dataframe tbody tr th:only-of-type {\n",
       "        vertical-align: middle;\n",
       "    }\n",
       "\n",
       "    .dataframe tbody tr th {\n",
       "        vertical-align: top;\n",
       "    }\n",
       "\n",
       "    .dataframe thead th {\n",
       "        text-align: right;\n",
       "    }\n",
       "</style>\n",
       "<table border=\"1\" class=\"dataframe\">\n",
       "  <thead>\n",
       "    <tr style=\"text-align: right;\">\n",
       "      <th></th>\n",
       "      <th>TEMPERATURA</th>\n",
       "      <th>UMIDADE</th>\n",
       "      <th>RADIACAO</th>\n",
       "    </tr>\n",
       "    <tr>\n",
       "      <th>HORARIO</th>\n",
       "      <th></th>\n",
       "      <th></th>\n",
       "      <th></th>\n",
       "    </tr>\n",
       "  </thead>\n",
       "  <tbody>\n",
       "    <tr>\n",
       "      <th>0</th>\n",
       "      <td>9302.3</td>\n",
       "      <td>33124.0</td>\n",
       "      <td>-380.4</td>\n",
       "    </tr>\n",
       "    <tr>\n",
       "      <th>100</th>\n",
       "      <td>9231.5</td>\n",
       "      <td>33481.0</td>\n",
       "      <td>-490.7</td>\n",
       "    </tr>\n",
       "    <tr>\n",
       "      <th>200</th>\n",
       "      <td>9154.2</td>\n",
       "      <td>33866.0</td>\n",
       "      <td>-580.2</td>\n",
       "    </tr>\n",
       "    <tr>\n",
       "      <th>300</th>\n",
       "      <td>9080.7</td>\n",
       "      <td>34210.0</td>\n",
       "      <td>-659.2</td>\n",
       "    </tr>\n",
       "    <tr>\n",
       "      <th>400</th>\n",
       "      <td>9009.8</td>\n",
       "      <td>34485.0</td>\n",
       "      <td>-678.3</td>\n",
       "    </tr>\n",
       "    <tr>\n",
       "      <th>500</th>\n",
       "      <td>8943.3</td>\n",
       "      <td>34715.0</td>\n",
       "      <td>-707.3</td>\n",
       "    </tr>\n",
       "    <tr>\n",
       "      <th>600</th>\n",
       "      <td>8889.1</td>\n",
       "      <td>34912.0</td>\n",
       "      <td>-710.9</td>\n",
       "    </tr>\n",
       "    <tr>\n",
       "      <th>700</th>\n",
       "      <td>8837.3</td>\n",
       "      <td>35075.0</td>\n",
       "      <td>-712.6</td>\n",
       "    </tr>\n",
       "    <tr>\n",
       "      <th>800</th>\n",
       "      <td>8791.9</td>\n",
       "      <td>35190.0</td>\n",
       "      <td>-719.8</td>\n",
       "    </tr>\n",
       "    <tr>\n",
       "      <th>900</th>\n",
       "      <td>8759.6</td>\n",
       "      <td>35270.0</td>\n",
       "      <td>-502.0</td>\n",
       "    </tr>\n",
       "    <tr>\n",
       "      <th>1000</th>\n",
       "      <td>8976.2</td>\n",
       "      <td>34969.0</td>\n",
       "      <td>24683.0</td>\n",
       "    </tr>\n",
       "    <tr>\n",
       "      <th>1100</th>\n",
       "      <td>9674.3</td>\n",
       "      <td>32514.0</td>\n",
       "      <td>144700.6</td>\n",
       "    </tr>\n",
       "    <tr>\n",
       "      <th>1200</th>\n",
       "      <td>10427.0</td>\n",
       "      <td>29288.0</td>\n",
       "      <td>388949.2</td>\n",
       "    </tr>\n",
       "    <tr>\n",
       "      <th>1300</th>\n",
       "      <td>10904.2</td>\n",
       "      <td>27060.0</td>\n",
       "      <td>584361.9</td>\n",
       "    </tr>\n",
       "    <tr>\n",
       "      <th>1400</th>\n",
       "      <td>11206.0</td>\n",
       "      <td>25757.0</td>\n",
       "      <td>737755.0</td>\n",
       "    </tr>\n",
       "    <tr>\n",
       "      <th>1500</th>\n",
       "      <td>11382.1</td>\n",
       "      <td>25146.0</td>\n",
       "      <td>811979.1</td>\n",
       "    </tr>\n",
       "    <tr>\n",
       "      <th>1600</th>\n",
       "      <td>11394.4</td>\n",
       "      <td>24981.0</td>\n",
       "      <td>838574.9</td>\n",
       "    </tr>\n",
       "    <tr>\n",
       "      <th>1700</th>\n",
       "      <td>11200.7</td>\n",
       "      <td>25768.0</td>\n",
       "      <td>719531.7</td>\n",
       "    </tr>\n",
       "    <tr>\n",
       "      <th>1800</th>\n",
       "      <td>10802.8</td>\n",
       "      <td>27434.0</td>\n",
       "      <td>534084.5</td>\n",
       "    </tr>\n",
       "    <tr>\n",
       "      <th>1900</th>\n",
       "      <td>10480.9</td>\n",
       "      <td>28583.0</td>\n",
       "      <td>350247.9</td>\n",
       "    </tr>\n",
       "    <tr>\n",
       "      <th>2000</th>\n",
       "      <td>10205.9</td>\n",
       "      <td>29532.0</td>\n",
       "      <td>199854.4</td>\n",
       "    </tr>\n",
       "    <tr>\n",
       "      <th>2100</th>\n",
       "      <td>9805.7</td>\n",
       "      <td>30978.0</td>\n",
       "      <td>63618.8</td>\n",
       "    </tr>\n",
       "    <tr>\n",
       "      <th>2200</th>\n",
       "      <td>9523.0</td>\n",
       "      <td>32267.0</td>\n",
       "      <td>3923.6</td>\n",
       "    </tr>\n",
       "    <tr>\n",
       "      <th>2300</th>\n",
       "      <td>9383.7</td>\n",
       "      <td>32771.0</td>\n",
       "      <td>-132.4</td>\n",
       "    </tr>\n",
       "  </tbody>\n",
       "</table>\n",
       "</div>"
      ],
      "text/plain": [
       "         TEMPERATURA  UMIDADE  RADIACAO\n",
       "HORARIO                                \n",
       "0             9302.3  33124.0    -380.4\n",
       "100           9231.5  33481.0    -490.7\n",
       "200           9154.2  33866.0    -580.2\n",
       "300           9080.7  34210.0    -659.2\n",
       "400           9009.8  34485.0    -678.3\n",
       "500           8943.3  34715.0    -707.3\n",
       "600           8889.1  34912.0    -710.9\n",
       "700           8837.3  35075.0    -712.6\n",
       "800           8791.9  35190.0    -719.8\n",
       "900           8759.6  35270.0    -502.0\n",
       "1000          8976.2  34969.0   24683.0\n",
       "1100          9674.3  32514.0  144700.6\n",
       "1200         10427.0  29288.0  388949.2\n",
       "1300         10904.2  27060.0  584361.9\n",
       "1400         11206.0  25757.0  737755.0\n",
       "1500         11382.1  25146.0  811979.1\n",
       "1600         11394.4  24981.0  838574.9\n",
       "1700         11200.7  25768.0  719531.7\n",
       "1800         10802.8  27434.0  534084.5\n",
       "1900         10480.9  28583.0  350247.9\n",
       "2000         10205.9  29532.0  199854.4\n",
       "2100          9805.7  30978.0   63618.8\n",
       "2200          9523.0  32267.0    3923.6\n",
       "2300          9383.7  32771.0    -132.4"
      ]
     },
     "execution_count": 409,
     "metadata": {},
     "output_type": "execute_result"
    }
   ],
   "source": [
    "dados.groupby(dados.HORARIO).sum()"
   ]
  },
  {
   "cell_type": "code",
   "execution_count": 410,
   "metadata": {
    "colab": {
     "base_uri": "https://localhost:8080/",
     "height": 424
    },
    "executionInfo": {
     "elapsed": 17,
     "status": "ok",
     "timestamp": 1654775307038,
     "user": {
      "displayName": "Prince Nyarko",
      "userId": "02482838485601494345"
     },
     "user_tz": 180
    },
    "id": "0tYYu9jyGBVL",
    "outputId": "c0fc82e8-3a64-4c06-b336-eac10231294a"
   },
   "outputs": [
    {
     "data": {
      "text/html": [
       "<div>\n",
       "<style scoped>\n",
       "    .dataframe tbody tr th:only-of-type {\n",
       "        vertical-align: middle;\n",
       "    }\n",
       "\n",
       "    .dataframe tbody tr th {\n",
       "        vertical-align: top;\n",
       "    }\n",
       "\n",
       "    .dataframe thead th {\n",
       "        text-align: right;\n",
       "    }\n",
       "</style>\n",
       "<table border=\"1\" class=\"dataframe\">\n",
       "  <thead>\n",
       "    <tr style=\"text-align: right;\">\n",
       "      <th></th>\n",
       "      <th>DATA</th>\n",
       "      <th>HORARIO</th>\n",
       "      <th>TEMPERATURA</th>\n",
       "      <th>UMIDADE</th>\n",
       "      <th>RADIACAO</th>\n",
       "    </tr>\n",
       "  </thead>\n",
       "  <tbody>\n",
       "    <tr>\n",
       "      <th>0</th>\n",
       "      <td>2021-06-08</td>\n",
       "      <td>0</td>\n",
       "      <td>26.8</td>\n",
       "      <td>79.0</td>\n",
       "      <td>-0.8</td>\n",
       "    </tr>\n",
       "    <tr>\n",
       "      <th>1</th>\n",
       "      <td>2021-06-08</td>\n",
       "      <td>100</td>\n",
       "      <td>26.6</td>\n",
       "      <td>81.0</td>\n",
       "      <td>-2.6</td>\n",
       "    </tr>\n",
       "    <tr>\n",
       "      <th>2</th>\n",
       "      <td>2021-06-08</td>\n",
       "      <td>200</td>\n",
       "      <td>26.0</td>\n",
       "      <td>90.0</td>\n",
       "      <td>-3.3</td>\n",
       "    </tr>\n",
       "    <tr>\n",
       "      <th>3</th>\n",
       "      <td>2021-06-08</td>\n",
       "      <td>300</td>\n",
       "      <td>25.4</td>\n",
       "      <td>94.0</td>\n",
       "      <td>-2.0</td>\n",
       "    </tr>\n",
       "    <tr>\n",
       "      <th>4</th>\n",
       "      <td>2021-06-08</td>\n",
       "      <td>400</td>\n",
       "      <td>25.5</td>\n",
       "      <td>94.0</td>\n",
       "      <td>-2.0</td>\n",
       "    </tr>\n",
       "    <tr>\n",
       "      <th>...</th>\n",
       "      <td>...</td>\n",
       "      <td>...</td>\n",
       "      <td>...</td>\n",
       "      <td>...</td>\n",
       "      <td>...</td>\n",
       "    </tr>\n",
       "    <tr>\n",
       "      <th>8803</th>\n",
       "      <td>2022-06-09</td>\n",
       "      <td>1900</td>\n",
       "      <td>30.7</td>\n",
       "      <td>74.0</td>\n",
       "      <td>1748.5</td>\n",
       "    </tr>\n",
       "    <tr>\n",
       "      <th>8804</th>\n",
       "      <td>2022-06-09</td>\n",
       "      <td>2000</td>\n",
       "      <td>23.3</td>\n",
       "      <td>96.0</td>\n",
       "      <td>142.9</td>\n",
       "    </tr>\n",
       "    <tr>\n",
       "      <th>8805</th>\n",
       "      <td>2022-06-09</td>\n",
       "      <td>2100</td>\n",
       "      <td>23.4</td>\n",
       "      <td>97.0</td>\n",
       "      <td>17.7</td>\n",
       "    </tr>\n",
       "    <tr>\n",
       "      <th>8806</th>\n",
       "      <td>2022-06-09</td>\n",
       "      <td>2200</td>\n",
       "      <td>23.4</td>\n",
       "      <td>97.0</td>\n",
       "      <td>1.6</td>\n",
       "    </tr>\n",
       "    <tr>\n",
       "      <th>8807</th>\n",
       "      <td>2022-06-09</td>\n",
       "      <td>2300</td>\n",
       "      <td>23.4</td>\n",
       "      <td>97.0</td>\n",
       "      <td>1.6</td>\n",
       "    </tr>\n",
       "  </tbody>\n",
       "</table>\n",
       "<p>8808 rows × 5 columns</p>\n",
       "</div>"
      ],
      "text/plain": [
       "            DATA  HORARIO  TEMPERATURA  UMIDADE  RADIACAO\n",
       "0     2021-06-08        0         26.8     79.0      -0.8\n",
       "1     2021-06-08      100         26.6     81.0      -2.6\n",
       "2     2021-06-08      200         26.0     90.0      -3.3\n",
       "3     2021-06-08      300         25.4     94.0      -2.0\n",
       "4     2021-06-08      400         25.5     94.0      -2.0\n",
       "...          ...      ...          ...      ...       ...\n",
       "8803  2022-06-09     1900         30.7     74.0    1748.5\n",
       "8804  2022-06-09     2000         23.3     96.0     142.9\n",
       "8805  2022-06-09     2100         23.4     97.0      17.7\n",
       "8806  2022-06-09     2200         23.4     97.0       1.6\n",
       "8807  2022-06-09     2300         23.4     97.0       1.6\n",
       "\n",
       "[8808 rows x 5 columns]"
      ]
     },
     "execution_count": 410,
     "metadata": {},
     "output_type": "execute_result"
    }
   ],
   "source": [
    "dados"
   ]
  },
  {
   "cell_type": "markdown",
   "metadata": {
    "id": "PStacdIUGBVM"
   },
   "source": [
    "### Criando novos colunas para Temperatura para amanha, Umidade para amanha e Radiação para amanha na tabla "
   ]
  },
  {
   "cell_type": "code",
   "execution_count": 411,
   "metadata": {
    "executionInfo": {
     "elapsed": 17,
     "status": "ok",
     "timestamp": 1654775307039,
     "user": {
      "displayName": "Prince Nyarko",
      "userId": "02482838485601494345"
     },
     "user_tz": 180
    },
    "id": "2kY8fSWpGBVM"
   },
   "outputs": [],
   "source": [
    "dados['TEMP_AMANHA'] = dados.shift(-1)['TEMPERATURA']\n",
    "dados['TEMP_MES_MIX'] = dados['TEMPERATURA'].rolling(30).mean()"
   ]
  },
  {
   "cell_type": "code",
   "execution_count": 412,
   "metadata": {
    "executionInfo": {
     "elapsed": 17,
     "status": "ok",
     "timestamp": 1654775307039,
     "user": {
      "displayName": "Prince Nyarko",
      "userId": "02482838485601494345"
     },
     "user_tz": 180
    },
    "id": "4LgQDjizGBVM"
   },
   "outputs": [],
   "source": [
    "dados['UMID_AMANHA'] = dados.shift(-1)['UMIDADE']\n",
    "dados['UMID_MES_MIX'] = dados['UMIDADE'].rolling(30).mean()"
   ]
  },
  {
   "cell_type": "code",
   "execution_count": 413,
   "metadata": {
    "executionInfo": {
     "elapsed": 18,
     "status": "ok",
     "timestamp": 1654775307040,
     "user": {
      "displayName": "Prince Nyarko",
      "userId": "02482838485601494345"
     },
     "user_tz": 180
    },
    "id": "llGtCd4mGBVM"
   },
   "outputs": [],
   "source": [
    "dados['RADI_AMANHA'] = dados.shift(-1)['RADIACAO']\n",
    "dados['RADI_MES_MIX'] = dados['RADIACAO'].rolling(30).mean()"
   ]
  },
  {
   "cell_type": "code",
   "execution_count": 414,
   "metadata": {
    "executionInfo": {
     "elapsed": 18,
     "status": "ok",
     "timestamp": 1654775307040,
     "user": {
      "displayName": "Prince Nyarko",
      "userId": "02482838485601494345"
     },
     "user_tz": 180
    },
    "id": "SGOhjJLGX2BD"
   },
   "outputs": [],
   "source": [
    "dados['HORARIO_ATUAL'] = dados.shift(2)['HORARIO']\n"
   ]
  },
  {
   "cell_type": "code",
   "execution_count": 415,
   "metadata": {
    "colab": {
     "base_uri": "https://localhost:8080/",
     "height": 424
    },
    "executionInfo": {
     "elapsed": 18,
     "status": "ok",
     "timestamp": 1654775307040,
     "user": {
      "displayName": "Prince Nyarko",
      "userId": "02482838485601494345"
     },
     "user_tz": 180
    },
    "id": "wgunDlAjGBVM",
    "outputId": "2e9a3657-657e-4bf7-91c8-57015a2b8159"
   },
   "outputs": [
    {
     "data": {
      "text/html": [
       "<div>\n",
       "<style scoped>\n",
       "    .dataframe tbody tr th:only-of-type {\n",
       "        vertical-align: middle;\n",
       "    }\n",
       "\n",
       "    .dataframe tbody tr th {\n",
       "        vertical-align: top;\n",
       "    }\n",
       "\n",
       "    .dataframe thead th {\n",
       "        text-align: right;\n",
       "    }\n",
       "</style>\n",
       "<table border=\"1\" class=\"dataframe\">\n",
       "  <thead>\n",
       "    <tr style=\"text-align: right;\">\n",
       "      <th></th>\n",
       "      <th>DATA</th>\n",
       "      <th>HORARIO</th>\n",
       "      <th>TEMPERATURA</th>\n",
       "      <th>UMIDADE</th>\n",
       "      <th>RADIACAO</th>\n",
       "      <th>TEMP_AMANHA</th>\n",
       "      <th>TEMP_MES_MIX</th>\n",
       "      <th>UMID_AMANHA</th>\n",
       "      <th>UMID_MES_MIX</th>\n",
       "      <th>RADI_AMANHA</th>\n",
       "      <th>RADI_MES_MIX</th>\n",
       "      <th>HORARIO_ATUAL</th>\n",
       "    </tr>\n",
       "  </thead>\n",
       "  <tbody>\n",
       "    <tr>\n",
       "      <th>0</th>\n",
       "      <td>2021-06-08</td>\n",
       "      <td>0</td>\n",
       "      <td>26.8</td>\n",
       "      <td>79.0</td>\n",
       "      <td>-0.8</td>\n",
       "      <td>26.6</td>\n",
       "      <td>NaN</td>\n",
       "      <td>81.0</td>\n",
       "      <td>NaN</td>\n",
       "      <td>-2.6</td>\n",
       "      <td>NaN</td>\n",
       "      <td>NaN</td>\n",
       "    </tr>\n",
       "    <tr>\n",
       "      <th>1</th>\n",
       "      <td>2021-06-08</td>\n",
       "      <td>100</td>\n",
       "      <td>26.6</td>\n",
       "      <td>81.0</td>\n",
       "      <td>-2.6</td>\n",
       "      <td>26.0</td>\n",
       "      <td>NaN</td>\n",
       "      <td>90.0</td>\n",
       "      <td>NaN</td>\n",
       "      <td>-3.3</td>\n",
       "      <td>NaN</td>\n",
       "      <td>NaN</td>\n",
       "    </tr>\n",
       "    <tr>\n",
       "      <th>2</th>\n",
       "      <td>2021-06-08</td>\n",
       "      <td>200</td>\n",
       "      <td>26.0</td>\n",
       "      <td>90.0</td>\n",
       "      <td>-3.3</td>\n",
       "      <td>25.4</td>\n",
       "      <td>NaN</td>\n",
       "      <td>94.0</td>\n",
       "      <td>NaN</td>\n",
       "      <td>-2.0</td>\n",
       "      <td>NaN</td>\n",
       "      <td>0.0</td>\n",
       "    </tr>\n",
       "    <tr>\n",
       "      <th>3</th>\n",
       "      <td>2021-06-08</td>\n",
       "      <td>300</td>\n",
       "      <td>25.4</td>\n",
       "      <td>94.0</td>\n",
       "      <td>-2.0</td>\n",
       "      <td>25.5</td>\n",
       "      <td>NaN</td>\n",
       "      <td>94.0</td>\n",
       "      <td>NaN</td>\n",
       "      <td>-2.0</td>\n",
       "      <td>NaN</td>\n",
       "      <td>100.0</td>\n",
       "    </tr>\n",
       "    <tr>\n",
       "      <th>4</th>\n",
       "      <td>2021-06-08</td>\n",
       "      <td>400</td>\n",
       "      <td>25.5</td>\n",
       "      <td>94.0</td>\n",
       "      <td>-2.0</td>\n",
       "      <td>25.0</td>\n",
       "      <td>NaN</td>\n",
       "      <td>97.0</td>\n",
       "      <td>NaN</td>\n",
       "      <td>-1.6</td>\n",
       "      <td>NaN</td>\n",
       "      <td>200.0</td>\n",
       "    </tr>\n",
       "    <tr>\n",
       "      <th>...</th>\n",
       "      <td>...</td>\n",
       "      <td>...</td>\n",
       "      <td>...</td>\n",
       "      <td>...</td>\n",
       "      <td>...</td>\n",
       "      <td>...</td>\n",
       "      <td>...</td>\n",
       "      <td>...</td>\n",
       "      <td>...</td>\n",
       "      <td>...</td>\n",
       "      <td>...</td>\n",
       "      <td>...</td>\n",
       "    </tr>\n",
       "    <tr>\n",
       "      <th>8803</th>\n",
       "      <td>2022-06-09</td>\n",
       "      <td>1900</td>\n",
       "      <td>30.7</td>\n",
       "      <td>74.0</td>\n",
       "      <td>1748.5</td>\n",
       "      <td>23.3</td>\n",
       "      <td>27.266667</td>\n",
       "      <td>96.0</td>\n",
       "      <td>83.500000</td>\n",
       "      <td>142.9</td>\n",
       "      <td>912.606667</td>\n",
       "      <td>1700.0</td>\n",
       "    </tr>\n",
       "    <tr>\n",
       "      <th>8804</th>\n",
       "      <td>2022-06-09</td>\n",
       "      <td>2000</td>\n",
       "      <td>23.3</td>\n",
       "      <td>96.0</td>\n",
       "      <td>142.9</td>\n",
       "      <td>23.4</td>\n",
       "      <td>27.050000</td>\n",
       "      <td>97.0</td>\n",
       "      <td>84.266667</td>\n",
       "      <td>17.7</td>\n",
       "      <td>854.886667</td>\n",
       "      <td>1800.0</td>\n",
       "    </tr>\n",
       "    <tr>\n",
       "      <th>8805</th>\n",
       "      <td>2022-06-09</td>\n",
       "      <td>2100</td>\n",
       "      <td>23.4</td>\n",
       "      <td>97.0</td>\n",
       "      <td>17.7</td>\n",
       "      <td>23.4</td>\n",
       "      <td>26.890000</td>\n",
       "      <td>97.0</td>\n",
       "      <td>84.800000</td>\n",
       "      <td>1.6</td>\n",
       "      <td>791.070000</td>\n",
       "      <td>1900.0</td>\n",
       "    </tr>\n",
       "    <tr>\n",
       "      <th>8806</th>\n",
       "      <td>2022-06-09</td>\n",
       "      <td>2200</td>\n",
       "      <td>23.4</td>\n",
       "      <td>97.0</td>\n",
       "      <td>1.6</td>\n",
       "      <td>23.4</td>\n",
       "      <td>26.626667</td>\n",
       "      <td>97.0</td>\n",
       "      <td>85.833333</td>\n",
       "      <td>1.6</td>\n",
       "      <td>694.530000</td>\n",
       "      <td>2000.0</td>\n",
       "    </tr>\n",
       "    <tr>\n",
       "      <th>8807</th>\n",
       "      <td>2022-06-09</td>\n",
       "      <td>2300</td>\n",
       "      <td>23.4</td>\n",
       "      <td>97.0</td>\n",
       "      <td>1.6</td>\n",
       "      <td>NaN</td>\n",
       "      <td>26.393333</td>\n",
       "      <td>NaN</td>\n",
       "      <td>86.866667</td>\n",
       "      <td>NaN</td>\n",
       "      <td>634.846667</td>\n",
       "      <td>2100.0</td>\n",
       "    </tr>\n",
       "  </tbody>\n",
       "</table>\n",
       "<p>8808 rows × 12 columns</p>\n",
       "</div>"
      ],
      "text/plain": [
       "            DATA  HORARIO  TEMPERATURA  UMIDADE  RADIACAO  TEMP_AMANHA  \\\n",
       "0     2021-06-08        0         26.8     79.0      -0.8         26.6   \n",
       "1     2021-06-08      100         26.6     81.0      -2.6         26.0   \n",
       "2     2021-06-08      200         26.0     90.0      -3.3         25.4   \n",
       "3     2021-06-08      300         25.4     94.0      -2.0         25.5   \n",
       "4     2021-06-08      400         25.5     94.0      -2.0         25.0   \n",
       "...          ...      ...          ...      ...       ...          ...   \n",
       "8803  2022-06-09     1900         30.7     74.0    1748.5         23.3   \n",
       "8804  2022-06-09     2000         23.3     96.0     142.9         23.4   \n",
       "8805  2022-06-09     2100         23.4     97.0      17.7         23.4   \n",
       "8806  2022-06-09     2200         23.4     97.0       1.6         23.4   \n",
       "8807  2022-06-09     2300         23.4     97.0       1.6          NaN   \n",
       "\n",
       "      TEMP_MES_MIX  UMID_AMANHA  UMID_MES_MIX  RADI_AMANHA  RADI_MES_MIX  \\\n",
       "0              NaN         81.0           NaN         -2.6           NaN   \n",
       "1              NaN         90.0           NaN         -3.3           NaN   \n",
       "2              NaN         94.0           NaN         -2.0           NaN   \n",
       "3              NaN         94.0           NaN         -2.0           NaN   \n",
       "4              NaN         97.0           NaN         -1.6           NaN   \n",
       "...            ...          ...           ...          ...           ...   \n",
       "8803     27.266667         96.0     83.500000        142.9    912.606667   \n",
       "8804     27.050000         97.0     84.266667         17.7    854.886667   \n",
       "8805     26.890000         97.0     84.800000          1.6    791.070000   \n",
       "8806     26.626667         97.0     85.833333          1.6    694.530000   \n",
       "8807     26.393333          NaN     86.866667          NaN    634.846667   \n",
       "\n",
       "      HORARIO_ATUAL  \n",
       "0               NaN  \n",
       "1               NaN  \n",
       "2               0.0  \n",
       "3             100.0  \n",
       "4             200.0  \n",
       "...             ...  \n",
       "8803         1700.0  \n",
       "8804         1800.0  \n",
       "8805         1900.0  \n",
       "8806         2000.0  \n",
       "8807         2100.0  \n",
       "\n",
       "[8808 rows x 12 columns]"
      ]
     },
     "execution_count": 415,
     "metadata": {},
     "output_type": "execute_result"
    }
   ],
   "source": [
    "dados"
   ]
  },
  {
   "cell_type": "code",
   "execution_count": 416,
   "metadata": {},
   "outputs": [
    {
     "data": {
      "text/plain": [
       "DATA             0.000000\n",
       "HORARIO          0.000000\n",
       "TEMPERATURA      0.000000\n",
       "UMIDADE          0.000000\n",
       "RADIACAO         0.000000\n",
       "TEMP_AMANHA      0.000114\n",
       "TEMP_MES_MIX     0.003292\n",
       "UMID_AMANHA      0.000114\n",
       "UMID_MES_MIX     0.003292\n",
       "RADI_AMANHA      0.000114\n",
       "RADI_MES_MIX     0.003292\n",
       "HORARIO_ATUAL    0.000227\n",
       "dtype: float64"
      ]
     },
     "execution_count": 416,
     "metadata": {},
     "output_type": "execute_result"
    }
   ],
   "source": [
    "dados.apply(pd.isnull).sum()/dados.shape[0]"
   ]
  },
  {
   "cell_type": "markdown",
   "metadata": {
    "id": "9CA4tOJeGBVN"
   },
   "source": [
    "### Limpando NULL"
   ]
  },
  {
   "cell_type": "code",
   "execution_count": 417,
   "metadata": {
    "executionInfo": {
     "elapsed": 17,
     "status": "ok",
     "timestamp": 1654775307040,
     "user": {
      "displayName": "Prince Nyarko",
      "userId": "02482838485601494345"
     },
     "user_tz": 180
    },
    "id": "ku9T8-afGBVN"
   },
   "outputs": [],
   "source": [
    "dados = dados.iloc[63:,:].copy()\n",
    "dados = dados.iloc[:-5, :].copy()"
   ]
  },
  {
   "cell_type": "code",
   "execution_count": 418,
   "metadata": {
    "colab": {
     "base_uri": "https://localhost:8080/",
     "height": 424
    },
    "executionInfo": {
     "elapsed": 18,
     "status": "ok",
     "timestamp": 1654775307041,
     "user": {
      "displayName": "Prince Nyarko",
      "userId": "02482838485601494345"
     },
     "user_tz": 180
    },
    "id": "bFWE9IQVGBVN",
    "outputId": "44b92b35-1f7a-4cea-dcfe-a4c3545dafcf"
   },
   "outputs": [
    {
     "data": {
      "text/html": [
       "<div>\n",
       "<style scoped>\n",
       "    .dataframe tbody tr th:only-of-type {\n",
       "        vertical-align: middle;\n",
       "    }\n",
       "\n",
       "    .dataframe tbody tr th {\n",
       "        vertical-align: top;\n",
       "    }\n",
       "\n",
       "    .dataframe thead th {\n",
       "        text-align: right;\n",
       "    }\n",
       "</style>\n",
       "<table border=\"1\" class=\"dataframe\">\n",
       "  <thead>\n",
       "    <tr style=\"text-align: right;\">\n",
       "      <th></th>\n",
       "      <th>DATA</th>\n",
       "      <th>HORARIO</th>\n",
       "      <th>TEMPERATURA</th>\n",
       "      <th>UMIDADE</th>\n",
       "      <th>RADIACAO</th>\n",
       "      <th>TEMP_AMANHA</th>\n",
       "      <th>TEMP_MES_MIX</th>\n",
       "      <th>UMID_AMANHA</th>\n",
       "      <th>UMID_MES_MIX</th>\n",
       "      <th>RADI_AMANHA</th>\n",
       "      <th>RADI_MES_MIX</th>\n",
       "      <th>HORARIO_ATUAL</th>\n",
       "    </tr>\n",
       "  </thead>\n",
       "  <tbody>\n",
       "    <tr>\n",
       "      <th>63</th>\n",
       "      <td>2021-06-10</td>\n",
       "      <td>1500</td>\n",
       "      <td>29.4</td>\n",
       "      <td>72.0</td>\n",
       "      <td>1057.4</td>\n",
       "      <td>29.1</td>\n",
       "      <td>27.020000</td>\n",
       "      <td>75.0</td>\n",
       "      <td>84.166667</td>\n",
       "      <td>1357.5</td>\n",
       "      <td>558.280000</td>\n",
       "      <td>1300.0</td>\n",
       "    </tr>\n",
       "    <tr>\n",
       "      <th>64</th>\n",
       "      <td>2021-06-10</td>\n",
       "      <td>1600</td>\n",
       "      <td>29.1</td>\n",
       "      <td>75.0</td>\n",
       "      <td>1357.5</td>\n",
       "      <td>29.7</td>\n",
       "      <td>27.170000</td>\n",
       "      <td>62.0</td>\n",
       "      <td>83.333333</td>\n",
       "      <td>1337.7</td>\n",
       "      <td>601.130000</td>\n",
       "      <td>1400.0</td>\n",
       "    </tr>\n",
       "    <tr>\n",
       "      <th>65</th>\n",
       "      <td>2021-06-10</td>\n",
       "      <td>1700</td>\n",
       "      <td>29.7</td>\n",
       "      <td>62.0</td>\n",
       "      <td>1337.7</td>\n",
       "      <td>29.5</td>\n",
       "      <td>27.276667</td>\n",
       "      <td>66.0</td>\n",
       "      <td>82.266667</td>\n",
       "      <td>1216.5</td>\n",
       "      <td>629.616667</td>\n",
       "      <td>1500.0</td>\n",
       "    </tr>\n",
       "    <tr>\n",
       "      <th>66</th>\n",
       "      <td>2021-06-10</td>\n",
       "      <td>1800</td>\n",
       "      <td>29.5</td>\n",
       "      <td>66.0</td>\n",
       "      <td>1216.5</td>\n",
       "      <td>28.9</td>\n",
       "      <td>27.296667</td>\n",
       "      <td>67.0</td>\n",
       "      <td>82.000000</td>\n",
       "      <td>698.3</td>\n",
       "      <td>626.563333</td>\n",
       "      <td>1600.0</td>\n",
       "    </tr>\n",
       "    <tr>\n",
       "      <th>67</th>\n",
       "      <td>2021-06-10</td>\n",
       "      <td>1900</td>\n",
       "      <td>28.9</td>\n",
       "      <td>67.0</td>\n",
       "      <td>698.3</td>\n",
       "      <td>27.7</td>\n",
       "      <td>27.253333</td>\n",
       "      <td>75.0</td>\n",
       "      <td>81.966667</td>\n",
       "      <td>314.4</td>\n",
       "      <td>587.590000</td>\n",
       "      <td>1700.0</td>\n",
       "    </tr>\n",
       "    <tr>\n",
       "      <th>...</th>\n",
       "      <td>...</td>\n",
       "      <td>...</td>\n",
       "      <td>...</td>\n",
       "      <td>...</td>\n",
       "      <td>...</td>\n",
       "      <td>...</td>\n",
       "      <td>...</td>\n",
       "      <td>...</td>\n",
       "      <td>...</td>\n",
       "      <td>...</td>\n",
       "      <td>...</td>\n",
       "      <td>...</td>\n",
       "    </tr>\n",
       "    <tr>\n",
       "      <th>8798</th>\n",
       "      <td>2022-06-09</td>\n",
       "      <td>1400</td>\n",
       "      <td>30.3</td>\n",
       "      <td>70.0</td>\n",
       "      <td>1895.1</td>\n",
       "      <td>31.1</td>\n",
       "      <td>26.560000</td>\n",
       "      <td>69.0</td>\n",
       "      <td>85.700000</td>\n",
       "      <td>2693.8</td>\n",
       "      <td>704.680000</td>\n",
       "      <td>1200.0</td>\n",
       "    </tr>\n",
       "    <tr>\n",
       "      <th>8799</th>\n",
       "      <td>2022-06-09</td>\n",
       "      <td>1500</td>\n",
       "      <td>31.1</td>\n",
       "      <td>69.0</td>\n",
       "      <td>2693.8</td>\n",
       "      <td>30.2</td>\n",
       "      <td>26.830000</td>\n",
       "      <td>72.0</td>\n",
       "      <td>84.733333</td>\n",
       "      <td>2845.6</td>\n",
       "      <td>794.556667</td>\n",
       "      <td>1300.0</td>\n",
       "    </tr>\n",
       "    <tr>\n",
       "      <th>8800</th>\n",
       "      <td>2022-06-09</td>\n",
       "      <td>1600</td>\n",
       "      <td>30.2</td>\n",
       "      <td>72.0</td>\n",
       "      <td>2845.6</td>\n",
       "      <td>30.3</td>\n",
       "      <td>27.046667</td>\n",
       "      <td>68.0</td>\n",
       "      <td>83.866667</td>\n",
       "      <td>1481.9</td>\n",
       "      <td>888.156667</td>\n",
       "      <td>1400.0</td>\n",
       "    </tr>\n",
       "    <tr>\n",
       "      <th>8801</th>\n",
       "      <td>2022-06-09</td>\n",
       "      <td>1700</td>\n",
       "      <td>30.3</td>\n",
       "      <td>68.0</td>\n",
       "      <td>1481.9</td>\n",
       "      <td>29.3</td>\n",
       "      <td>27.213333</td>\n",
       "      <td>83.0</td>\n",
       "      <td>83.133333</td>\n",
       "      <td>1091.3</td>\n",
       "      <td>923.473333</td>\n",
       "      <td>1500.0</td>\n",
       "    </tr>\n",
       "    <tr>\n",
       "      <th>8802</th>\n",
       "      <td>2022-06-09</td>\n",
       "      <td>1800</td>\n",
       "      <td>29.3</td>\n",
       "      <td>83.0</td>\n",
       "      <td>1091.3</td>\n",
       "      <td>30.7</td>\n",
       "      <td>27.250000</td>\n",
       "      <td>74.0</td>\n",
       "      <td>83.333333</td>\n",
       "      <td>1748.5</td>\n",
       "      <td>918.283333</td>\n",
       "      <td>1600.0</td>\n",
       "    </tr>\n",
       "  </tbody>\n",
       "</table>\n",
       "<p>8740 rows × 12 columns</p>\n",
       "</div>"
      ],
      "text/plain": [
       "            DATA  HORARIO  TEMPERATURA  UMIDADE  RADIACAO  TEMP_AMANHA  \\\n",
       "63    2021-06-10     1500         29.4     72.0    1057.4         29.1   \n",
       "64    2021-06-10     1600         29.1     75.0    1357.5         29.7   \n",
       "65    2021-06-10     1700         29.7     62.0    1337.7         29.5   \n",
       "66    2021-06-10     1800         29.5     66.0    1216.5         28.9   \n",
       "67    2021-06-10     1900         28.9     67.0     698.3         27.7   \n",
       "...          ...      ...          ...      ...       ...          ...   \n",
       "8798  2022-06-09     1400         30.3     70.0    1895.1         31.1   \n",
       "8799  2022-06-09     1500         31.1     69.0    2693.8         30.2   \n",
       "8800  2022-06-09     1600         30.2     72.0    2845.6         30.3   \n",
       "8801  2022-06-09     1700         30.3     68.0    1481.9         29.3   \n",
       "8802  2022-06-09     1800         29.3     83.0    1091.3         30.7   \n",
       "\n",
       "      TEMP_MES_MIX  UMID_AMANHA  UMID_MES_MIX  RADI_AMANHA  RADI_MES_MIX  \\\n",
       "63       27.020000         75.0     84.166667       1357.5    558.280000   \n",
       "64       27.170000         62.0     83.333333       1337.7    601.130000   \n",
       "65       27.276667         66.0     82.266667       1216.5    629.616667   \n",
       "66       27.296667         67.0     82.000000        698.3    626.563333   \n",
       "67       27.253333         75.0     81.966667        314.4    587.590000   \n",
       "...            ...          ...           ...          ...           ...   \n",
       "8798     26.560000         69.0     85.700000       2693.8    704.680000   \n",
       "8799     26.830000         72.0     84.733333       2845.6    794.556667   \n",
       "8800     27.046667         68.0     83.866667       1481.9    888.156667   \n",
       "8801     27.213333         83.0     83.133333       1091.3    923.473333   \n",
       "8802     27.250000         74.0     83.333333       1748.5    918.283333   \n",
       "\n",
       "      HORARIO_ATUAL  \n",
       "63           1300.0  \n",
       "64           1400.0  \n",
       "65           1500.0  \n",
       "66           1600.0  \n",
       "67           1700.0  \n",
       "...             ...  \n",
       "8798         1200.0  \n",
       "8799         1300.0  \n",
       "8800         1400.0  \n",
       "8801         1500.0  \n",
       "8802         1600.0  \n",
       "\n",
       "[8740 rows x 12 columns]"
      ]
     },
     "execution_count": 418,
     "metadata": {},
     "output_type": "execute_result"
    }
   ],
   "source": [
    "dados"
   ]
  },
  {
   "cell_type": "code",
   "execution_count": 419,
   "metadata": {},
   "outputs": [
    {
     "data": {
      "text/plain": [
       "DATA             0.0\n",
       "HORARIO          0.0\n",
       "TEMPERATURA      0.0\n",
       "UMIDADE          0.0\n",
       "RADIACAO         0.0\n",
       "TEMP_AMANHA      0.0\n",
       "TEMP_MES_MIX     0.0\n",
       "UMID_AMANHA      0.0\n",
       "UMID_MES_MIX     0.0\n",
       "RADI_AMANHA      0.0\n",
       "RADI_MES_MIX     0.0\n",
       "HORARIO_ATUAL    0.0\n",
       "dtype: float64"
      ]
     },
     "execution_count": 419,
     "metadata": {},
     "output_type": "execute_result"
    }
   ],
   "source": [
    "dados.apply(pd.isnull).sum()/dados.shape[0]"
   ]
  },
  {
   "cell_type": "code",
   "execution_count": 420,
   "metadata": {
    "executionInfo": {
     "elapsed": 347,
     "status": "ok",
     "timestamp": 1654775307371,
     "user": {
      "displayName": "Prince Nyarko",
      "userId": "02482838485601494345"
     },
     "user_tz": 180
    },
    "id": "45CS9uKjGBVN"
   },
   "outputs": [],
   "source": [
    "from sklearn.linear_model import Ridge\n",
    "from sklearn.model_selection import GridSearchCV"
   ]
  },
  {
   "cell_type": "code",
   "execution_count": 421,
   "metadata": {
    "executionInfo": {
     "elapsed": 8,
     "status": "ok",
     "timestamp": 1654775307371,
     "user": {
      "displayName": "Prince Nyarko",
      "userId": "02482838485601494345"
     },
     "user_tz": 180
    },
    "id": "Tu3XjxEWGBVN"
   },
   "outputs": [],
   "source": [
    "from sklearn.metrics import mean_absolute_percentage_error"
   ]
  },
  {
   "cell_type": "code",
   "execution_count": 422,
   "metadata": {},
   "outputs": [],
   "source": [
    "ridge = Ridge()\n",
    "parametros = {'alpha':[1e-15,1e-10,1e-8,1e-3,1e-2,1,5,10,20,30,35,40,45,50,55,100]}\n",
    "reg = GridSearchCV(ridge,parametros, cv=5)\n",
    "#reg = Ridge(alpha=0, solver='auto', fit_intercept=True, max_iter=None, tol=0.001, copy_X=True)"
   ]
  },
  {
   "cell_type": "code",
   "execution_count": 423,
   "metadata": {
    "executionInfo": {
     "elapsed": 7,
     "status": "ok",
     "timestamp": 1654775307371,
     "user": {
      "displayName": "Prince Nyarko",
      "userId": "02482838485601494345"
     },
     "user_tz": 180
    },
    "id": "R1tcVH8yGBVO"
   },
   "outputs": [],
   "source": [
    "numerio_de_dados = len(dados)+39"
   ]
  },
  {
   "cell_type": "code",
   "execution_count": 424,
   "metadata": {
    "executionInfo": {
     "elapsed": 8,
     "status": "ok",
     "timestamp": 1654775307372,
     "user": {
      "displayName": "Prince Nyarko",
      "userId": "02482838485601494345"
     },
     "user_tz": 180
    },
    "id": "9NBaKyE-GBVO"
   },
   "outputs": [],
   "source": [
    "def criar_previsões_temp(preditores, dados, reg):\n",
    "    #numerio_de_dados = len(dados)-24\n",
    "    trinar = dados.loc[:numerio_de_dados]\n",
    "    teste = dados.loc[numerio_de_dados:]\n",
    "    reg.fit(trinar[preditores], trinar[\"TEMP_AMANHA\"])\n",
    "    preditores = reg.predict(teste[preditores])\n",
    "    erro = mean_absolute_percentage_error(teste[\"TEMP_AMANHA\"],preditores)\n",
    "    conjunto = pd.concat([teste['TEMP_AMANHA'], pd.Series(preditores, index=teste.index )], axis=1)\n",
    "    conjunto.columns = ['ATUAL_TEMPERATURA', 'PREVISOES_TEMPERATURA']\n",
    "    conjunto[['DATA','HORARIO']] = teste[['DATA','HORARIO_ATUAL']]\n",
    "    print(reg.best_params_)\n",
    "    return erro, conjunto"
   ]
  },
  {
   "cell_type": "code",
   "execution_count": 425,
   "metadata": {
    "executionInfo": {
     "elapsed": 8,
     "status": "ok",
     "timestamp": 1654775307372,
     "user": {
      "displayName": "Prince Nyarko",
      "userId": "02482838485601494345"
     },
     "user_tz": 180
    },
    "id": "aJSXowLkGBVO"
   },
   "outputs": [],
   "source": [
    "def criar_previsões_umid(preditores, dados, reg):\n",
    "    trinar = dados.loc[:numerio_de_dados]\n",
    "    teste = dados.loc[numerio_de_dados:]\n",
    "    reg.fit(trinar[preditores], trinar[\"UMIDADE\"])\n",
    "    preditores = reg.predict(teste[preditores])\n",
    "    erro = mean_absolute_percentage_error(teste[\"UMIDADE\"],preditores)\n",
    "    conjunto = pd.concat([teste[\"UMIDADE\"], pd.Series(preditores, index=teste.index)], axis=1)\n",
    "    conjunto.columns = [\"ATUAL_UMIDADE\", \"PREVISOES_UMIDADE\"]\n",
    "    print(reg.best_params_)\n",
    "    return erro, conjunto"
   ]
  },
  {
   "cell_type": "code",
   "execution_count": 426,
   "metadata": {
    "executionInfo": {
     "elapsed": 8,
     "status": "ok",
     "timestamp": 1654775307372,
     "user": {
      "displayName": "Prince Nyarko",
      "userId": "02482838485601494345"
     },
     "user_tz": 180
    },
    "id": "qWCLnasRGBVO"
   },
   "outputs": [],
   "source": [
    "def criar_previsões_radi(preditores, dados, reg):\n",
    "    trinar = dados.loc[:numerio_de_dados]\n",
    "    teste = dados.loc[numerio_de_dados:]\n",
    "    reg.fit(trinar[preditores], trinar[\"RADI_AMANHA\"])\n",
    "    preditores = reg.predict(teste[preditores])\n",
    "    erro = mean_absolute_percentage_error(teste[\"RADI_AMANHA\"],preditores)\n",
    "    conjunto = pd.concat([teste[\"RADI_AMANHA\"], pd.Series(preditores, index=teste.index)], axis=1)\n",
    "    conjunto.columns = [\"ATUAL_RADIACAO\", \"PREVISOES_RADIACAO\"]\n",
    "    print(reg.best_params_)\n",
    "    return erro, conjunto"
   ]
  },
  {
   "cell_type": "code",
   "execution_count": 427,
   "metadata": {
    "executionInfo": {
     "elapsed": 7,
     "status": "ok",
     "timestamp": 1654775307372,
     "user": {
      "displayName": "Prince Nyarko",
      "userId": "02482838485601494345"
     },
     "user_tz": 180
    },
    "id": "FCRJBTojGBVP"
   },
   "outputs": [],
   "source": [
    "preditores = ['HORARIO', 'TEMPERATURA','UMID_AMANHA', 'RADIACAO','TEMP_MES_MIX', 'UMID_MES_MIX','RADI_MES_MIX']"
   ]
  },
  {
   "cell_type": "code",
   "execution_count": 428,
   "metadata": {
    "executionInfo": {
     "elapsed": 8,
     "status": "ok",
     "timestamp": 1654775307373,
     "user": {
      "displayName": "Prince Nyarko",
      "userId": "02482838485601494345"
     },
     "user_tz": 180
    },
    "id": "cp_6Zu89GBVP"
   },
   "outputs": [
    {
     "name": "stdout",
     "output_type": "stream",
     "text": [
      "{'alpha': 10}\n"
     ]
    }
   ],
   "source": [
    "temp_erro, temp_previsao = criar_previsões_temp(preditores, dados, reg)"
   ]
  },
  {
   "cell_type": "code",
   "execution_count": 429,
   "metadata": {
    "executionInfo": {
     "elapsed": 8,
     "status": "ok",
     "timestamp": 1654775307373,
     "user": {
      "displayName": "Prince Nyarko",
      "userId": "02482838485601494345"
     },
     "user_tz": 180
    },
    "id": "dHQF9W59GBVP"
   },
   "outputs": [
    {
     "name": "stdout",
     "output_type": "stream",
     "text": [
      "{'alpha': 45}\n"
     ]
    }
   ],
   "source": [
    "umid_erro, umid_previsao = criar_previsões_umid(preditores, dados, reg)"
   ]
  },
  {
   "cell_type": "code",
   "execution_count": 430,
   "metadata": {
    "executionInfo": {
     "elapsed": 8,
     "status": "ok",
     "timestamp": 1654775307373,
     "user": {
      "displayName": "Prince Nyarko",
      "userId": "02482838485601494345"
     },
     "user_tz": 180
    },
    "id": "ImsKWHWBGBVP"
   },
   "outputs": [
    {
     "name": "stdout",
     "output_type": "stream",
     "text": [
      "{'alpha': 100}\n"
     ]
    }
   ],
   "source": [
    "radi_erro, radi_previsao = criar_previsões_radi(preditores, dados, reg)"
   ]
  },
  {
   "cell_type": "code",
   "execution_count": 431,
   "metadata": {
    "executionInfo": {
     "elapsed": 8,
     "status": "ok",
     "timestamp": 1654775307373,
     "user": {
      "displayName": "Prince Nyarko",
      "userId": "02482838485601494345"
     },
     "user_tz": 180
    },
    "id": "H1_pyNa3GBVP"
   },
   "outputs": [],
   "source": [
    "previsoes_dados = temp_previsao"
   ]
  },
  {
   "cell_type": "code",
   "execution_count": 432,
   "metadata": {
    "executionInfo": {
     "elapsed": 8,
     "status": "ok",
     "timestamp": 1654775307374,
     "user": {
      "displayName": "Prince Nyarko",
      "userId": "02482838485601494345"
     },
     "user_tz": 180
    },
    "id": "WPi-qQrmGBVQ"
   },
   "outputs": [],
   "source": [
    "previsoes_dados[[\"ATUAL_UMIDADE\", \"PREVISOES_UMIDADE\"]] = umid_previsao[[\"ATUAL_UMIDADE\", \"PREVISOES_UMIDADE\"]]"
   ]
  },
  {
   "cell_type": "code",
   "execution_count": 433,
   "metadata": {
    "executionInfo": {
     "elapsed": 8,
     "status": "ok",
     "timestamp": 1654775307374,
     "user": {
      "displayName": "Prince Nyarko",
      "userId": "02482838485601494345"
     },
     "user_tz": 180
    },
    "id": "lo5yQExXKicD"
   },
   "outputs": [],
   "source": [
    "previsoes_dados[[\"ATUAL_RADIACAO\", \"PREVISOES_RADIACAO\"]] = radi_previsao[[\"ATUAL_RADIACAO\", \"PREVISOES_RADIACAO\"]]"
   ]
  },
  {
   "cell_type": "code",
   "execution_count": 434,
   "metadata": {
    "executionInfo": {
     "elapsed": 486,
     "status": "ok",
     "timestamp": 1654775307852,
     "user": {
      "displayName": "Prince Nyarko",
      "userId": "02482838485601494345"
     },
     "user_tz": 180
    },
    "id": "GVOuLqqAGBVQ"
   },
   "outputs": [],
   "source": [
    "previsoes_dados = previsoes_dados[['DATA','HORARIO','ATUAL_TEMPERATURA','PREVISOES_TEMPERATURA','ATUAL_UMIDADE','PREVISOES_UMIDADE','ATUAL_RADIACAO','PREVISOES_RADIACAO']]"
   ]
  },
  {
   "cell_type": "code",
   "execution_count": 435,
   "metadata": {},
   "outputs": [],
   "source": [
    "previsoes_dados2 = previsoes_dados[['HORARIO','PREVISOES_TEMPERATURA','PREVISOES_UMIDADE','PREVISOES_RADIACAO']]"
   ]
  },
  {
   "cell_type": "code",
   "execution_count": 436,
   "metadata": {},
   "outputs": [
    {
     "data": {
      "text/html": [
       "<div>\n",
       "<style scoped>\n",
       "    .dataframe tbody tr th:only-of-type {\n",
       "        vertical-align: middle;\n",
       "    }\n",
       "\n",
       "    .dataframe tbody tr th {\n",
       "        vertical-align: top;\n",
       "    }\n",
       "\n",
       "    .dataframe thead th {\n",
       "        text-align: right;\n",
       "    }\n",
       "</style>\n",
       "<table border=\"1\" class=\"dataframe\">\n",
       "  <thead>\n",
       "    <tr style=\"text-align: right;\">\n",
       "      <th></th>\n",
       "      <th>HORARIO</th>\n",
       "      <th>PREVISOES_TEMPERATURA</th>\n",
       "      <th>PREVISOES_UMIDADE</th>\n",
       "      <th>PREVISOES_RADIACAO</th>\n",
       "    </tr>\n",
       "  </thead>\n",
       "  <tbody>\n",
       "    <tr>\n",
       "      <th>8779</th>\n",
       "      <td>1700.0</td>\n",
       "      <td>26.726850</td>\n",
       "      <td>74.913354</td>\n",
       "      <td>96.105868</td>\n",
       "    </tr>\n",
       "    <tr>\n",
       "      <th>8780</th>\n",
       "      <td>1800.0</td>\n",
       "      <td>25.546018</td>\n",
       "      <td>85.456565</td>\n",
       "      <td>-59.416142</td>\n",
       "    </tr>\n",
       "    <tr>\n",
       "      <th>8781</th>\n",
       "      <td>1900.0</td>\n",
       "      <td>25.018756</td>\n",
       "      <td>88.413660</td>\n",
       "      <td>-126.518395</td>\n",
       "    </tr>\n",
       "    <tr>\n",
       "      <th>8782</th>\n",
       "      <td>2000.0</td>\n",
       "      <td>24.742903</td>\n",
       "      <td>89.016520</td>\n",
       "      <td>-190.752032</td>\n",
       "    </tr>\n",
       "    <tr>\n",
       "      <th>8783</th>\n",
       "      <td>2100.0</td>\n",
       "      <td>24.503527</td>\n",
       "      <td>90.919276</td>\n",
       "      <td>-149.359504</td>\n",
       "    </tr>\n",
       "    <tr>\n",
       "      <th>8784</th>\n",
       "      <td>2200.0</td>\n",
       "      <td>24.151753</td>\n",
       "      <td>92.793445</td>\n",
       "      <td>-77.619773</td>\n",
       "    </tr>\n",
       "    <tr>\n",
       "      <th>8785</th>\n",
       "      <td>2300.0</td>\n",
       "      <td>24.130827</td>\n",
       "      <td>93.107334</td>\n",
       "      <td>-61.908585</td>\n",
       "    </tr>\n",
       "    <tr>\n",
       "      <th>8786</th>\n",
       "      <td>0.0</td>\n",
       "      <td>23.955627</td>\n",
       "      <td>93.713822</td>\n",
       "      <td>-90.172230</td>\n",
       "    </tr>\n",
       "    <tr>\n",
       "      <th>8787</th>\n",
       "      <td>100.0</td>\n",
       "      <td>24.321752</td>\n",
       "      <td>93.453259</td>\n",
       "      <td>0.864255</td>\n",
       "    </tr>\n",
       "    <tr>\n",
       "      <th>8788</th>\n",
       "      <td>200.0</td>\n",
       "      <td>24.450489</td>\n",
       "      <td>93.937939</td>\n",
       "      <td>59.650111</td>\n",
       "    </tr>\n",
       "    <tr>\n",
       "      <th>8789</th>\n",
       "      <td>300.0</td>\n",
       "      <td>23.909937</td>\n",
       "      <td>95.273832</td>\n",
       "      <td>-52.164329</td>\n",
       "    </tr>\n",
       "    <tr>\n",
       "      <th>8790</th>\n",
       "      <td>400.0</td>\n",
       "      <td>23.773748</td>\n",
       "      <td>96.804443</td>\n",
       "      <td>-16.406686</td>\n",
       "    </tr>\n",
       "    <tr>\n",
       "      <th>8791</th>\n",
       "      <td>500.0</td>\n",
       "      <td>23.754002</td>\n",
       "      <td>97.148993</td>\n",
       "      <td>-8.738600</td>\n",
       "    </tr>\n",
       "    <tr>\n",
       "      <th>8792</th>\n",
       "      <td>600.0</td>\n",
       "      <td>23.764300</td>\n",
       "      <td>97.203007</td>\n",
       "      <td>-8.555570</td>\n",
       "    </tr>\n",
       "    <tr>\n",
       "      <th>8793</th>\n",
       "      <td>700.0</td>\n",
       "      <td>23.769674</td>\n",
       "      <td>97.228522</td>\n",
       "      <td>-9.765689</td>\n",
       "    </tr>\n",
       "    <tr>\n",
       "      <th>8794</th>\n",
       "      <td>800.0</td>\n",
       "      <td>25.495608</td>\n",
       "      <td>93.276705</td>\n",
       "      <td>350.918305</td>\n",
       "    </tr>\n",
       "    <tr>\n",
       "      <th>8795</th>\n",
       "      <td>900.0</td>\n",
       "      <td>27.703495</td>\n",
       "      <td>85.951329</td>\n",
       "      <td>914.878811</td>\n",
       "    </tr>\n",
       "    <tr>\n",
       "      <th>8796</th>\n",
       "      <td>1000.0</td>\n",
       "      <td>29.769408</td>\n",
       "      <td>74.639270</td>\n",
       "      <td>1514.860885</td>\n",
       "    </tr>\n",
       "    <tr>\n",
       "      <th>8797</th>\n",
       "      <td>1100.0</td>\n",
       "      <td>30.436003</td>\n",
       "      <td>70.843861</td>\n",
       "      <td>1992.112601</td>\n",
       "    </tr>\n",
       "    <tr>\n",
       "      <th>8798</th>\n",
       "      <td>1200.0</td>\n",
       "      <td>30.544128</td>\n",
       "      <td>70.496659</td>\n",
       "      <td>1900.502307</td>\n",
       "    </tr>\n",
       "    <tr>\n",
       "      <th>8799</th>\n",
       "      <td>1300.0</td>\n",
       "      <td>30.317702</td>\n",
       "      <td>68.335271</td>\n",
       "      <td>2219.899261</td>\n",
       "    </tr>\n",
       "    <tr>\n",
       "      <th>8800</th>\n",
       "      <td>1400.0</td>\n",
       "      <td>30.658391</td>\n",
       "      <td>69.782685</td>\n",
       "      <td>2497.313443</td>\n",
       "    </tr>\n",
       "    <tr>\n",
       "      <th>8801</th>\n",
       "      <td>1500.0</td>\n",
       "      <td>28.017980</td>\n",
       "      <td>73.148679</td>\n",
       "      <td>872.519798</td>\n",
       "    </tr>\n",
       "    <tr>\n",
       "      <th>8802</th>\n",
       "      <td>1600.0</td>\n",
       "      <td>29.218376</td>\n",
       "      <td>74.466778</td>\n",
       "      <td>1054.133286</td>\n",
       "    </tr>\n",
       "  </tbody>\n",
       "</table>\n",
       "</div>"
      ],
      "text/plain": [
       "      HORARIO  PREVISOES_TEMPERATURA  PREVISOES_UMIDADE  PREVISOES_RADIACAO\n",
       "8779   1700.0              26.726850          74.913354           96.105868\n",
       "8780   1800.0              25.546018          85.456565          -59.416142\n",
       "8781   1900.0              25.018756          88.413660         -126.518395\n",
       "8782   2000.0              24.742903          89.016520         -190.752032\n",
       "8783   2100.0              24.503527          90.919276         -149.359504\n",
       "8784   2200.0              24.151753          92.793445          -77.619773\n",
       "8785   2300.0              24.130827          93.107334          -61.908585\n",
       "8786      0.0              23.955627          93.713822          -90.172230\n",
       "8787    100.0              24.321752          93.453259            0.864255\n",
       "8788    200.0              24.450489          93.937939           59.650111\n",
       "8789    300.0              23.909937          95.273832          -52.164329\n",
       "8790    400.0              23.773748          96.804443          -16.406686\n",
       "8791    500.0              23.754002          97.148993           -8.738600\n",
       "8792    600.0              23.764300          97.203007           -8.555570\n",
       "8793    700.0              23.769674          97.228522           -9.765689\n",
       "8794    800.0              25.495608          93.276705          350.918305\n",
       "8795    900.0              27.703495          85.951329          914.878811\n",
       "8796   1000.0              29.769408          74.639270         1514.860885\n",
       "8797   1100.0              30.436003          70.843861         1992.112601\n",
       "8798   1200.0              30.544128          70.496659         1900.502307\n",
       "8799   1300.0              30.317702          68.335271         2219.899261\n",
       "8800   1400.0              30.658391          69.782685         2497.313443\n",
       "8801   1500.0              28.017980          73.148679          872.519798\n",
       "8802   1600.0              29.218376          74.466778         1054.133286"
      ]
     },
     "execution_count": 436,
     "metadata": {},
     "output_type": "execute_result"
    }
   ],
   "source": [
    "previsoes_dados2"
   ]
  },
  {
   "cell_type": "code",
   "execution_count": 437,
   "metadata": {
    "colab": {
     "base_uri": "https://localhost:8080/",
     "height": 802
    },
    "executionInfo": {
     "elapsed": 45,
     "status": "ok",
     "timestamp": 1654775307853,
     "user": {
      "displayName": "Prince Nyarko",
      "userId": "02482838485601494345"
     },
     "user_tz": 180
    },
    "id": "iu58xjggMEbO",
    "outputId": "34edd404-9c98-4268-b813-cb91a26eb6b3"
   },
   "outputs": [
    {
     "data": {
      "text/html": [
       "<div>\n",
       "<style scoped>\n",
       "    .dataframe tbody tr th:only-of-type {\n",
       "        vertical-align: middle;\n",
       "    }\n",
       "\n",
       "    .dataframe tbody tr th {\n",
       "        vertical-align: top;\n",
       "    }\n",
       "\n",
       "    .dataframe thead th {\n",
       "        text-align: right;\n",
       "    }\n",
       "</style>\n",
       "<table border=\"1\" class=\"dataframe\">\n",
       "  <thead>\n",
       "    <tr style=\"text-align: right;\">\n",
       "      <th></th>\n",
       "      <th>DATA</th>\n",
       "      <th>HORARIO</th>\n",
       "      <th>ATUAL_TEMPERATURA</th>\n",
       "      <th>PREVISOES_TEMPERATURA</th>\n",
       "      <th>ATUAL_UMIDADE</th>\n",
       "      <th>PREVISOES_UMIDADE</th>\n",
       "      <th>ATUAL_RADIACAO</th>\n",
       "      <th>PREVISOES_RADIACAO</th>\n",
       "    </tr>\n",
       "  </thead>\n",
       "  <tbody>\n",
       "    <tr>\n",
       "      <th>8779</th>\n",
       "      <td>2022-06-08</td>\n",
       "      <td>1700.0</td>\n",
       "      <td>26.4</td>\n",
       "      <td>26.726850</td>\n",
       "      <td>69.0</td>\n",
       "      <td>74.913354</td>\n",
       "      <td>158.4</td>\n",
       "      <td>96.105868</td>\n",
       "    </tr>\n",
       "    <tr>\n",
       "      <th>8780</th>\n",
       "      <td>2022-06-08</td>\n",
       "      <td>1800.0</td>\n",
       "      <td>25.6</td>\n",
       "      <td>25.546018</td>\n",
       "      <td>88.0</td>\n",
       "      <td>85.456565</td>\n",
       "      <td>38.0</td>\n",
       "      <td>-59.416142</td>\n",
       "    </tr>\n",
       "    <tr>\n",
       "      <th>8781</th>\n",
       "      <td>2022-06-08</td>\n",
       "      <td>1900.0</td>\n",
       "      <td>25.6</td>\n",
       "      <td>25.018756</td>\n",
       "      <td>89.0</td>\n",
       "      <td>88.413660</td>\n",
       "      <td>2.6</td>\n",
       "      <td>-126.518395</td>\n",
       "    </tr>\n",
       "    <tr>\n",
       "      <th>8782</th>\n",
       "      <td>2022-06-08</td>\n",
       "      <td>2000.0</td>\n",
       "      <td>25.1</td>\n",
       "      <td>24.742903</td>\n",
       "      <td>91.0</td>\n",
       "      <td>89.016520</td>\n",
       "      <td>-2.5</td>\n",
       "      <td>-190.752032</td>\n",
       "    </tr>\n",
       "    <tr>\n",
       "      <th>8783</th>\n",
       "      <td>2022-06-08</td>\n",
       "      <td>2100.0</td>\n",
       "      <td>24.8</td>\n",
       "      <td>24.503527</td>\n",
       "      <td>93.0</td>\n",
       "      <td>90.919276</td>\n",
       "      <td>-3.0</td>\n",
       "      <td>-149.359504</td>\n",
       "    </tr>\n",
       "    <tr>\n",
       "      <th>8784</th>\n",
       "      <td>2022-06-09</td>\n",
       "      <td>2200.0</td>\n",
       "      <td>24.7</td>\n",
       "      <td>24.151753</td>\n",
       "      <td>94.0</td>\n",
       "      <td>92.793445</td>\n",
       "      <td>-1.8</td>\n",
       "      <td>-77.619773</td>\n",
       "    </tr>\n",
       "    <tr>\n",
       "      <th>8785</th>\n",
       "      <td>2022-06-09</td>\n",
       "      <td>2300.0</td>\n",
       "      <td>24.6</td>\n",
       "      <td>24.130827</td>\n",
       "      <td>96.0</td>\n",
       "      <td>93.107334</td>\n",
       "      <td>-1.9</td>\n",
       "      <td>-61.908585</td>\n",
       "    </tr>\n",
       "    <tr>\n",
       "      <th>8786</th>\n",
       "      <td>2022-06-09</td>\n",
       "      <td>0.0</td>\n",
       "      <td>24.6</td>\n",
       "      <td>23.955627</td>\n",
       "      <td>96.0</td>\n",
       "      <td>93.713822</td>\n",
       "      <td>-1.9</td>\n",
       "      <td>-90.172230</td>\n",
       "    </tr>\n",
       "    <tr>\n",
       "      <th>8787</th>\n",
       "      <td>2022-06-09</td>\n",
       "      <td>100.0</td>\n",
       "      <td>24.4</td>\n",
       "      <td>24.321752</td>\n",
       "      <td>97.0</td>\n",
       "      <td>93.453259</td>\n",
       "      <td>-2.2</td>\n",
       "      <td>0.864255</td>\n",
       "    </tr>\n",
       "    <tr>\n",
       "      <th>8788</th>\n",
       "      <td>2022-06-09</td>\n",
       "      <td>200.0</td>\n",
       "      <td>24.2</td>\n",
       "      <td>24.450489</td>\n",
       "      <td>95.0</td>\n",
       "      <td>93.937939</td>\n",
       "      <td>-3.5</td>\n",
       "      <td>59.650111</td>\n",
       "    </tr>\n",
       "    <tr>\n",
       "      <th>8789</th>\n",
       "      <td>2022-06-09</td>\n",
       "      <td>300.0</td>\n",
       "      <td>23.7</td>\n",
       "      <td>23.909937</td>\n",
       "      <td>94.0</td>\n",
       "      <td>95.273832</td>\n",
       "      <td>-3.0</td>\n",
       "      <td>-52.164329</td>\n",
       "    </tr>\n",
       "    <tr>\n",
       "      <th>8790</th>\n",
       "      <td>2022-06-09</td>\n",
       "      <td>400.0</td>\n",
       "      <td>23.6</td>\n",
       "      <td>23.773748</td>\n",
       "      <td>97.0</td>\n",
       "      <td>96.804443</td>\n",
       "      <td>-2.1</td>\n",
       "      <td>-16.406686</td>\n",
       "    </tr>\n",
       "    <tr>\n",
       "      <th>8791</th>\n",
       "      <td>2022-06-09</td>\n",
       "      <td>500.0</td>\n",
       "      <td>23.6</td>\n",
       "      <td>23.754002</td>\n",
       "      <td>97.0</td>\n",
       "      <td>97.148993</td>\n",
       "      <td>-2.1</td>\n",
       "      <td>-8.738600</td>\n",
       "    </tr>\n",
       "    <tr>\n",
       "      <th>8792</th>\n",
       "      <td>2022-06-09</td>\n",
       "      <td>600.0</td>\n",
       "      <td>23.6</td>\n",
       "      <td>23.764300</td>\n",
       "      <td>97.0</td>\n",
       "      <td>97.203007</td>\n",
       "      <td>-2.0</td>\n",
       "      <td>-8.555570</td>\n",
       "    </tr>\n",
       "    <tr>\n",
       "      <th>8793</th>\n",
       "      <td>2022-06-09</td>\n",
       "      <td>700.0</td>\n",
       "      <td>24.3</td>\n",
       "      <td>23.769674</td>\n",
       "      <td>97.0</td>\n",
       "      <td>97.228522</td>\n",
       "      <td>41.3</td>\n",
       "      <td>-9.765689</td>\n",
       "    </tr>\n",
       "    <tr>\n",
       "      <th>8794</th>\n",
       "      <td>2022-06-09</td>\n",
       "      <td>800.0</td>\n",
       "      <td>26.0</td>\n",
       "      <td>25.495608</td>\n",
       "      <td>97.0</td>\n",
       "      <td>93.276705</td>\n",
       "      <td>430.8</td>\n",
       "      <td>350.918305</td>\n",
       "    </tr>\n",
       "    <tr>\n",
       "      <th>8795</th>\n",
       "      <td>2022-06-09</td>\n",
       "      <td>900.0</td>\n",
       "      <td>29.3</td>\n",
       "      <td>27.703495</td>\n",
       "      <td>88.0</td>\n",
       "      <td>85.951329</td>\n",
       "      <td>1294.6</td>\n",
       "      <td>914.878811</td>\n",
       "    </tr>\n",
       "    <tr>\n",
       "      <th>8796</th>\n",
       "      <td>2022-06-09</td>\n",
       "      <td>1000.0</td>\n",
       "      <td>30.3</td>\n",
       "      <td>29.769408</td>\n",
       "      <td>78.0</td>\n",
       "      <td>74.639270</td>\n",
       "      <td>2021.0</td>\n",
       "      <td>1514.860885</td>\n",
       "    </tr>\n",
       "    <tr>\n",
       "      <th>8797</th>\n",
       "      <td>2022-06-09</td>\n",
       "      <td>1100.0</td>\n",
       "      <td>30.3</td>\n",
       "      <td>30.436003</td>\n",
       "      <td>72.0</td>\n",
       "      <td>70.843861</td>\n",
       "      <td>1895.1</td>\n",
       "      <td>1992.112601</td>\n",
       "    </tr>\n",
       "    <tr>\n",
       "      <th>8798</th>\n",
       "      <td>2022-06-09</td>\n",
       "      <td>1200.0</td>\n",
       "      <td>31.1</td>\n",
       "      <td>30.544128</td>\n",
       "      <td>70.0</td>\n",
       "      <td>70.496659</td>\n",
       "      <td>2693.8</td>\n",
       "      <td>1900.502307</td>\n",
       "    </tr>\n",
       "    <tr>\n",
       "      <th>8799</th>\n",
       "      <td>2022-06-09</td>\n",
       "      <td>1300.0</td>\n",
       "      <td>30.2</td>\n",
       "      <td>30.317702</td>\n",
       "      <td>69.0</td>\n",
       "      <td>68.335271</td>\n",
       "      <td>2845.6</td>\n",
       "      <td>2219.899261</td>\n",
       "    </tr>\n",
       "    <tr>\n",
       "      <th>8800</th>\n",
       "      <td>2022-06-09</td>\n",
       "      <td>1400.0</td>\n",
       "      <td>30.3</td>\n",
       "      <td>30.658391</td>\n",
       "      <td>72.0</td>\n",
       "      <td>69.782685</td>\n",
       "      <td>1481.9</td>\n",
       "      <td>2497.313443</td>\n",
       "    </tr>\n",
       "    <tr>\n",
       "      <th>8801</th>\n",
       "      <td>2022-06-09</td>\n",
       "      <td>1500.0</td>\n",
       "      <td>29.3</td>\n",
       "      <td>28.017980</td>\n",
       "      <td>68.0</td>\n",
       "      <td>73.148679</td>\n",
       "      <td>1091.3</td>\n",
       "      <td>872.519798</td>\n",
       "    </tr>\n",
       "    <tr>\n",
       "      <th>8802</th>\n",
       "      <td>2022-06-09</td>\n",
       "      <td>1600.0</td>\n",
       "      <td>30.7</td>\n",
       "      <td>29.218376</td>\n",
       "      <td>83.0</td>\n",
       "      <td>74.466778</td>\n",
       "      <td>1748.5</td>\n",
       "      <td>1054.133286</td>\n",
       "    </tr>\n",
       "  </tbody>\n",
       "</table>\n",
       "</div>"
      ],
      "text/plain": [
       "            DATA  HORARIO  ATUAL_TEMPERATURA  PREVISOES_TEMPERATURA  \\\n",
       "8779  2022-06-08   1700.0               26.4              26.726850   \n",
       "8780  2022-06-08   1800.0               25.6              25.546018   \n",
       "8781  2022-06-08   1900.0               25.6              25.018756   \n",
       "8782  2022-06-08   2000.0               25.1              24.742903   \n",
       "8783  2022-06-08   2100.0               24.8              24.503527   \n",
       "8784  2022-06-09   2200.0               24.7              24.151753   \n",
       "8785  2022-06-09   2300.0               24.6              24.130827   \n",
       "8786  2022-06-09      0.0               24.6              23.955627   \n",
       "8787  2022-06-09    100.0               24.4              24.321752   \n",
       "8788  2022-06-09    200.0               24.2              24.450489   \n",
       "8789  2022-06-09    300.0               23.7              23.909937   \n",
       "8790  2022-06-09    400.0               23.6              23.773748   \n",
       "8791  2022-06-09    500.0               23.6              23.754002   \n",
       "8792  2022-06-09    600.0               23.6              23.764300   \n",
       "8793  2022-06-09    700.0               24.3              23.769674   \n",
       "8794  2022-06-09    800.0               26.0              25.495608   \n",
       "8795  2022-06-09    900.0               29.3              27.703495   \n",
       "8796  2022-06-09   1000.0               30.3              29.769408   \n",
       "8797  2022-06-09   1100.0               30.3              30.436003   \n",
       "8798  2022-06-09   1200.0               31.1              30.544128   \n",
       "8799  2022-06-09   1300.0               30.2              30.317702   \n",
       "8800  2022-06-09   1400.0               30.3              30.658391   \n",
       "8801  2022-06-09   1500.0               29.3              28.017980   \n",
       "8802  2022-06-09   1600.0               30.7              29.218376   \n",
       "\n",
       "      ATUAL_UMIDADE  PREVISOES_UMIDADE  ATUAL_RADIACAO  PREVISOES_RADIACAO  \n",
       "8779           69.0          74.913354           158.4           96.105868  \n",
       "8780           88.0          85.456565            38.0          -59.416142  \n",
       "8781           89.0          88.413660             2.6         -126.518395  \n",
       "8782           91.0          89.016520            -2.5         -190.752032  \n",
       "8783           93.0          90.919276            -3.0         -149.359504  \n",
       "8784           94.0          92.793445            -1.8          -77.619773  \n",
       "8785           96.0          93.107334            -1.9          -61.908585  \n",
       "8786           96.0          93.713822            -1.9          -90.172230  \n",
       "8787           97.0          93.453259            -2.2            0.864255  \n",
       "8788           95.0          93.937939            -3.5           59.650111  \n",
       "8789           94.0          95.273832            -3.0          -52.164329  \n",
       "8790           97.0          96.804443            -2.1          -16.406686  \n",
       "8791           97.0          97.148993            -2.1           -8.738600  \n",
       "8792           97.0          97.203007            -2.0           -8.555570  \n",
       "8793           97.0          97.228522            41.3           -9.765689  \n",
       "8794           97.0          93.276705           430.8          350.918305  \n",
       "8795           88.0          85.951329          1294.6          914.878811  \n",
       "8796           78.0          74.639270          2021.0         1514.860885  \n",
       "8797           72.0          70.843861          1895.1         1992.112601  \n",
       "8798           70.0          70.496659          2693.8         1900.502307  \n",
       "8799           69.0          68.335271          2845.6         2219.899261  \n",
       "8800           72.0          69.782685          1481.9         2497.313443  \n",
       "8801           68.0          73.148679          1091.3          872.519798  \n",
       "8802           83.0          74.466778          1748.5         1054.133286  "
      ]
     },
     "execution_count": 437,
     "metadata": {},
     "output_type": "execute_result"
    }
   ],
   "source": [
    "previsoes_dados"
   ]
  },
  {
   "cell_type": "code",
   "execution_count": 438,
   "metadata": {
    "executionInfo": {
     "elapsed": 43,
     "status": "ok",
     "timestamp": 1654775307853,
     "user": {
      "displayName": "Prince Nyarko",
      "userId": "02482838485601494345"
     },
     "user_tz": 180
    },
    "id": "bsuYJPTwjbzr"
   },
   "outputs": [],
   "source": [
    "previsoes_dados.to_csv('garoa.csv', index=False)"
   ]
  },
  {
   "cell_type": "code",
   "execution_count": 439,
   "metadata": {},
   "outputs": [],
   "source": [
    "previsoes_dados2.to_csv('garoa_raw.csv', index=False)\n"
   ]
  },
  {
   "cell_type": "code",
   "execution_count": 440,
   "metadata": {
    "colab": {
     "base_uri": "https://localhost:8080/"
    },
    "executionInfo": {
     "elapsed": 43,
     "status": "ok",
     "timestamp": 1654775307854,
     "user": {
      "displayName": "Prince Nyarko",
      "userId": "02482838485601494345"
     },
     "user_tz": 180
    },
    "id": "hTH-zGQnlGf0",
    "outputId": "cf264b9e-d029-4db4-ad1a-d89f55b2aa4e"
   },
   "outputs": [],
   "source": [
    "#previsoes_dados.to_excel('garoa.xls', index=False)"
   ]
  },
  {
   "cell_type": "code",
   "execution_count": 441,
   "metadata": {
    "colab": {
     "base_uri": "https://localhost:8080/"
    },
    "executionInfo": {
     "elapsed": 37,
     "status": "ok",
     "timestamp": 1654775307854,
     "user": {
      "displayName": "Prince Nyarko",
      "userId": "02482838485601494345"
     },
     "user_tz": 180
    },
    "id": "y0CYebmjGBVQ",
    "outputId": "064e297e-cc72-4ad0-fb07-9e6522c483c2"
   },
   "outputs": [
    {
     "data": {
      "text/plain": [
       "0.02701245147221405"
      ]
     },
     "execution_count": 441,
     "metadata": {},
     "output_type": "execute_result"
    }
   ],
   "source": [
    "umid_erro"
   ]
  },
  {
   "cell_type": "code",
   "execution_count": 442,
   "metadata": {
    "colab": {
     "base_uri": "https://localhost:8080/"
    },
    "executionInfo": {
     "elapsed": 34,
     "status": "ok",
     "timestamp": 1654775307855,
     "user": {
      "displayName": "Prince Nyarko",
      "userId": "02482838485601494345"
     },
     "user_tz": 180
    },
    "id": "9e21wTLnNU2Z",
    "outputId": "34d4dc19-bf98-4d4c-dfc7-2dfc31ceb849"
   },
   "outputs": [
    {
     "data": {
      "text/plain": [
       "0.01739295188607617"
      ]
     },
     "execution_count": 442,
     "metadata": {},
     "output_type": "execute_result"
    }
   ],
   "source": [
    "temp_erro"
   ]
  },
  {
   "cell_type": "code",
   "execution_count": 443,
   "metadata": {
    "colab": {
     "base_uri": "https://localhost:8080/"
    },
    "executionInfo": {
     "elapsed": 30,
     "status": "ok",
     "timestamp": 1654775307855,
     "user": {
      "displayName": "Prince Nyarko",
      "userId": "02482838485601494345"
     },
     "user_tz": 180
    },
    "id": "YREAn3RFNYIg",
    "outputId": "24738d12-a4bb-4f5f-87c9-e30eba80af36"
   },
   "outputs": [
    {
     "data": {
      "text/plain": [
       "14.573304235427427"
      ]
     },
     "execution_count": 443,
     "metadata": {},
     "output_type": "execute_result"
    }
   ],
   "source": [
    "radi_erro"
   ]
  },
  {
   "cell_type": "code",
   "execution_count": 444,
   "metadata": {
    "colab": {
     "base_uri": "https://localhost:8080/",
     "height": 284
    },
    "executionInfo": {
     "elapsed": 645,
     "status": "ok",
     "timestamp": 1654775308475,
     "user": {
      "displayName": "Prince Nyarko",
      "userId": "02482838485601494345"
     },
     "user_tz": 180
    },
    "id": "6UNTwbypTB2R",
    "outputId": "4186c582-a4d0-461f-92e1-7a723e501a3c"
   },
   "outputs": [
    {
     "data": {
      "text/plain": [
       "<AxesSubplot:>"
      ]
     },
     "execution_count": 444,
     "metadata": {},
     "output_type": "execute_result"
    },
    {
     "data": {
      "image/png": "[encoded data removed]",
      "text/plain": [
       "<Figure size 432x288 with 1 Axes>"
      ]
     },
     "metadata": {
      "needs_background": "light"
     },
     "output_type": "display_data"
    }
   ],
   "source": [
    "previsoes_dados.plot()"
   ]
  },
  {
   "cell_type": "code",
   "execution_count": 445,
   "metadata": {},
   "outputs": [
    {
     "data": {
      "text/plain": [
       "<AxesSubplot:title={'center':'TEMPERATURA'}, xlabel='HORARIO'>"
      ]
     },
     "execution_count": 445,
     "metadata": {},
     "output_type": "execute_result"
    },
    {
     "data": {
      "image/png": "[encoded data removed]",
      "text/plain": [
       "<Figure size 1728x432 with 1 Axes>"
      ]
     },
     "metadata": {
      "needs_background": "light"
     },
     "output_type": "display_data"
    }
   ],
   "source": [
    "dados.boxplot(\"TEMPERATURA\", by='HORARIO', figsize=(24,6))"
   ]
  },
  {
   "cell_type": "code",
   "execution_count": 446,
   "metadata": {
    "colab": {
     "base_uri": "https://localhost:8080/",
     "height": 438
    },
    "executionInfo": {
     "elapsed": 554,
     "status": "ok",
     "timestamp": 1654775309020,
     "user": {
      "displayName": "Prince Nyarko",
      "userId": "02482838485601494345"
     },
     "user_tz": 180
    },
    "id": "Ux4sYPgRU-zJ",
    "outputId": "8f569319-94fa-4d8e-b057-e5332ea5aa80"
   },
   "outputs": [
    {
     "data": {
      "text/plain": [
       "<AxesSubplot:title={'center':'PREVISOES_TEMPERATURA'}, xlabel='HORARIO'>"
      ]
     },
     "execution_count": 446,
     "metadata": {},
     "output_type": "execute_result"
    },
    {
     "data": {
      "image/png": "[encoded data removed]",
      "text/plain": [
       "<Figure size 1728x432 with 1 Axes>"
      ]
     },
     "metadata": {
      "needs_background": "light"
     },
     "output_type": "display_data"
    }
   ],
   "source": [
    "previsoes_dados.boxplot(\"PREVISOES_TEMPERATURA\", by='HORARIO', figsize=(24,6))"
   ]
  },
  {
   "cell_type": "code",
   "execution_count": 447,
   "metadata": {
    "executionInfo": {
     "elapsed": 14,
     "status": "ok",
     "timestamp": 1654775309021,
     "user": {
      "displayName": "Prince Nyarko",
      "userId": "02482838485601494345"
     },
     "user_tz": 180
    },
    "id": "hyNmMIhHTFtw"
   },
   "outputs": [],
   "source": [
    "import matplotlib.pyplot as plt\n"
   ]
  },
  {
   "cell_type": "code",
   "execution_count": 448,
   "metadata": {
    "colab": {
     "base_uri": "https://localhost:8080/",
     "height": 265
    },
    "executionInfo": {
     "elapsed": 14,
     "status": "ok",
     "timestamp": 1654775309022,
     "user": {
      "displayName": "Prince Nyarko",
      "userId": "02482838485601494345"
     },
     "user_tz": 180
    },
    "id": "ZeAJDeQcTUZH",
    "outputId": "efcec62b-55a8-4f27-cbd9-56910dd34a33"
   },
   "outputs": [
    {
     "data": {
      "image/png": "[encoded data removed]",
      "text/plain": [
       "<Figure size 432x288 with 1 Axes>"
      ]
     },
     "metadata": {
      "needs_background": "light"
     },
     "output_type": "display_data"
    }
   ],
   "source": [
    "plt.plot( previsoes_dados.PREVISOES_TEMPERATURA)\n",
    "#plt.plot(previsoes_dados.HORARIO, previsoes_dados.ATUAL_UMIDADE)\n",
    "#plt.plot(previsoes_dados.HORARIO, previsoes_dados.ATUAL_RADIACAO)\n",
    "\n",
    "plt.show()"
   ]
  }
 ],
 "metadata": {
  "colab": {
   "collapsed_sections": [],
   "name": "Cópia de teste.ipynb",
   "provenance": [
    {
     "file_id": "https://github.com/garoa-startup/previsao/blob/main/modelo/teste.ipynb",
     "timestamp": 1653564358004
    }
   ]
  },
  "kernelspec": {
   "display_name": "Python 3.10.5 64-bit",
   "language": "python",
   "name": "python3"
  },
  "language_info": {
   "codemirror_mode": {
    "name": "ipython",
    "version": 3
   },
   "file_extension": ".py",
   "mimetype": "text/x-python",
   "name": "python",
   "nbconvert_exporter": "python",
   "pygments_lexer": "ipython3",
   "version": "3.10.5"
  },
  "vscode": {
   "interpreter": {
    "hash": "4e1d9a8909477db77738c33245c29c7265277ef753467dede8cf3f814cde494e"
   }
  }
 },
 "nbformat": 4,
 "nbformat_minor": 1
}
