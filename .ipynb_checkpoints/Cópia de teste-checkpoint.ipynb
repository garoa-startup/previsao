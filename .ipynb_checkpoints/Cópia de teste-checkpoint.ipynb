{
 "cells": [
  {
   "cell_type": "code",
   "execution_count": 1,
   "metadata": {
    "executionInfo": {
     "elapsed": 10679,
     "status": "ok",
     "timestamp": 1654775303331,
     "user": {
      "displayName": "Prince Nyarko",
      "userId": "02482838485601494345"
     },
     "user_tz": 180
    },
    "id": "eEaRMEvaGBU-"
   },
   "outputs": [],
   "source": [
    "import requests\n",
    "url = 'https://apitempo.inmet.gov.br/estacao/2021-06-07/2022-06-08/A201'\n",
    "resultado = requests.get(url)"
   ]
  },
  {
   "cell_type": "code",
   "execution_count": 2,
   "metadata": {
    "executionInfo": {
     "elapsed": 5,
     "status": "ok",
     "timestamp": 1654775303333,
     "user": {
      "displayName": "Prince Nyarko",
      "userId": "02482838485601494345"
     },
     "user_tz": 180
    },
    "id": "9VSpLxYQGBVA"
   },
   "outputs": [],
   "source": [
    "import json\n",
    "dados_org = resultado.json()\n",
    "dados_str = json.dumps(dados_org)\n"
   ]
  },
  {
   "cell_type": "code",
   "execution_count": 3,
   "metadata": {
    "executionInfo": {
     "elapsed": 288,
     "status": "ok",
     "timestamp": 1654775303617,
     "user": {
      "displayName": "Prince Nyarko",
      "userId": "02482838485601494345"
     },
     "user_tz": 180
    },
    "id": "o615QirjGBVA"
   },
   "outputs": [],
   "source": [
    "import pandas as pd\n",
    "import numpy as np"
   ]
  },
  {
   "cell_type": "code",
   "execution_count": 4,
   "metadata": {
    "colab": {
     "base_uri": "https://localhost:8080/",
     "height": 488
    },
    "executionInfo": {
     "elapsed": 346,
     "status": "ok",
     "timestamp": 1654775303961,
     "user": {
      "displayName": "Prince Nyarko",
      "userId": "02482838485601494345"
     },
     "user_tz": 180
    },
    "id": "fpUU-zoIGBVB",
    "outputId": "ca952152-c038-4acc-b482-e29c866a0a6f"
   },
   "outputs": [
    {
     "data": {
      "text/html": [
       "<div>\n",
       "<style scoped>\n",
       "    .dataframe tbody tr th:only-of-type {\n",
       "        vertical-align: middle;\n",
       "    }\n",
       "\n",
       "    .dataframe tbody tr th {\n",
       "        vertical-align: top;\n",
       "    }\n",
       "\n",
       "    .dataframe thead th {\n",
       "        text-align: right;\n",
       "    }\n",
       "</style>\n",
       "<table border=\"1\" class=\"dataframe\">\n",
       "  <thead>\n",
       "    <tr style=\"text-align: right;\">\n",
       "      <th></th>\n",
       "      <th>DC_NOME</th>\n",
       "      <th>PRE_INS</th>\n",
       "      <th>TEM_SEN</th>\n",
       "      <th>VL_LATITUDE</th>\n",
       "      <th>PRE_MAX</th>\n",
       "      <th>UF</th>\n",
       "      <th>RAD_GLO</th>\n",
       "      <th>PTO_INS</th>\n",
       "      <th>TEM_MIN</th>\n",
       "      <th>VL_LONGITUDE</th>\n",
       "      <th>...</th>\n",
       "      <th>VEN_VEL</th>\n",
       "      <th>PTO_MIN</th>\n",
       "      <th>TEM_MAX</th>\n",
       "      <th>TEN_BAT</th>\n",
       "      <th>VEN_RAJ</th>\n",
       "      <th>TEM_CPU</th>\n",
       "      <th>TEM_INS</th>\n",
       "      <th>UMD_INS</th>\n",
       "      <th>CD_ESTACAO</th>\n",
       "      <th>HR_MEDICAO</th>\n",
       "    </tr>\n",
       "  </thead>\n",
       "  <tbody>\n",
       "    <tr>\n",
       "      <th>0</th>\n",
       "      <td>BELÉM</td>\n",
       "      <td>1009.5</td>\n",
       "      <td>29.7</td>\n",
       "      <td>-1.411228</td>\n",
       "      <td>1009.6</td>\n",
       "      <td>PA</td>\n",
       "      <td>-0.5</td>\n",
       "      <td>23.4</td>\n",
       "      <td>26.9</td>\n",
       "      <td>-48.439512</td>\n",
       "      <td>...</td>\n",
       "      <td>0.3</td>\n",
       "      <td>23.2</td>\n",
       "      <td>27.3</td>\n",
       "      <td>13.1</td>\n",
       "      <td>4.0</td>\n",
       "      <td>29.0</td>\n",
       "      <td>27.1</td>\n",
       "      <td>80.0</td>\n",
       "      <td>A201</td>\n",
       "      <td>0</td>\n",
       "    </tr>\n",
       "    <tr>\n",
       "      <th>1</th>\n",
       "      <td>BELÉM</td>\n",
       "      <td>1009.9</td>\n",
       "      <td>29.5</td>\n",
       "      <td>-1.411228</td>\n",
       "      <td>1009.9</td>\n",
       "      <td>PA</td>\n",
       "      <td>-1.2</td>\n",
       "      <td>23.6</td>\n",
       "      <td>26.8</td>\n",
       "      <td>-48.439512</td>\n",
       "      <td>...</td>\n",
       "      <td>0.8</td>\n",
       "      <td>23.4</td>\n",
       "      <td>27.1</td>\n",
       "      <td>13.1</td>\n",
       "      <td>3.5</td>\n",
       "      <td>29.0</td>\n",
       "      <td>26.8</td>\n",
       "      <td>83.0</td>\n",
       "      <td>A201</td>\n",
       "      <td>100</td>\n",
       "    </tr>\n",
       "    <tr>\n",
       "      <th>2</th>\n",
       "      <td>BELÉM</td>\n",
       "      <td>1010.0</td>\n",
       "      <td>28.7</td>\n",
       "      <td>-1.411228</td>\n",
       "      <td>1010.1</td>\n",
       "      <td>PA</td>\n",
       "      <td>-0.7</td>\n",
       "      <td>25.1</td>\n",
       "      <td>25.8</td>\n",
       "      <td>-48.439512</td>\n",
       "      <td>...</td>\n",
       "      <td>1.7</td>\n",
       "      <td>23.6</td>\n",
       "      <td>26.8</td>\n",
       "      <td>13.1</td>\n",
       "      <td>4.0</td>\n",
       "      <td>28.0</td>\n",
       "      <td>25.8</td>\n",
       "      <td>96.0</td>\n",
       "      <td>A201</td>\n",
       "      <td>200</td>\n",
       "    </tr>\n",
       "    <tr>\n",
       "      <th>3</th>\n",
       "      <td>BELÉM</td>\n",
       "      <td>1010.0</td>\n",
       "      <td>27.6</td>\n",
       "      <td>-1.411228</td>\n",
       "      <td>1010.1</td>\n",
       "      <td>PA</td>\n",
       "      <td>-2.0</td>\n",
       "      <td>24.6</td>\n",
       "      <td>25.4</td>\n",
       "      <td>-48.439512</td>\n",
       "      <td>...</td>\n",
       "      <td>2.0</td>\n",
       "      <td>24.6</td>\n",
       "      <td>25.8</td>\n",
       "      <td>13.0</td>\n",
       "      <td>5.3</td>\n",
       "      <td>27.0</td>\n",
       "      <td>25.4</td>\n",
       "      <td>95.0</td>\n",
       "      <td>A201</td>\n",
       "      <td>300</td>\n",
       "    </tr>\n",
       "    <tr>\n",
       "      <th>4</th>\n",
       "      <td>BELÉM</td>\n",
       "      <td>1008.8</td>\n",
       "      <td>29.1</td>\n",
       "      <td>-1.411228</td>\n",
       "      <td>1010.0</td>\n",
       "      <td>PA</td>\n",
       "      <td>0.9</td>\n",
       "      <td>24.9</td>\n",
       "      <td>25.1</td>\n",
       "      <td>-48.439512</td>\n",
       "      <td>...</td>\n",
       "      <td>0.4</td>\n",
       "      <td>24.5</td>\n",
       "      <td>25.4</td>\n",
       "      <td>13.0</td>\n",
       "      <td>5.0</td>\n",
       "      <td>27.0</td>\n",
       "      <td>25.2</td>\n",
       "      <td>98.0</td>\n",
       "      <td>A201</td>\n",
       "      <td>400</td>\n",
       "    </tr>\n",
       "    <tr>\n",
       "      <th>...</th>\n",
       "      <td>...</td>\n",
       "      <td>...</td>\n",
       "      <td>...</td>\n",
       "      <td>...</td>\n",
       "      <td>...</td>\n",
       "      <td>...</td>\n",
       "      <td>...</td>\n",
       "      <td>...</td>\n",
       "      <td>...</td>\n",
       "      <td>...</td>\n",
       "      <td>...</td>\n",
       "      <td>...</td>\n",
       "      <td>...</td>\n",
       "      <td>...</td>\n",
       "      <td>...</td>\n",
       "      <td>...</td>\n",
       "      <td>...</td>\n",
       "      <td>...</td>\n",
       "      <td>...</td>\n",
       "      <td>...</td>\n",
       "      <td>...</td>\n",
       "    </tr>\n",
       "    <tr>\n",
       "      <th>8803</th>\n",
       "      <td>BELÉM</td>\n",
       "      <td>1006.4</td>\n",
       "      <td>31.5</td>\n",
       "      <td>-1.411228</td>\n",
       "      <td>1006.5</td>\n",
       "      <td>PA</td>\n",
       "      <td>709.0</td>\n",
       "      <td>23.6</td>\n",
       "      <td>29.8</td>\n",
       "      <td>-48.439512</td>\n",
       "      <td>...</td>\n",
       "      <td>1.6</td>\n",
       "      <td>22.9</td>\n",
       "      <td>32.2</td>\n",
       "      <td>14.5</td>\n",
       "      <td>4.6</td>\n",
       "      <td>34.0</td>\n",
       "      <td>29.8</td>\n",
       "      <td>69.0</td>\n",
       "      <td>A201</td>\n",
       "      <td>1900</td>\n",
       "    </tr>\n",
       "    <tr>\n",
       "      <th>8804</th>\n",
       "      <td>BELÉM</td>\n",
       "      <td>1007.0</td>\n",
       "      <td>29.3</td>\n",
       "      <td>-1.411228</td>\n",
       "      <td>1007.1</td>\n",
       "      <td>PA</td>\n",
       "      <td>158.4</td>\n",
       "      <td>24.2</td>\n",
       "      <td>26.4</td>\n",
       "      <td>-48.439512</td>\n",
       "      <td>...</td>\n",
       "      <td>1.1</td>\n",
       "      <td>23.4</td>\n",
       "      <td>29.9</td>\n",
       "      <td>13.2</td>\n",
       "      <td>6.6</td>\n",
       "      <td>32.0</td>\n",
       "      <td>26.4</td>\n",
       "      <td>88.0</td>\n",
       "      <td>A201</td>\n",
       "      <td>2000</td>\n",
       "    </tr>\n",
       "    <tr>\n",
       "      <th>8805</th>\n",
       "      <td>BELÉM</td>\n",
       "      <td>1007.3</td>\n",
       "      <td>28.5</td>\n",
       "      <td>-1.411228</td>\n",
       "      <td>1007.4</td>\n",
       "      <td>PA</td>\n",
       "      <td>38.0</td>\n",
       "      <td>23.6</td>\n",
       "      <td>25.6</td>\n",
       "      <td>-48.439512</td>\n",
       "      <td>...</td>\n",
       "      <td>0.8</td>\n",
       "      <td>23.6</td>\n",
       "      <td>26.4</td>\n",
       "      <td>13.1</td>\n",
       "      <td>3.7</td>\n",
       "      <td>29.0</td>\n",
       "      <td>25.6</td>\n",
       "      <td>89.0</td>\n",
       "      <td>A201</td>\n",
       "      <td>2100</td>\n",
       "    </tr>\n",
       "    <tr>\n",
       "      <th>8806</th>\n",
       "      <td>BELÉM</td>\n",
       "      <td>1008.4</td>\n",
       "      <td>28.9</td>\n",
       "      <td>-1.411228</td>\n",
       "      <td>1008.4</td>\n",
       "      <td>PA</td>\n",
       "      <td>2.6</td>\n",
       "      <td>24.0</td>\n",
       "      <td>25.4</td>\n",
       "      <td>-48.439512</td>\n",
       "      <td>...</td>\n",
       "      <td>0.0</td>\n",
       "      <td>23.4</td>\n",
       "      <td>25.7</td>\n",
       "      <td>13.1</td>\n",
       "      <td>2.2</td>\n",
       "      <td>28.0</td>\n",
       "      <td>25.6</td>\n",
       "      <td>91.0</td>\n",
       "      <td>A201</td>\n",
       "      <td>2200</td>\n",
       "    </tr>\n",
       "    <tr>\n",
       "      <th>8807</th>\n",
       "      <td>BELÉM</td>\n",
       "      <td>1008.9</td>\n",
       "      <td>28.4</td>\n",
       "      <td>-1.411228</td>\n",
       "      <td>1008.9</td>\n",
       "      <td>PA</td>\n",
       "      <td>-2.5</td>\n",
       "      <td>23.9</td>\n",
       "      <td>25.1</td>\n",
       "      <td>-48.439512</td>\n",
       "      <td>...</td>\n",
       "      <td>0.0</td>\n",
       "      <td>23.7</td>\n",
       "      <td>25.7</td>\n",
       "      <td>13.0</td>\n",
       "      <td>0.9</td>\n",
       "      <td>27.0</td>\n",
       "      <td>25.1</td>\n",
       "      <td>93.0</td>\n",
       "      <td>A201</td>\n",
       "      <td>2300</td>\n",
       "    </tr>\n",
       "  </tbody>\n",
       "</table>\n",
       "<p>8808 rows × 27 columns</p>\n",
       "</div>"
      ],
      "text/plain": [
       "     DC_NOME  PRE_INS  TEM_SEN  VL_LATITUDE  PRE_MAX  UF  RAD_GLO  PTO_INS  \\\n",
       "0      BELÉM   1009.5     29.7    -1.411228   1009.6  PA     -0.5     23.4   \n",
       "1      BELÉM   1009.9     29.5    -1.411228   1009.9  PA     -1.2     23.6   \n",
       "2      BELÉM   1010.0     28.7    -1.411228   1010.1  PA     -0.7     25.1   \n",
       "3      BELÉM   1010.0     27.6    -1.411228   1010.1  PA     -2.0     24.6   \n",
       "4      BELÉM   1008.8     29.1    -1.411228   1010.0  PA      0.9     24.9   \n",
       "...      ...      ...      ...          ...      ...  ..      ...      ...   \n",
       "8803   BELÉM   1006.4     31.5    -1.411228   1006.5  PA    709.0     23.6   \n",
       "8804   BELÉM   1007.0     29.3    -1.411228   1007.1  PA    158.4     24.2   \n",
       "8805   BELÉM   1007.3     28.5    -1.411228   1007.4  PA     38.0     23.6   \n",
       "8806   BELÉM   1008.4     28.9    -1.411228   1008.4  PA      2.6     24.0   \n",
       "8807   BELÉM   1008.9     28.4    -1.411228   1008.9  PA     -2.5     23.9   \n",
       "\n",
       "      TEM_MIN  VL_LONGITUDE  ...  VEN_VEL  PTO_MIN  TEM_MAX TEN_BAT  VEN_RAJ  \\\n",
       "0        26.9    -48.439512  ...      0.3     23.2     27.3    13.1      4.0   \n",
       "1        26.8    -48.439512  ...      0.8     23.4     27.1    13.1      3.5   \n",
       "2        25.8    -48.439512  ...      1.7     23.6     26.8    13.1      4.0   \n",
       "3        25.4    -48.439512  ...      2.0     24.6     25.8    13.0      5.3   \n",
       "4        25.1    -48.439512  ...      0.4     24.5     25.4    13.0      5.0   \n",
       "...       ...           ...  ...      ...      ...      ...     ...      ...   \n",
       "8803     29.8    -48.439512  ...      1.6     22.9     32.2    14.5      4.6   \n",
       "8804     26.4    -48.439512  ...      1.1     23.4     29.9    13.2      6.6   \n",
       "8805     25.6    -48.439512  ...      0.8     23.6     26.4    13.1      3.7   \n",
       "8806     25.4    -48.439512  ...      0.0     23.4     25.7    13.1      2.2   \n",
       "8807     25.1    -48.439512  ...      0.0     23.7     25.7    13.0      0.9   \n",
       "\n",
       "      TEM_CPU  TEM_INS  UMD_INS  CD_ESTACAO  HR_MEDICAO  \n",
       "0        29.0     27.1     80.0        A201           0  \n",
       "1        29.0     26.8     83.0        A201         100  \n",
       "2        28.0     25.8     96.0        A201         200  \n",
       "3        27.0     25.4     95.0        A201         300  \n",
       "4        27.0     25.2     98.0        A201         400  \n",
       "...       ...      ...      ...         ...         ...  \n",
       "8803     34.0     29.8     69.0        A201        1900  \n",
       "8804     32.0     26.4     88.0        A201        2000  \n",
       "8805     29.0     25.6     89.0        A201        2100  \n",
       "8806     28.0     25.6     91.0        A201        2200  \n",
       "8807     27.0     25.1     93.0        A201        2300  \n",
       "\n",
       "[8808 rows x 27 columns]"
      ]
     },
     "execution_count": 4,
     "metadata": {},
     "output_type": "execute_result"
    }
   ],
   "source": [
    "dados_tabla = pd.read_json(dados_str)\n",
    "dados_tabla\n"
   ]
  },
  {
   "cell_type": "code",
   "execution_count": 5,
   "metadata": {
    "colab": {
     "base_uri": "https://localhost:8080/",
     "height": 424
    },
    "executionInfo": {
     "elapsed": 12,
     "status": "ok",
     "timestamp": 1654775303962,
     "user": {
      "displayName": "Prince Nyarko",
      "userId": "02482838485601494345"
     },
     "user_tz": 180
    },
    "id": "qWYgdsHyGBVB",
    "outputId": "caa3785e-cb7f-47ff-8e6c-5e641bba03f3"
   },
   "outputs": [
    {
     "data": {
      "text/html": [
       "<div>\n",
       "<style scoped>\n",
       "    .dataframe tbody tr th:only-of-type {\n",
       "        vertical-align: middle;\n",
       "    }\n",
       "\n",
       "    .dataframe tbody tr th {\n",
       "        vertical-align: top;\n",
       "    }\n",
       "\n",
       "    .dataframe thead th {\n",
       "        text-align: right;\n",
       "    }\n",
       "</style>\n",
       "<table border=\"1\" class=\"dataframe\">\n",
       "  <thead>\n",
       "    <tr style=\"text-align: right;\">\n",
       "      <th></th>\n",
       "      <th>DT_MEDICAO</th>\n",
       "      <th>HR_MEDICAO</th>\n",
       "      <th>TEM_INS</th>\n",
       "      <th>UMD_INS</th>\n",
       "      <th>RAD_GLO</th>\n",
       "    </tr>\n",
       "  </thead>\n",
       "  <tbody>\n",
       "    <tr>\n",
       "      <th>0</th>\n",
       "      <td>2021-06-07</td>\n",
       "      <td>0</td>\n",
       "      <td>27.1</td>\n",
       "      <td>80.0</td>\n",
       "      <td>-0.5</td>\n",
       "    </tr>\n",
       "    <tr>\n",
       "      <th>1</th>\n",
       "      <td>2021-06-07</td>\n",
       "      <td>100</td>\n",
       "      <td>26.8</td>\n",
       "      <td>83.0</td>\n",
       "      <td>-1.2</td>\n",
       "    </tr>\n",
       "    <tr>\n",
       "      <th>2</th>\n",
       "      <td>2021-06-07</td>\n",
       "      <td>200</td>\n",
       "      <td>25.8</td>\n",
       "      <td>96.0</td>\n",
       "      <td>-0.7</td>\n",
       "    </tr>\n",
       "    <tr>\n",
       "      <th>3</th>\n",
       "      <td>2021-06-07</td>\n",
       "      <td>300</td>\n",
       "      <td>25.4</td>\n",
       "      <td>95.0</td>\n",
       "      <td>-2.0</td>\n",
       "    </tr>\n",
       "    <tr>\n",
       "      <th>4</th>\n",
       "      <td>2021-06-07</td>\n",
       "      <td>400</td>\n",
       "      <td>25.2</td>\n",
       "      <td>98.0</td>\n",
       "      <td>0.9</td>\n",
       "    </tr>\n",
       "    <tr>\n",
       "      <th>...</th>\n",
       "      <td>...</td>\n",
       "      <td>...</td>\n",
       "      <td>...</td>\n",
       "      <td>...</td>\n",
       "      <td>...</td>\n",
       "    </tr>\n",
       "    <tr>\n",
       "      <th>8803</th>\n",
       "      <td>2022-06-08</td>\n",
       "      <td>1900</td>\n",
       "      <td>29.8</td>\n",
       "      <td>69.0</td>\n",
       "      <td>709.0</td>\n",
       "    </tr>\n",
       "    <tr>\n",
       "      <th>8804</th>\n",
       "      <td>2022-06-08</td>\n",
       "      <td>2000</td>\n",
       "      <td>26.4</td>\n",
       "      <td>88.0</td>\n",
       "      <td>158.4</td>\n",
       "    </tr>\n",
       "    <tr>\n",
       "      <th>8805</th>\n",
       "      <td>2022-06-08</td>\n",
       "      <td>2100</td>\n",
       "      <td>25.6</td>\n",
       "      <td>89.0</td>\n",
       "      <td>38.0</td>\n",
       "    </tr>\n",
       "    <tr>\n",
       "      <th>8806</th>\n",
       "      <td>2022-06-08</td>\n",
       "      <td>2200</td>\n",
       "      <td>25.6</td>\n",
       "      <td>91.0</td>\n",
       "      <td>2.6</td>\n",
       "    </tr>\n",
       "    <tr>\n",
       "      <th>8807</th>\n",
       "      <td>2022-06-08</td>\n",
       "      <td>2300</td>\n",
       "      <td>25.1</td>\n",
       "      <td>93.0</td>\n",
       "      <td>-2.5</td>\n",
       "    </tr>\n",
       "  </tbody>\n",
       "</table>\n",
       "<p>8808 rows × 5 columns</p>\n",
       "</div>"
      ],
      "text/plain": [
       "      DT_MEDICAO  HR_MEDICAO  TEM_INS  UMD_INS  RAD_GLO\n",
       "0     2021-06-07           0     27.1     80.0     -0.5\n",
       "1     2021-06-07         100     26.8     83.0     -1.2\n",
       "2     2021-06-07         200     25.8     96.0     -0.7\n",
       "3     2021-06-07         300     25.4     95.0     -2.0\n",
       "4     2021-06-07         400     25.2     98.0      0.9\n",
       "...          ...         ...      ...      ...      ...\n",
       "8803  2022-06-08        1900     29.8     69.0    709.0\n",
       "8804  2022-06-08        2000     26.4     88.0    158.4\n",
       "8805  2022-06-08        2100     25.6     89.0     38.0\n",
       "8806  2022-06-08        2200     25.6     91.0      2.6\n",
       "8807  2022-06-08        2300     25.1     93.0     -2.5\n",
       "\n",
       "[8808 rows x 5 columns]"
      ]
     },
     "execution_count": 5,
     "metadata": {},
     "output_type": "execute_result"
    }
   ],
   "source": [
    "dados = dados_tabla[['DT_MEDICAO', 'HR_MEDICAO', 'TEM_INS', 'UMD_INS', 'RAD_GLO']]\n",
    "dados"
   ]
  },
  {
   "cell_type": "markdown",
   "metadata": {
    "id": "YgXSxnmPGBVC"
   },
   "source": [
    "# Renomia o titulo do nosso dados"
   ]
  },
  {
   "cell_type": "code",
   "execution_count": 6,
   "metadata": {
    "executionInfo": {
     "elapsed": 9,
     "status": "ok",
     "timestamp": 1654775303962,
     "user": {
      "displayName": "Prince Nyarko",
      "userId": "02482838485601494345"
     },
     "user_tz": 180
    },
    "id": "rKDBPYuTGBVD"
   },
   "outputs": [],
   "source": [
    "dados.columns = ['DATA','HORARIO', 'TEMPERATURA', 'UMIDADE', 'RADIACAO']"
   ]
  },
  {
   "cell_type": "code",
   "execution_count": 7,
   "metadata": {
    "colab": {
     "base_uri": "https://localhost:8080/",
     "height": 424
    },
    "executionInfo": {
     "elapsed": 9,
     "status": "ok",
     "timestamp": 1654775303962,
     "user": {
      "displayName": "Prince Nyarko",
      "userId": "02482838485601494345"
     },
     "user_tz": 180
    },
    "id": "anFfGrDYGBVD",
    "outputId": "c5d87ca2-c798-405e-e990-1c981d211861"
   },
   "outputs": [
    {
     "data": {
      "text/html": [
       "<div>\n",
       "<style scoped>\n",
       "    .dataframe tbody tr th:only-of-type {\n",
       "        vertical-align: middle;\n",
       "    }\n",
       "\n",
       "    .dataframe tbody tr th {\n",
       "        vertical-align: top;\n",
       "    }\n",
       "\n",
       "    .dataframe thead th {\n",
       "        text-align: right;\n",
       "    }\n",
       "</style>\n",
       "<table border=\"1\" class=\"dataframe\">\n",
       "  <thead>\n",
       "    <tr style=\"text-align: right;\">\n",
       "      <th></th>\n",
       "      <th>DATA</th>\n",
       "      <th>HORARIO</th>\n",
       "      <th>TEMPERATURA</th>\n",
       "      <th>UMIDADE</th>\n",
       "      <th>RADIACAO</th>\n",
       "    </tr>\n",
       "  </thead>\n",
       "  <tbody>\n",
       "    <tr>\n",
       "      <th>0</th>\n",
       "      <td>2021-06-07</td>\n",
       "      <td>0</td>\n",
       "      <td>27.1</td>\n",
       "      <td>80.0</td>\n",
       "      <td>-0.5</td>\n",
       "    </tr>\n",
       "    <tr>\n",
       "      <th>1</th>\n",
       "      <td>2021-06-07</td>\n",
       "      <td>100</td>\n",
       "      <td>26.8</td>\n",
       "      <td>83.0</td>\n",
       "      <td>-1.2</td>\n",
       "    </tr>\n",
       "    <tr>\n",
       "      <th>2</th>\n",
       "      <td>2021-06-07</td>\n",
       "      <td>200</td>\n",
       "      <td>25.8</td>\n",
       "      <td>96.0</td>\n",
       "      <td>-0.7</td>\n",
       "    </tr>\n",
       "    <tr>\n",
       "      <th>3</th>\n",
       "      <td>2021-06-07</td>\n",
       "      <td>300</td>\n",
       "      <td>25.4</td>\n",
       "      <td>95.0</td>\n",
       "      <td>-2.0</td>\n",
       "    </tr>\n",
       "    <tr>\n",
       "      <th>4</th>\n",
       "      <td>2021-06-07</td>\n",
       "      <td>400</td>\n",
       "      <td>25.2</td>\n",
       "      <td>98.0</td>\n",
       "      <td>0.9</td>\n",
       "    </tr>\n",
       "    <tr>\n",
       "      <th>...</th>\n",
       "      <td>...</td>\n",
       "      <td>...</td>\n",
       "      <td>...</td>\n",
       "      <td>...</td>\n",
       "      <td>...</td>\n",
       "    </tr>\n",
       "    <tr>\n",
       "      <th>8803</th>\n",
       "      <td>2022-06-08</td>\n",
       "      <td>1900</td>\n",
       "      <td>29.8</td>\n",
       "      <td>69.0</td>\n",
       "      <td>709.0</td>\n",
       "    </tr>\n",
       "    <tr>\n",
       "      <th>8804</th>\n",
       "      <td>2022-06-08</td>\n",
       "      <td>2000</td>\n",
       "      <td>26.4</td>\n",
       "      <td>88.0</td>\n",
       "      <td>158.4</td>\n",
       "    </tr>\n",
       "    <tr>\n",
       "      <th>8805</th>\n",
       "      <td>2022-06-08</td>\n",
       "      <td>2100</td>\n",
       "      <td>25.6</td>\n",
       "      <td>89.0</td>\n",
       "      <td>38.0</td>\n",
       "    </tr>\n",
       "    <tr>\n",
       "      <th>8806</th>\n",
       "      <td>2022-06-08</td>\n",
       "      <td>2200</td>\n",
       "      <td>25.6</td>\n",
       "      <td>91.0</td>\n",
       "      <td>2.6</td>\n",
       "    </tr>\n",
       "    <tr>\n",
       "      <th>8807</th>\n",
       "      <td>2022-06-08</td>\n",
       "      <td>2300</td>\n",
       "      <td>25.1</td>\n",
       "      <td>93.0</td>\n",
       "      <td>-2.5</td>\n",
       "    </tr>\n",
       "  </tbody>\n",
       "</table>\n",
       "<p>8808 rows × 5 columns</p>\n",
       "</div>"
      ],
      "text/plain": [
       "            DATA  HORARIO  TEMPERATURA  UMIDADE  RADIACAO\n",
       "0     2021-06-07        0         27.1     80.0      -0.5\n",
       "1     2021-06-07      100         26.8     83.0      -1.2\n",
       "2     2021-06-07      200         25.8     96.0      -0.7\n",
       "3     2021-06-07      300         25.4     95.0      -2.0\n",
       "4     2021-06-07      400         25.2     98.0       0.9\n",
       "...          ...      ...          ...      ...       ...\n",
       "8803  2022-06-08     1900         29.8     69.0     709.0\n",
       "8804  2022-06-08     2000         26.4     88.0     158.4\n",
       "8805  2022-06-08     2100         25.6     89.0      38.0\n",
       "8806  2022-06-08     2200         25.6     91.0       2.6\n",
       "8807  2022-06-08     2300         25.1     93.0      -2.5\n",
       "\n",
       "[8808 rows x 5 columns]"
      ]
     },
     "execution_count": 7,
     "metadata": {},
     "output_type": "execute_result"
    }
   ],
   "source": [
    "dados"
   ]
  },
  {
   "cell_type": "code",
   "execution_count": 8,
   "metadata": {
    "colab": {
     "base_uri": "https://localhost:8080/",
     "height": 495
    },
    "executionInfo": {
     "elapsed": 802,
     "status": "ok",
     "timestamp": 1654775304756,
     "user": {
      "displayName": "Prince Nyarko",
      "userId": "02482838485601494345"
     },
     "user_tz": 180
    },
    "id": "tq-Nx-vQGBVE",
    "outputId": "5706de3a-78d6-4fe6-ebbb-ba133a55f300"
   },
   "outputs": [
    {
     "data": {
      "text/plain": [
       "<AxesSubplot:title={'center':'TEMPERATURA'}, xlabel='HORARIO'>"
      ]
     },
     "execution_count": 8,
     "metadata": {},
     "output_type": "execute_result"
    },
    {
     "data": {
      "image/png": "[encoded data removed]",
      "text/plain": [
       "<Figure size 1728x432 with 1 Axes>"
      ]
     },
     "metadata": {
      "needs_background": "light"
     },
     "output_type": "display_data"
    }
   ],
   "source": [
    "dados.boxplot(\"TEMPERATURA\", by='HORARIO', figsize=(24,6))"
   ]
  },
  {
   "cell_type": "code",
   "execution_count": 9,
   "metadata": {
    "colab": {
     "base_uri": "https://localhost:8080/",
     "height": 495
    },
    "executionInfo": {
     "elapsed": 394,
     "status": "ok",
     "timestamp": 1654775305143,
     "user": {
      "displayName": "Prince Nyarko",
      "userId": "02482838485601494345"
     },
     "user_tz": 180
    },
    "id": "3dLwhVHIGBVF",
    "outputId": "f5d1819f-ebc7-4dc5-a857-5aeeaa6df523"
   },
   "outputs": [
    {
     "data": {
      "text/plain": [
       "<AxesSubplot:title={'center':'UMIDADE'}, xlabel='HORARIO'>"
      ]
     },
     "execution_count": 9,
     "metadata": {},
     "output_type": "execute_result"
    },
    {
     "data": {
      "image/png": "[encoded data removed]",
      "text/plain": [
       "<Figure size 1728x432 with 1 Axes>"
      ]
     },
     "metadata": {
      "needs_background": "light"
     },
     "output_type": "display_data"
    }
   ],
   "source": [
    "dados.boxplot(\"UMIDADE\", by='HORARIO', figsize=(24,6))"
   ]
  },
  {
   "cell_type": "code",
   "execution_count": 10,
   "metadata": {
    "colab": {
     "base_uri": "https://localhost:8080/",
     "height": 495
    },
    "executionInfo": {
     "elapsed": 787,
     "status": "ok",
     "timestamp": 1654775305927,
     "user": {
      "displayName": "Prince Nyarko",
      "userId": "02482838485601494345"
     },
     "user_tz": 180
    },
    "id": "ZPM-TV2HGBVG",
    "outputId": "94d357f3-f127-4e0d-b2f2-2d9a6c3de708"
   },
   "outputs": [
    {
     "data": {
      "text/plain": [
       "<AxesSubplot:title={'center':'RADIACAO'}, xlabel='HORARIO'>"
      ]
     },
     "execution_count": 10,
     "metadata": {},
     "output_type": "execute_result"
    },
    {
     "data": {
      "image/png": "[encoded data removed]",
      "text/plain": [
       "<Figure size 1728x432 with 1 Axes>"
      ]
     },
     "metadata": {
      "needs_background": "light"
     },
     "output_type": "display_data"
    }
   ],
   "source": [
    "dados.boxplot(\"RADIACAO\", by='HORARIO', figsize=(24,6))"
   ]
  },
  {
   "cell_type": "markdown",
   "metadata": {
    "id": "C_wjTtG3GBVH"
   },
   "source": [
    "# Verificando a suma de dados null "
   ]
  },
  {
   "cell_type": "code",
   "execution_count": 11,
   "metadata": {
    "colab": {
     "base_uri": "https://localhost:8080/"
    },
    "executionInfo": {
     "elapsed": 35,
     "status": "ok",
     "timestamp": 1654775305928,
     "user": {
      "displayName": "Prince Nyarko",
      "userId": "02482838485601494345"
     },
     "user_tz": 180
    },
    "id": "xRyPpWDGGBVH",
    "outputId": "ada4481a-3d51-4bcc-d2ab-da53c753bbdf"
   },
   "outputs": [
    {
     "data": {
      "text/plain": [
       "DATA           0.000000\n",
       "HORARIO        0.000000\n",
       "TEMPERATURA    0.010332\n",
       "UMIDADE        0.033719\n",
       "RADIACAO       0.010332\n",
       "dtype: float64"
      ]
     },
     "execution_count": 11,
     "metadata": {},
     "output_type": "execute_result"
    }
   ],
   "source": [
    "dados.apply(pd.isnull).sum()/dados.shape[0]"
   ]
  },
  {
   "cell_type": "code",
   "execution_count": 12,
   "metadata": {
    "colab": {
     "base_uri": "https://localhost:8080/",
     "height": 424
    },
    "executionInfo": {
     "elapsed": 31,
     "status": "ok",
     "timestamp": 1654775305929,
     "user": {
      "displayName": "Prince Nyarko",
      "userId": "02482838485601494345"
     },
     "user_tz": 180
    },
    "id": "P0c1iVO-GBVI",
    "outputId": "b0f7f711-f8c4-4c96-fbe9-a1352f2833ed"
   },
   "outputs": [
    {
     "data": {
      "text/html": [
       "<div>\n",
       "<style scoped>\n",
       "    .dataframe tbody tr th:only-of-type {\n",
       "        vertical-align: middle;\n",
       "    }\n",
       "\n",
       "    .dataframe tbody tr th {\n",
       "        vertical-align: top;\n",
       "    }\n",
       "\n",
       "    .dataframe thead th {\n",
       "        text-align: right;\n",
       "    }\n",
       "</style>\n",
       "<table border=\"1\" class=\"dataframe\">\n",
       "  <thead>\n",
       "    <tr style=\"text-align: right;\">\n",
       "      <th></th>\n",
       "      <th>DATA</th>\n",
       "      <th>HORARIO</th>\n",
       "      <th>TEMPERATURA</th>\n",
       "      <th>UMIDADE</th>\n",
       "      <th>RADIACAO</th>\n",
       "    </tr>\n",
       "  </thead>\n",
       "  <tbody>\n",
       "    <tr>\n",
       "      <th>2720</th>\n",
       "      <td>2021-09-28</td>\n",
       "      <td>800</td>\n",
       "      <td>NaN</td>\n",
       "      <td>NaN</td>\n",
       "      <td>NaN</td>\n",
       "    </tr>\n",
       "    <tr>\n",
       "      <th>2721</th>\n",
       "      <td>2021-09-28</td>\n",
       "      <td>900</td>\n",
       "      <td>NaN</td>\n",
       "      <td>NaN</td>\n",
       "      <td>NaN</td>\n",
       "    </tr>\n",
       "    <tr>\n",
       "      <th>2722</th>\n",
       "      <td>2021-09-28</td>\n",
       "      <td>1000</td>\n",
       "      <td>NaN</td>\n",
       "      <td>NaN</td>\n",
       "      <td>NaN</td>\n",
       "    </tr>\n",
       "    <tr>\n",
       "      <th>2723</th>\n",
       "      <td>2021-09-28</td>\n",
       "      <td>1100</td>\n",
       "      <td>NaN</td>\n",
       "      <td>NaN</td>\n",
       "      <td>NaN</td>\n",
       "    </tr>\n",
       "    <tr>\n",
       "      <th>2724</th>\n",
       "      <td>2021-09-28</td>\n",
       "      <td>1200</td>\n",
       "      <td>NaN</td>\n",
       "      <td>NaN</td>\n",
       "      <td>NaN</td>\n",
       "    </tr>\n",
       "    <tr>\n",
       "      <th>...</th>\n",
       "      <td>...</td>\n",
       "      <td>...</td>\n",
       "      <td>...</td>\n",
       "      <td>...</td>\n",
       "      <td>...</td>\n",
       "    </tr>\n",
       "    <tr>\n",
       "      <th>6431</th>\n",
       "      <td>2022-03-01</td>\n",
       "      <td>2300</td>\n",
       "      <td>NaN</td>\n",
       "      <td>NaN</td>\n",
       "      <td>NaN</td>\n",
       "    </tr>\n",
       "    <tr>\n",
       "      <th>6481</th>\n",
       "      <td>2022-03-04</td>\n",
       "      <td>100</td>\n",
       "      <td>NaN</td>\n",
       "      <td>NaN</td>\n",
       "      <td>NaN</td>\n",
       "    </tr>\n",
       "    <tr>\n",
       "      <th>6578</th>\n",
       "      <td>2022-03-08</td>\n",
       "      <td>200</td>\n",
       "      <td>NaN</td>\n",
       "      <td>NaN</td>\n",
       "      <td>NaN</td>\n",
       "    </tr>\n",
       "    <tr>\n",
       "      <th>6673</th>\n",
       "      <td>2022-03-12</td>\n",
       "      <td>100</td>\n",
       "      <td>NaN</td>\n",
       "      <td>NaN</td>\n",
       "      <td>NaN</td>\n",
       "    </tr>\n",
       "    <tr>\n",
       "      <th>6839</th>\n",
       "      <td>2022-03-18</td>\n",
       "      <td>2300</td>\n",
       "      <td>NaN</td>\n",
       "      <td>NaN</td>\n",
       "      <td>NaN</td>\n",
       "    </tr>\n",
       "  </tbody>\n",
       "</table>\n",
       "<p>91 rows × 5 columns</p>\n",
       "</div>"
      ],
      "text/plain": [
       "            DATA  HORARIO  TEMPERATURA  UMIDADE  RADIACAO\n",
       "2720  2021-09-28      800          NaN      NaN       NaN\n",
       "2721  2021-09-28      900          NaN      NaN       NaN\n",
       "2722  2021-09-28     1000          NaN      NaN       NaN\n",
       "2723  2021-09-28     1100          NaN      NaN       NaN\n",
       "2724  2021-09-28     1200          NaN      NaN       NaN\n",
       "...          ...      ...          ...      ...       ...\n",
       "6431  2022-03-01     2300          NaN      NaN       NaN\n",
       "6481  2022-03-04      100          NaN      NaN       NaN\n",
       "6578  2022-03-08      200          NaN      NaN       NaN\n",
       "6673  2022-03-12      100          NaN      NaN       NaN\n",
       "6839  2022-03-18     2300          NaN      NaN       NaN\n",
       "\n",
       "[91 rows x 5 columns]"
      ]
     },
     "execution_count": 12,
     "metadata": {},
     "output_type": "execute_result"
    }
   ],
   "source": [
    "dados[pd.isnull(dados['TEMPERATURA'])]"
   ]
  },
  {
   "cell_type": "code",
   "execution_count": 13,
   "metadata": {
    "executionInfo": {
     "elapsed": 29,
     "status": "ok",
     "timestamp": 1654775305929,
     "user": {
      "displayName": "Prince Nyarko",
      "userId": "02482838485601494345"
     },
     "user_tz": 180
    },
    "id": "CZh25vwNGBVI"
   },
   "outputs": [],
   "source": [
    "dados = dados.fillna(method='dffill')"
   ]
  },
  {
   "cell_type": "code",
   "execution_count": 14,
   "metadata": {
    "colab": {
     "base_uri": "https://localhost:8080/"
    },
    "executionInfo": {
     "elapsed": 29,
     "status": "ok",
     "timestamp": 1654775305929,
     "user": {
      "displayName": "Prince Nyarko",
      "userId": "02482838485601494345"
     },
     "user_tz": 180
    },
    "id": "vyN63yoqGBVJ",
    "outputId": "07352a5b-9428-4a48-cc3d-fa531c96f7eb"
   },
   "outputs": [
    {
     "data": {
      "text/plain": [
       "DATA           0.0\n",
       "HORARIO        0.0\n",
       "TEMPERATURA    0.0\n",
       "UMIDADE        0.0\n",
       "RADIACAO       0.0\n",
       "dtype: float64"
      ]
     },
     "execution_count": 14,
     "metadata": {},
     "output_type": "execute_result"
    }
   ],
   "source": [
    "dados.apply(pd.isnull).sum()/dados.shape[0]"
   ]
  },
  {
   "cell_type": "markdown",
   "metadata": {
    "id": "P0yEFmIUGBVJ"
   },
   "source": [
    "# verificando se nosso dados são numéricos"
   ]
  },
  {
   "cell_type": "code",
   "execution_count": 15,
   "metadata": {
    "colab": {
     "base_uri": "https://localhost:8080/"
    },
    "executionInfo": {
     "elapsed": 26,
     "status": "ok",
     "timestamp": 1654775305930,
     "user": {
      "displayName": "Prince Nyarko",
      "userId": "02482838485601494345"
     },
     "user_tz": 180
    },
    "id": "pM25jQ5yGBVJ",
    "outputId": "820de539-8931-45b2-f4e9-b9635a7babc5"
   },
   "outputs": [
    {
     "data": {
      "text/plain": [
       "DATA            object\n",
       "HORARIO          int64\n",
       "TEMPERATURA    float64\n",
       "UMIDADE        float64\n",
       "RADIACAO       float64\n",
       "dtype: object"
      ]
     },
     "execution_count": 15,
     "metadata": {},
     "output_type": "execute_result"
    }
   ],
   "source": [
    "dados.dtypes"
   ]
  },
  {
   "cell_type": "code",
   "execution_count": 16,
   "metadata": {
    "colab": {
     "base_uri": "https://localhost:8080/",
     "height": 392
    },
    "executionInfo": {
     "elapsed": 1131,
     "status": "ok",
     "timestamp": 1654775307038,
     "user": {
      "displayName": "Prince Nyarko",
      "userId": "02482838485601494345"
     },
     "user_tz": 180
    },
    "id": "ttYXjMHlGBVK",
    "outputId": "ac64b29a-1524-476c-d446-306a52719c3f"
   },
   "outputs": [
    {
     "data": {
      "text/plain": [
       "<AxesSubplot:>"
      ]
     },
     "execution_count": 16,
     "metadata": {},
     "output_type": "execute_result"
    },
    {
     "data": {
      "image/png": "[encoded data removed]",
      "text/plain": [
       "<Figure size 1872x432 with 1 Axes>"
      ]
     },
     "metadata": {
      "needs_background": "light"
     },
     "output_type": "display_data"
    }
   ],
   "source": [
    "dados[['TEMPERATURA']].plot(figsize=(26,6))"
   ]
  },
  {
   "cell_type": "markdown",
   "metadata": {
    "id": "bny6ElU2GBVK"
   },
   "source": [
    "# Agrupando os dados por horário"
   ]
  },
  {
   "cell_type": "code",
   "execution_count": 17,
   "metadata": {
    "colab": {
     "base_uri": "https://localhost:8080/",
     "height": 833
    },
    "executionInfo": {
     "elapsed": 18,
     "status": "ok",
     "timestamp": 1654775307038,
     "user": {
      "displayName": "Prince Nyarko",
      "userId": "02482838485601494345"
     },
     "user_tz": 180
    },
    "id": "Xm2__H7_GBVL",
    "outputId": "0f3746de-a231-44a6-dd25-8f794d5c6514"
   },
   "outputs": [
    {
     "data": {
      "text/html": [
       "<div>\n",
       "<style scoped>\n",
       "    .dataframe tbody tr th:only-of-type {\n",
       "        vertical-align: middle;\n",
       "    }\n",
       "\n",
       "    .dataframe tbody tr th {\n",
       "        vertical-align: top;\n",
       "    }\n",
       "\n",
       "    .dataframe thead th {\n",
       "        text-align: right;\n",
       "    }\n",
       "</style>\n",
       "<table border=\"1\" class=\"dataframe\">\n",
       "  <thead>\n",
       "    <tr style=\"text-align: right;\">\n",
       "      <th></th>\n",
       "      <th>TEMPERATURA</th>\n",
       "      <th>UMIDADE</th>\n",
       "      <th>RADIACAO</th>\n",
       "    </tr>\n",
       "    <tr>\n",
       "      <th>HORARIO</th>\n",
       "      <th></th>\n",
       "      <th></th>\n",
       "      <th></th>\n",
       "    </tr>\n",
       "  </thead>\n",
       "  <tbody>\n",
       "    <tr>\n",
       "      <th>0</th>\n",
       "      <td>9304.6</td>\n",
       "      <td>33110.0</td>\n",
       "      <td>-377.9</td>\n",
       "    </tr>\n",
       "    <tr>\n",
       "      <th>100</th>\n",
       "      <td>9233.6</td>\n",
       "      <td>33468.0</td>\n",
       "      <td>-490.1</td>\n",
       "    </tr>\n",
       "    <tr>\n",
       "      <th>200</th>\n",
       "      <td>9155.4</td>\n",
       "      <td>33866.0</td>\n",
       "      <td>-579.0</td>\n",
       "    </tr>\n",
       "    <tr>\n",
       "      <th>300</th>\n",
       "      <td>9081.5</td>\n",
       "      <td>34208.0</td>\n",
       "      <td>-659.3</td>\n",
       "    </tr>\n",
       "    <tr>\n",
       "      <th>400</th>\n",
       "      <td>9010.6</td>\n",
       "      <td>34488.0</td>\n",
       "      <td>-675.2</td>\n",
       "    </tr>\n",
       "    <tr>\n",
       "      <th>500</th>\n",
       "      <td>8944.1</td>\n",
       "      <td>34719.0</td>\n",
       "      <td>-704.4</td>\n",
       "    </tr>\n",
       "    <tr>\n",
       "      <th>600</th>\n",
       "      <td>8890.3</td>\n",
       "      <td>34913.0</td>\n",
       "      <td>-708.8</td>\n",
       "    </tr>\n",
       "    <tr>\n",
       "      <th>700</th>\n",
       "      <td>8838.4</td>\n",
       "      <td>35077.0</td>\n",
       "      <td>-712.1</td>\n",
       "    </tr>\n",
       "    <tr>\n",
       "      <th>800</th>\n",
       "      <td>8793.0</td>\n",
       "      <td>35191.0</td>\n",
       "      <td>-719.8</td>\n",
       "    </tr>\n",
       "    <tr>\n",
       "      <th>900</th>\n",
       "      <td>8760.7</td>\n",
       "      <td>35271.0</td>\n",
       "      <td>-502.4</td>\n",
       "    </tr>\n",
       "    <tr>\n",
       "      <th>1000</th>\n",
       "      <td>8977.1</td>\n",
       "      <td>34969.0</td>\n",
       "      <td>24679.6</td>\n",
       "    </tr>\n",
       "    <tr>\n",
       "      <th>1100</th>\n",
       "      <td>9675.0</td>\n",
       "      <td>32515.0</td>\n",
       "      <td>144584.4</td>\n",
       "    </tr>\n",
       "    <tr>\n",
       "      <th>1200</th>\n",
       "      <td>10427.3</td>\n",
       "      <td>29282.0</td>\n",
       "      <td>388817.6</td>\n",
       "    </tr>\n",
       "    <tr>\n",
       "      <th>1300</th>\n",
       "      <td>10904.9</td>\n",
       "      <td>27052.0</td>\n",
       "      <td>584205.3</td>\n",
       "    </tr>\n",
       "    <tr>\n",
       "      <th>1400</th>\n",
       "      <td>11207.3</td>\n",
       "      <td>25748.0</td>\n",
       "      <td>738402.9</td>\n",
       "    </tr>\n",
       "    <tr>\n",
       "      <th>1500</th>\n",
       "      <td>11383.1</td>\n",
       "      <td>25138.0</td>\n",
       "      <td>811184.2</td>\n",
       "    </tr>\n",
       "    <tr>\n",
       "      <th>1600</th>\n",
       "      <td>11395.9</td>\n",
       "      <td>24971.0</td>\n",
       "      <td>837467.2</td>\n",
       "    </tr>\n",
       "    <tr>\n",
       "      <th>1700</th>\n",
       "      <td>11202.1</td>\n",
       "      <td>25760.0</td>\n",
       "      <td>720336.4</td>\n",
       "    </tr>\n",
       "    <tr>\n",
       "      <th>1800</th>\n",
       "      <td>10807.5</td>\n",
       "      <td>27405.0</td>\n",
       "      <td>535430.8</td>\n",
       "    </tr>\n",
       "    <tr>\n",
       "      <th>1900</th>\n",
       "      <td>10480.8</td>\n",
       "      <td>28579.0</td>\n",
       "      <td>349542.9</td>\n",
       "    </tr>\n",
       "    <tr>\n",
       "      <th>2000</th>\n",
       "      <td>10209.6</td>\n",
       "      <td>29515.0</td>\n",
       "      <td>199961.3</td>\n",
       "    </tr>\n",
       "    <tr>\n",
       "      <th>2100</th>\n",
       "      <td>9809.3</td>\n",
       "      <td>30963.0</td>\n",
       "      <td>63696.5</td>\n",
       "    </tr>\n",
       "    <tr>\n",
       "      <th>2200</th>\n",
       "      <td>9525.9</td>\n",
       "      <td>32255.0</td>\n",
       "      <td>3926.5</td>\n",
       "    </tr>\n",
       "    <tr>\n",
       "      <th>2300</th>\n",
       "      <td>9386.7</td>\n",
       "      <td>32756.0</td>\n",
       "      <td>-132.8</td>\n",
       "    </tr>\n",
       "  </tbody>\n",
       "</table>\n",
       "</div>"
      ],
      "text/plain": [
       "         TEMPERATURA  UMIDADE  RADIACAO\n",
       "HORARIO                                \n",
       "0             9304.6  33110.0    -377.9\n",
       "100           9233.6  33468.0    -490.1\n",
       "200           9155.4  33866.0    -579.0\n",
       "300           9081.5  34208.0    -659.3\n",
       "400           9010.6  34488.0    -675.2\n",
       "500           8944.1  34719.0    -704.4\n",
       "600           8890.3  34913.0    -708.8\n",
       "700           8838.4  35077.0    -712.1\n",
       "800           8793.0  35191.0    -719.8\n",
       "900           8760.7  35271.0    -502.4\n",
       "1000          8977.1  34969.0   24679.6\n",
       "1100          9675.0  32515.0  144584.4\n",
       "1200         10427.3  29282.0  388817.6\n",
       "1300         10904.9  27052.0  584205.3\n",
       "1400         11207.3  25748.0  738402.9\n",
       "1500         11383.1  25138.0  811184.2\n",
       "1600         11395.9  24971.0  837467.2\n",
       "1700         11202.1  25760.0  720336.4\n",
       "1800         10807.5  27405.0  535430.8\n",
       "1900         10480.8  28579.0  349542.9\n",
       "2000         10209.6  29515.0  199961.3\n",
       "2100          9809.3  30963.0   63696.5\n",
       "2200          9525.9  32255.0    3926.5\n",
       "2300          9386.7  32756.0    -132.8"
      ]
     },
     "execution_count": 17,
     "metadata": {},
     "output_type": "execute_result"
    }
   ],
   "source": [
    "dados.groupby(dados.HORARIO).sum()"
   ]
  },
  {
   "cell_type": "code",
   "execution_count": 18,
   "metadata": {
    "colab": {
     "base_uri": "https://localhost:8080/",
     "height": 424
    },
    "executionInfo": {
     "elapsed": 17,
     "status": "ok",
     "timestamp": 1654775307038,
     "user": {
      "displayName": "Prince Nyarko",
      "userId": "02482838485601494345"
     },
     "user_tz": 180
    },
    "id": "0tYYu9jyGBVL",
    "outputId": "c0fc82e8-3a64-4c06-b336-eac10231294a"
   },
   "outputs": [
    {
     "data": {
      "text/html": [
       "<div>\n",
       "<style scoped>\n",
       "    .dataframe tbody tr th:only-of-type {\n",
       "        vertical-align: middle;\n",
       "    }\n",
       "\n",
       "    .dataframe tbody tr th {\n",
       "        vertical-align: top;\n",
       "    }\n",
       "\n",
       "    .dataframe thead th {\n",
       "        text-align: right;\n",
       "    }\n",
       "</style>\n",
       "<table border=\"1\" class=\"dataframe\">\n",
       "  <thead>\n",
       "    <tr style=\"text-align: right;\">\n",
       "      <th></th>\n",
       "      <th>DATA</th>\n",
       "      <th>HORARIO</th>\n",
       "      <th>TEMPERATURA</th>\n",
       "      <th>UMIDADE</th>\n",
       "      <th>RADIACAO</th>\n",
       "    </tr>\n",
       "  </thead>\n",
       "  <tbody>\n",
       "    <tr>\n",
       "      <th>0</th>\n",
       "      <td>2021-06-07</td>\n",
       "      <td>0</td>\n",
       "      <td>27.1</td>\n",
       "      <td>80.0</td>\n",
       "      <td>-0.5</td>\n",
       "    </tr>\n",
       "    <tr>\n",
       "      <th>1</th>\n",
       "      <td>2021-06-07</td>\n",
       "      <td>100</td>\n",
       "      <td>26.8</td>\n",
       "      <td>83.0</td>\n",
       "      <td>-1.2</td>\n",
       "    </tr>\n",
       "    <tr>\n",
       "      <th>2</th>\n",
       "      <td>2021-06-07</td>\n",
       "      <td>200</td>\n",
       "      <td>25.8</td>\n",
       "      <td>96.0</td>\n",
       "      <td>-0.7</td>\n",
       "    </tr>\n",
       "    <tr>\n",
       "      <th>3</th>\n",
       "      <td>2021-06-07</td>\n",
       "      <td>300</td>\n",
       "      <td>25.4</td>\n",
       "      <td>95.0</td>\n",
       "      <td>-2.0</td>\n",
       "    </tr>\n",
       "    <tr>\n",
       "      <th>4</th>\n",
       "      <td>2021-06-07</td>\n",
       "      <td>400</td>\n",
       "      <td>25.2</td>\n",
       "      <td>98.0</td>\n",
       "      <td>0.9</td>\n",
       "    </tr>\n",
       "    <tr>\n",
       "      <th>...</th>\n",
       "      <td>...</td>\n",
       "      <td>...</td>\n",
       "      <td>...</td>\n",
       "      <td>...</td>\n",
       "      <td>...</td>\n",
       "    </tr>\n",
       "    <tr>\n",
       "      <th>8803</th>\n",
       "      <td>2022-06-08</td>\n",
       "      <td>1900</td>\n",
       "      <td>29.8</td>\n",
       "      <td>69.0</td>\n",
       "      <td>709.0</td>\n",
       "    </tr>\n",
       "    <tr>\n",
       "      <th>8804</th>\n",
       "      <td>2022-06-08</td>\n",
       "      <td>2000</td>\n",
       "      <td>26.4</td>\n",
       "      <td>88.0</td>\n",
       "      <td>158.4</td>\n",
       "    </tr>\n",
       "    <tr>\n",
       "      <th>8805</th>\n",
       "      <td>2022-06-08</td>\n",
       "      <td>2100</td>\n",
       "      <td>25.6</td>\n",
       "      <td>89.0</td>\n",
       "      <td>38.0</td>\n",
       "    </tr>\n",
       "    <tr>\n",
       "      <th>8806</th>\n",
       "      <td>2022-06-08</td>\n",
       "      <td>2200</td>\n",
       "      <td>25.6</td>\n",
       "      <td>91.0</td>\n",
       "      <td>2.6</td>\n",
       "    </tr>\n",
       "    <tr>\n",
       "      <th>8807</th>\n",
       "      <td>2022-06-08</td>\n",
       "      <td>2300</td>\n",
       "      <td>25.1</td>\n",
       "      <td>93.0</td>\n",
       "      <td>-2.5</td>\n",
       "    </tr>\n",
       "  </tbody>\n",
       "</table>\n",
       "<p>8808 rows × 5 columns</p>\n",
       "</div>"
      ],
      "text/plain": [
       "            DATA  HORARIO  TEMPERATURA  UMIDADE  RADIACAO\n",
       "0     2021-06-07        0         27.1     80.0      -0.5\n",
       "1     2021-06-07      100         26.8     83.0      -1.2\n",
       "2     2021-06-07      200         25.8     96.0      -0.7\n",
       "3     2021-06-07      300         25.4     95.0      -2.0\n",
       "4     2021-06-07      400         25.2     98.0       0.9\n",
       "...          ...      ...          ...      ...       ...\n",
       "8803  2022-06-08     1900         29.8     69.0     709.0\n",
       "8804  2022-06-08     2000         26.4     88.0     158.4\n",
       "8805  2022-06-08     2100         25.6     89.0      38.0\n",
       "8806  2022-06-08     2200         25.6     91.0       2.6\n",
       "8807  2022-06-08     2300         25.1     93.0      -2.5\n",
       "\n",
       "[8808 rows x 5 columns]"
      ]
     },
     "execution_count": 18,
     "metadata": {},
     "output_type": "execute_result"
    }
   ],
   "source": [
    "dados"
   ]
  },
  {
   "cell_type": "markdown",
   "metadata": {
    "id": "PStacdIUGBVM"
   },
   "source": [
    "### Criando novos colunas para Temperatura da amahão, Umidade da amahão e Radiação da amahão na tabla "
   ]
  },
  {
   "cell_type": "code",
   "execution_count": 19,
   "metadata": {
    "executionInfo": {
     "elapsed": 17,
     "status": "ok",
     "timestamp": 1654775307039,
     "user": {
      "displayName": "Prince Nyarko",
      "userId": "02482838485601494345"
     },
     "user_tz": 180
    },
    "id": "2kY8fSWpGBVM"
   },
   "outputs": [],
   "source": [
    "dados['TEMP_AMANHAO'] = dados.shift(-1)['TEMPERATURA']\n",
    "dados['TEMP_MES_MIX'] = dados['TEMPERATURA'].rolling(30).mean()"
   ]
  },
  {
   "cell_type": "code",
   "execution_count": 20,
   "metadata": {
    "executionInfo": {
     "elapsed": 17,
     "status": "ok",
     "timestamp": 1654775307039,
     "user": {
      "displayName": "Prince Nyarko",
      "userId": "02482838485601494345"
     },
     "user_tz": 180
    },
    "id": "4LgQDjizGBVM"
   },
   "outputs": [],
   "source": [
    "dados['UMID_AMANHAO'] = dados.shift(-1)['UMIDADE']\n",
    "dados['UMID_MES_MIX'] = dados['UMIDADE'].rolling(30).mean()"
   ]
  },
  {
   "cell_type": "code",
   "execution_count": 21,
   "metadata": {
    "executionInfo": {
     "elapsed": 18,
     "status": "ok",
     "timestamp": 1654775307040,
     "user": {
      "displayName": "Prince Nyarko",
      "userId": "02482838485601494345"
     },
     "user_tz": 180
    },
    "id": "llGtCd4mGBVM"
   },
   "outputs": [],
   "source": [
    "dados['RADI_AMANHAO'] = dados.shift(-1)['RADIACAO']\n",
    "dados['RADI_MES_MIX'] = dados['RADIACAO'].rolling(30).mean()"
   ]
  },
  {
   "cell_type": "code",
   "execution_count": 22,
   "metadata": {
    "executionInfo": {
     "elapsed": 18,
     "status": "ok",
     "timestamp": 1654775307040,
     "user": {
      "displayName": "Prince Nyarko",
      "userId": "02482838485601494345"
     },
     "user_tz": 180
    },
    "id": "SGOhjJLGX2BD"
   },
   "outputs": [],
   "source": [
    "dados['HORARIO_ATUAL'] = dados.shift(3)['HORARIO']\n"
   ]
  },
  {
   "cell_type": "code",
   "execution_count": 23,
   "metadata": {
    "colab": {
     "base_uri": "https://localhost:8080/",
     "height": 424
    },
    "executionInfo": {
     "elapsed": 18,
     "status": "ok",
     "timestamp": 1654775307040,
     "user": {
      "displayName": "Prince Nyarko",
      "userId": "02482838485601494345"
     },
     "user_tz": 180
    },
    "id": "wgunDlAjGBVM",
    "outputId": "2e9a3657-657e-4bf7-91c8-57015a2b8159"
   },
   "outputs": [
    {
     "data": {
      "text/html": [
       "<div>\n",
       "<style scoped>\n",
       "    .dataframe tbody tr th:only-of-type {\n",
       "        vertical-align: middle;\n",
       "    }\n",
       "\n",
       "    .dataframe tbody tr th {\n",
       "        vertical-align: top;\n",
       "    }\n",
       "\n",
       "    .dataframe thead th {\n",
       "        text-align: right;\n",
       "    }\n",
       "</style>\n",
       "<table border=\"1\" class=\"dataframe\">\n",
       "  <thead>\n",
       "    <tr style=\"text-align: right;\">\n",
       "      <th></th>\n",
       "      <th>DATA</th>\n",
       "      <th>HORARIO</th>\n",
       "      <th>TEMPERATURA</th>\n",
       "      <th>UMIDADE</th>\n",
       "      <th>RADIACAO</th>\n",
       "      <th>TEMP_AMANHAO</th>\n",
       "      <th>TEMP_MES_MIX</th>\n",
       "      <th>UMID_AMANHAO</th>\n",
       "      <th>UMID_MES_MIX</th>\n",
       "      <th>RADI_AMANHAO</th>\n",
       "      <th>RADI_MES_MIX</th>\n",
       "      <th>HORARIO_ATUAL</th>\n",
       "    </tr>\n",
       "  </thead>\n",
       "  <tbody>\n",
       "    <tr>\n",
       "      <th>0</th>\n",
       "      <td>2021-06-07</td>\n",
       "      <td>0</td>\n",
       "      <td>27.1</td>\n",
       "      <td>80.0</td>\n",
       "      <td>-0.5</td>\n",
       "      <td>26.8</td>\n",
       "      <td>NaN</td>\n",
       "      <td>83.0</td>\n",
       "      <td>NaN</td>\n",
       "      <td>-1.2</td>\n",
       "      <td>NaN</td>\n",
       "      <td>NaN</td>\n",
       "    </tr>\n",
       "    <tr>\n",
       "      <th>1</th>\n",
       "      <td>2021-06-07</td>\n",
       "      <td>100</td>\n",
       "      <td>26.8</td>\n",
       "      <td>83.0</td>\n",
       "      <td>-1.2</td>\n",
       "      <td>25.8</td>\n",
       "      <td>NaN</td>\n",
       "      <td>96.0</td>\n",
       "      <td>NaN</td>\n",
       "      <td>-0.7</td>\n",
       "      <td>NaN</td>\n",
       "      <td>NaN</td>\n",
       "    </tr>\n",
       "    <tr>\n",
       "      <th>2</th>\n",
       "      <td>2021-06-07</td>\n",
       "      <td>200</td>\n",
       "      <td>25.8</td>\n",
       "      <td>96.0</td>\n",
       "      <td>-0.7</td>\n",
       "      <td>25.4</td>\n",
       "      <td>NaN</td>\n",
       "      <td>95.0</td>\n",
       "      <td>NaN</td>\n",
       "      <td>-2.0</td>\n",
       "      <td>NaN</td>\n",
       "      <td>NaN</td>\n",
       "    </tr>\n",
       "    <tr>\n",
       "      <th>3</th>\n",
       "      <td>2021-06-07</td>\n",
       "      <td>300</td>\n",
       "      <td>25.4</td>\n",
       "      <td>95.0</td>\n",
       "      <td>-2.0</td>\n",
       "      <td>25.2</td>\n",
       "      <td>NaN</td>\n",
       "      <td>98.0</td>\n",
       "      <td>NaN</td>\n",
       "      <td>0.9</td>\n",
       "      <td>NaN</td>\n",
       "      <td>0.0</td>\n",
       "    </tr>\n",
       "    <tr>\n",
       "      <th>4</th>\n",
       "      <td>2021-06-07</td>\n",
       "      <td>400</td>\n",
       "      <td>25.2</td>\n",
       "      <td>98.0</td>\n",
       "      <td>0.9</td>\n",
       "      <td>25.0</td>\n",
       "      <td>NaN</td>\n",
       "      <td>98.0</td>\n",
       "      <td>NaN</td>\n",
       "      <td>-0.6</td>\n",
       "      <td>NaN</td>\n",
       "      <td>100.0</td>\n",
       "    </tr>\n",
       "    <tr>\n",
       "      <th>...</th>\n",
       "      <td>...</td>\n",
       "      <td>...</td>\n",
       "      <td>...</td>\n",
       "      <td>...</td>\n",
       "      <td>...</td>\n",
       "      <td>...</td>\n",
       "      <td>...</td>\n",
       "      <td>...</td>\n",
       "      <td>...</td>\n",
       "      <td>...</td>\n",
       "      <td>...</td>\n",
       "      <td>...</td>\n",
       "    </tr>\n",
       "    <tr>\n",
       "      <th>8803</th>\n",
       "      <td>2022-06-08</td>\n",
       "      <td>1900</td>\n",
       "      <td>29.8</td>\n",
       "      <td>69.0</td>\n",
       "      <td>709.0</td>\n",
       "      <td>26.4</td>\n",
       "      <td>26.960000</td>\n",
       "      <td>88.0</td>\n",
       "      <td>82.566667</td>\n",
       "      <td>158.4</td>\n",
       "      <td>967.646667</td>\n",
       "      <td>1600.0</td>\n",
       "    </tr>\n",
       "    <tr>\n",
       "      <th>8804</th>\n",
       "      <td>2022-06-08</td>\n",
       "      <td>2000</td>\n",
       "      <td>26.4</td>\n",
       "      <td>88.0</td>\n",
       "      <td>158.4</td>\n",
       "      <td>25.6</td>\n",
       "      <td>26.870000</td>\n",
       "      <td>89.0</td>\n",
       "      <td>83.033333</td>\n",
       "      <td>38.0</td>\n",
       "      <td>892.953333</td>\n",
       "      <td>1700.0</td>\n",
       "    </tr>\n",
       "    <tr>\n",
       "      <th>8805</th>\n",
       "      <td>2022-06-08</td>\n",
       "      <td>2100</td>\n",
       "      <td>25.6</td>\n",
       "      <td>89.0</td>\n",
       "      <td>38.0</td>\n",
       "      <td>25.6</td>\n",
       "      <td>26.700000</td>\n",
       "      <td>91.0</td>\n",
       "      <td>83.633333</td>\n",
       "      <td>2.6</td>\n",
       "      <td>798.586667</td>\n",
       "      <td>1800.0</td>\n",
       "    </tr>\n",
       "    <tr>\n",
       "      <th>8806</th>\n",
       "      <td>2022-06-08</td>\n",
       "      <td>2200</td>\n",
       "      <td>25.6</td>\n",
       "      <td>91.0</td>\n",
       "      <td>2.6</td>\n",
       "      <td>25.1</td>\n",
       "      <td>26.553333</td>\n",
       "      <td>93.0</td>\n",
       "      <td>84.166667</td>\n",
       "      <td>-2.5</td>\n",
       "      <td>706.776667</td>\n",
       "      <td>1900.0</td>\n",
       "    </tr>\n",
       "    <tr>\n",
       "      <th>8807</th>\n",
       "      <td>2022-06-08</td>\n",
       "      <td>2300</td>\n",
       "      <td>25.1</td>\n",
       "      <td>93.0</td>\n",
       "      <td>-2.5</td>\n",
       "      <td>NaN</td>\n",
       "      <td>26.393333</td>\n",
       "      <td>NaN</td>\n",
       "      <td>84.833333</td>\n",
       "      <td>NaN</td>\n",
       "      <td>604.233333</td>\n",
       "      <td>2000.0</td>\n",
       "    </tr>\n",
       "  </tbody>\n",
       "</table>\n",
       "<p>8808 rows × 12 columns</p>\n",
       "</div>"
      ],
      "text/plain": [
       "            DATA  HORARIO  TEMPERATURA  UMIDADE  RADIACAO  TEMP_AMANHAO  \\\n",
       "0     2021-06-07        0         27.1     80.0      -0.5          26.8   \n",
       "1     2021-06-07      100         26.8     83.0      -1.2          25.8   \n",
       "2     2021-06-07      200         25.8     96.0      -0.7          25.4   \n",
       "3     2021-06-07      300         25.4     95.0      -2.0          25.2   \n",
       "4     2021-06-07      400         25.2     98.0       0.9          25.0   \n",
       "...          ...      ...          ...      ...       ...           ...   \n",
       "8803  2022-06-08     1900         29.8     69.0     709.0          26.4   \n",
       "8804  2022-06-08     2000         26.4     88.0     158.4          25.6   \n",
       "8805  2022-06-08     2100         25.6     89.0      38.0          25.6   \n",
       "8806  2022-06-08     2200         25.6     91.0       2.6          25.1   \n",
       "8807  2022-06-08     2300         25.1     93.0      -2.5           NaN   \n",
       "\n",
       "      TEMP_MES_MIX  UMID_AMANHAO  UMID_MES_MIX  RADI_AMANHAO  RADI_MES_MIX  \\\n",
       "0              NaN          83.0           NaN          -1.2           NaN   \n",
       "1              NaN          96.0           NaN          -0.7           NaN   \n",
       "2              NaN          95.0           NaN          -2.0           NaN   \n",
       "3              NaN          98.0           NaN           0.9           NaN   \n",
       "4              NaN          98.0           NaN          -0.6           NaN   \n",
       "...            ...           ...           ...           ...           ...   \n",
       "8803     26.960000          88.0     82.566667         158.4    967.646667   \n",
       "8804     26.870000          89.0     83.033333          38.0    892.953333   \n",
       "8805     26.700000          91.0     83.633333           2.6    798.586667   \n",
       "8806     26.553333          93.0     84.166667          -2.5    706.776667   \n",
       "8807     26.393333           NaN     84.833333           NaN    604.233333   \n",
       "\n",
       "      HORARIO_ATUAL  \n",
       "0               NaN  \n",
       "1               NaN  \n",
       "2               NaN  \n",
       "3               0.0  \n",
       "4             100.0  \n",
       "...             ...  \n",
       "8803         1600.0  \n",
       "8804         1700.0  \n",
       "8805         1800.0  \n",
       "8806         1900.0  \n",
       "8807         2000.0  \n",
       "\n",
       "[8808 rows x 12 columns]"
      ]
     },
     "execution_count": 23,
     "metadata": {},
     "output_type": "execute_result"
    }
   ],
   "source": [
    "dados"
   ]
  },
  {
   "cell_type": "markdown",
   "metadata": {
    "id": "9CA4tOJeGBVN"
   },
   "source": [
    "### Deletando NULL"
   ]
  },
  {
   "cell_type": "code",
   "execution_count": 24,
   "metadata": {
    "executionInfo": {
     "elapsed": 17,
     "status": "ok",
     "timestamp": 1654775307040,
     "user": {
      "displayName": "Prince Nyarko",
      "userId": "02482838485601494345"
     },
     "user_tz": 180
    },
    "id": "ku9T8-afGBVN"
   },
   "outputs": [],
   "source": [
    "dados = dados.iloc[33:,:].copy()\n",
    "dados = dados.iloc[:-1, :].copy()"
   ]
  },
  {
   "cell_type": "code",
   "execution_count": 25,
   "metadata": {
    "colab": {
     "base_uri": "https://localhost:8080/",
     "height": 424
    },
    "executionInfo": {
     "elapsed": 18,
     "status": "ok",
     "timestamp": 1654775307041,
     "user": {
      "displayName": "Prince Nyarko",
      "userId": "02482838485601494345"
     },
     "user_tz": 180
    },
    "id": "bFWE9IQVGBVN",
    "outputId": "44b92b35-1f7a-4cea-dcfe-a4c3545dafcf"
   },
   "outputs": [
    {
     "data": {
      "text/html": [
       "<div>\n",
       "<style scoped>\n",
       "    .dataframe tbody tr th:only-of-type {\n",
       "        vertical-align: middle;\n",
       "    }\n",
       "\n",
       "    .dataframe tbody tr th {\n",
       "        vertical-align: top;\n",
       "    }\n",
       "\n",
       "    .dataframe thead th {\n",
       "        text-align: right;\n",
       "    }\n",
       "</style>\n",
       "<table border=\"1\" class=\"dataframe\">\n",
       "  <thead>\n",
       "    <tr style=\"text-align: right;\">\n",
       "      <th></th>\n",
       "      <th>DATA</th>\n",
       "      <th>HORARIO</th>\n",
       "      <th>TEMPERATURA</th>\n",
       "      <th>UMIDADE</th>\n",
       "      <th>RADIACAO</th>\n",
       "      <th>TEMP_AMANHAO</th>\n",
       "      <th>TEMP_MES_MIX</th>\n",
       "      <th>UMID_AMANHAO</th>\n",
       "      <th>UMID_MES_MIX</th>\n",
       "      <th>RADI_AMANHAO</th>\n",
       "      <th>RADI_MES_MIX</th>\n",
       "      <th>HORARIO_ATUAL</th>\n",
       "    </tr>\n",
       "  </thead>\n",
       "  <tbody>\n",
       "    <tr>\n",
       "      <th>33</th>\n",
       "      <td>2021-06-08</td>\n",
       "      <td>900</td>\n",
       "      <td>24.8</td>\n",
       "      <td>95.0</td>\n",
       "      <td>-1.0</td>\n",
       "      <td>25.4</td>\n",
       "      <td>27.163333</td>\n",
       "      <td>96.0</td>\n",
       "      <td>84.133333</td>\n",
       "      <td>44.5</td>\n",
       "      <td>521.776667</td>\n",
       "      <td>600.0</td>\n",
       "    </tr>\n",
       "    <tr>\n",
       "      <th>34</th>\n",
       "      <td>2021-06-08</td>\n",
       "      <td>1000</td>\n",
       "      <td>25.4</td>\n",
       "      <td>96.0</td>\n",
       "      <td>44.5</td>\n",
       "      <td>26.8</td>\n",
       "      <td>27.170000</td>\n",
       "      <td>92.0</td>\n",
       "      <td>84.066667</td>\n",
       "      <td>288.4</td>\n",
       "      <td>523.230000</td>\n",
       "      <td>700.0</td>\n",
       "    </tr>\n",
       "    <tr>\n",
       "      <th>35</th>\n",
       "      <td>2021-06-08</td>\n",
       "      <td>1100</td>\n",
       "      <td>26.8</td>\n",
       "      <td>92.0</td>\n",
       "      <td>288.4</td>\n",
       "      <td>28.2</td>\n",
       "      <td>27.230000</td>\n",
       "      <td>79.0</td>\n",
       "      <td>83.866667</td>\n",
       "      <td>683.8</td>\n",
       "      <td>532.863333</td>\n",
       "      <td>800.0</td>\n",
       "    </tr>\n",
       "    <tr>\n",
       "      <th>36</th>\n",
       "      <td>2021-06-08</td>\n",
       "      <td>1200</td>\n",
       "      <td>28.2</td>\n",
       "      <td>79.0</td>\n",
       "      <td>683.8</td>\n",
       "      <td>31.4</td>\n",
       "      <td>27.340000</td>\n",
       "      <td>65.0</td>\n",
       "      <td>83.233333</td>\n",
       "      <td>1854.4</td>\n",
       "      <td>555.686667</td>\n",
       "      <td>900.0</td>\n",
       "    </tr>\n",
       "    <tr>\n",
       "      <th>37</th>\n",
       "      <td>2021-06-08</td>\n",
       "      <td>1300</td>\n",
       "      <td>31.4</td>\n",
       "      <td>65.0</td>\n",
       "      <td>1854.4</td>\n",
       "      <td>32.6</td>\n",
       "      <td>27.563333</td>\n",
       "      <td>61.0</td>\n",
       "      <td>82.100000</td>\n",
       "      <td>1812.4</td>\n",
       "      <td>617.553333</td>\n",
       "      <td>1000.0</td>\n",
       "    </tr>\n",
       "    <tr>\n",
       "      <th>...</th>\n",
       "      <td>...</td>\n",
       "      <td>...</td>\n",
       "      <td>...</td>\n",
       "      <td>...</td>\n",
       "      <td>...</td>\n",
       "      <td>...</td>\n",
       "      <td>...</td>\n",
       "      <td>...</td>\n",
       "      <td>...</td>\n",
       "      <td>...</td>\n",
       "      <td>...</td>\n",
       "      <td>...</td>\n",
       "    </tr>\n",
       "    <tr>\n",
       "      <th>8802</th>\n",
       "      <td>2022-06-08</td>\n",
       "      <td>1800</td>\n",
       "      <td>32.2</td>\n",
       "      <td>58.0</td>\n",
       "      <td>2455.7</td>\n",
       "      <td>29.8</td>\n",
       "      <td>26.933333</td>\n",
       "      <td>69.0</td>\n",
       "      <td>82.666667</td>\n",
       "      <td>709.0</td>\n",
       "      <td>1012.166667</td>\n",
       "      <td>1500.0</td>\n",
       "    </tr>\n",
       "    <tr>\n",
       "      <th>8803</th>\n",
       "      <td>2022-06-08</td>\n",
       "      <td>1900</td>\n",
       "      <td>29.8</td>\n",
       "      <td>69.0</td>\n",
       "      <td>709.0</td>\n",
       "      <td>26.4</td>\n",
       "      <td>26.960000</td>\n",
       "      <td>88.0</td>\n",
       "      <td>82.566667</td>\n",
       "      <td>158.4</td>\n",
       "      <td>967.646667</td>\n",
       "      <td>1600.0</td>\n",
       "    </tr>\n",
       "    <tr>\n",
       "      <th>8804</th>\n",
       "      <td>2022-06-08</td>\n",
       "      <td>2000</td>\n",
       "      <td>26.4</td>\n",
       "      <td>88.0</td>\n",
       "      <td>158.4</td>\n",
       "      <td>25.6</td>\n",
       "      <td>26.870000</td>\n",
       "      <td>89.0</td>\n",
       "      <td>83.033333</td>\n",
       "      <td>38.0</td>\n",
       "      <td>892.953333</td>\n",
       "      <td>1700.0</td>\n",
       "    </tr>\n",
       "    <tr>\n",
       "      <th>8805</th>\n",
       "      <td>2022-06-08</td>\n",
       "      <td>2100</td>\n",
       "      <td>25.6</td>\n",
       "      <td>89.0</td>\n",
       "      <td>38.0</td>\n",
       "      <td>25.6</td>\n",
       "      <td>26.700000</td>\n",
       "      <td>91.0</td>\n",
       "      <td>83.633333</td>\n",
       "      <td>2.6</td>\n",
       "      <td>798.586667</td>\n",
       "      <td>1800.0</td>\n",
       "    </tr>\n",
       "    <tr>\n",
       "      <th>8806</th>\n",
       "      <td>2022-06-08</td>\n",
       "      <td>2200</td>\n",
       "      <td>25.6</td>\n",
       "      <td>91.0</td>\n",
       "      <td>2.6</td>\n",
       "      <td>25.1</td>\n",
       "      <td>26.553333</td>\n",
       "      <td>93.0</td>\n",
       "      <td>84.166667</td>\n",
       "      <td>-2.5</td>\n",
       "      <td>706.776667</td>\n",
       "      <td>1900.0</td>\n",
       "    </tr>\n",
       "  </tbody>\n",
       "</table>\n",
       "<p>8774 rows × 12 columns</p>\n",
       "</div>"
      ],
      "text/plain": [
       "            DATA  HORARIO  TEMPERATURA  UMIDADE  RADIACAO  TEMP_AMANHAO  \\\n",
       "33    2021-06-08      900         24.8     95.0      -1.0          25.4   \n",
       "34    2021-06-08     1000         25.4     96.0      44.5          26.8   \n",
       "35    2021-06-08     1100         26.8     92.0     288.4          28.2   \n",
       "36    2021-06-08     1200         28.2     79.0     683.8          31.4   \n",
       "37    2021-06-08     1300         31.4     65.0    1854.4          32.6   \n",
       "...          ...      ...          ...      ...       ...           ...   \n",
       "8802  2022-06-08     1800         32.2     58.0    2455.7          29.8   \n",
       "8803  2022-06-08     1900         29.8     69.0     709.0          26.4   \n",
       "8804  2022-06-08     2000         26.4     88.0     158.4          25.6   \n",
       "8805  2022-06-08     2100         25.6     89.0      38.0          25.6   \n",
       "8806  2022-06-08     2200         25.6     91.0       2.6          25.1   \n",
       "\n",
       "      TEMP_MES_MIX  UMID_AMANHAO  UMID_MES_MIX  RADI_AMANHAO  RADI_MES_MIX  \\\n",
       "33       27.163333          96.0     84.133333          44.5    521.776667   \n",
       "34       27.170000          92.0     84.066667         288.4    523.230000   \n",
       "35       27.230000          79.0     83.866667         683.8    532.863333   \n",
       "36       27.340000          65.0     83.233333        1854.4    555.686667   \n",
       "37       27.563333          61.0     82.100000        1812.4    617.553333   \n",
       "...            ...           ...           ...           ...           ...   \n",
       "8802     26.933333          69.0     82.666667         709.0   1012.166667   \n",
       "8803     26.960000          88.0     82.566667         158.4    967.646667   \n",
       "8804     26.870000          89.0     83.033333          38.0    892.953333   \n",
       "8805     26.700000          91.0     83.633333           2.6    798.586667   \n",
       "8806     26.553333          93.0     84.166667          -2.5    706.776667   \n",
       "\n",
       "      HORARIO_ATUAL  \n",
       "33            600.0  \n",
       "34            700.0  \n",
       "35            800.0  \n",
       "36            900.0  \n",
       "37           1000.0  \n",
       "...             ...  \n",
       "8802         1500.0  \n",
       "8803         1600.0  \n",
       "8804         1700.0  \n",
       "8805         1800.0  \n",
       "8806         1900.0  \n",
       "\n",
       "[8774 rows x 12 columns]"
      ]
     },
     "execution_count": 25,
     "metadata": {},
     "output_type": "execute_result"
    }
   ],
   "source": [
    "dados"
   ]
  },
  {
   "cell_type": "code",
   "execution_count": 26,
   "metadata": {
    "executionInfo": {
     "elapsed": 347,
     "status": "ok",
     "timestamp": 1654775307371,
     "user": {
      "displayName": "Prince Nyarko",
      "userId": "02482838485601494345"
     },
     "user_tz": 180
    },
    "id": "45CS9uKjGBVN"
   },
   "outputs": [],
   "source": [
    "from sklearn.linear_model import Ridge\n",
    "reg = Ridge(alpha=2, solver='auto', fit_intercept=True, max_iter=None, tol=0.001, copy_X=True)"
   ]
  },
  {
   "cell_type": "code",
   "execution_count": 27,
   "metadata": {
    "executionInfo": {
     "elapsed": 8,
     "status": "ok",
     "timestamp": 1654775307371,
     "user": {
      "displayName": "Prince Nyarko",
      "userId": "02482838485601494345"
     },
     "user_tz": 180
    },
    "id": "Tu3XjxEWGBVN"
   },
   "outputs": [],
   "source": [
    "from sklearn.metrics import mean_absolute_percentage_error"
   ]
  },
  {
   "cell_type": "code",
   "execution_count": 28,
   "metadata": {
    "executionInfo": {
     "elapsed": 7,
     "status": "ok",
     "timestamp": 1654775307371,
     "user": {
      "displayName": "Prince Nyarko",
      "userId": "02482838485601494345"
     },
     "user_tz": 180
    },
    "id": "R1tcVH8yGBVO"
   },
   "outputs": [],
   "source": [
    "numerio_de_dados = len(dados)+9"
   ]
  },
  {
   "cell_type": "code",
   "execution_count": 29,
   "metadata": {
    "executionInfo": {
     "elapsed": 8,
     "status": "ok",
     "timestamp": 1654775307372,
     "user": {
      "displayName": "Prince Nyarko",
      "userId": "02482838485601494345"
     },
     "user_tz": 180
    },
    "id": "9NBaKyE-GBVO"
   },
   "outputs": [],
   "source": [
    "def criar_previsões_temp(preditores, dados, reg):\n",
    "    #numerio_de_dados = len(dados)-24\n",
    "    trinar = dados.loc[:numerio_de_dados]\n",
    "    teste = dados.loc[numerio_de_dados:]\n",
    "    reg.fit(trinar[preditores], trinar[\"TEMPERATURA\"])\n",
    "    preditores = reg.predict(teste[preditores])\n",
    "    erro = mean_absolute_percentage_error(teste[\"TEMPERATURA\"],preditores)\n",
    "    conjunto = pd.concat([teste['TEMPERATURA'], pd.Series(preditores, index=teste.index )], axis=1)\n",
    "    conjunto.columns = ['ATUAL_TEMPERATURA', 'PREVISOES_TEMPERATURA']\n",
    "    conjunto[['DATA','HORARIO']] = teste[['DATA','HORARIO_ATUAL']]\n",
    "    return erro, conjunto"
   ]
  },
  {
   "cell_type": "code",
   "execution_count": 30,
   "metadata": {
    "executionInfo": {
     "elapsed": 8,
     "status": "ok",
     "timestamp": 1654775307372,
     "user": {
      "displayName": "Prince Nyarko",
      "userId": "02482838485601494345"
     },
     "user_tz": 180
    },
    "id": "aJSXowLkGBVO"
   },
   "outputs": [],
   "source": [
    "def criar_previsões_umid(preditores, dados, reg):\n",
    "    trinar = dados.loc[:numerio_de_dados]\n",
    "    teste = dados.loc[numerio_de_dados:]\n",
    "    reg.fit(trinar[preditores], trinar[\"UMIDADE\"])\n",
    "    preditores = reg.predict(teste[preditores])\n",
    "    erro = mean_absolute_percentage_error(teste[\"UMIDADE\"],preditores)\n",
    "    conjunto = pd.concat([teste[\"UMIDADE\"], pd.Series(preditores, index=teste.index)], axis=1)\n",
    "    conjunto.columns = [\"ATUAL_UMIDADE\", \"PREVISOES_UMIDADE\"]\n",
    "    return erro, conjunto"
   ]
  },
  {
   "cell_type": "code",
   "execution_count": 31,
   "metadata": {
    "executionInfo": {
     "elapsed": 8,
     "status": "ok",
     "timestamp": 1654775307372,
     "user": {
      "displayName": "Prince Nyarko",
      "userId": "02482838485601494345"
     },
     "user_tz": 180
    },
    "id": "qWCLnasRGBVO"
   },
   "outputs": [],
   "source": [
    "def criar_previsões_radi(preditores, dados, reg):\n",
    "    trinar = dados.loc[:numerio_de_dados]\n",
    "    teste = dados.loc[numerio_de_dados:]\n",
    "    reg.fit(trinar[preditores], trinar[\"RADI_AMANHAO\"])\n",
    "    preditores = reg.predict(teste[preditores])\n",
    "    erro = mean_absolute_percentage_error(teste[\"RADI_AMANHAO\"],preditores)\n",
    "    conjunto = pd.concat([teste[\"RADI_AMANHAO\"], pd.Series(preditores, index=teste.index)], axis=1)\n",
    "    conjunto.columns = [\"ATUAL_RADIACAO\", \"PREVISOES_RADIACAO\"]\n",
    "    return erro, conjunto"
   ]
  },
  {
   "cell_type": "code",
   "execution_count": 32,
   "metadata": {
    "executionInfo": {
     "elapsed": 7,
     "status": "ok",
     "timestamp": 1654775307372,
     "user": {
      "displayName": "Prince Nyarko",
      "userId": "02482838485601494345"
     },
     "user_tz": 180
    },
    "id": "FCRJBTojGBVP"
   },
   "outputs": [],
   "source": [
    "preditores = ['HORARIO', 'TEMP_AMANHAO','UMID_AMANHAO', 'RADIACAO','TEMP_MES_MIX', 'UMID_MES_MIX','RADI_MES_MIX']"
   ]
  },
  {
   "cell_type": "code",
   "execution_count": 33,
   "metadata": {
    "executionInfo": {
     "elapsed": 8,
     "status": "ok",
     "timestamp": 1654775307373,
     "user": {
      "displayName": "Prince Nyarko",
      "userId": "02482838485601494345"
     },
     "user_tz": 180
    },
    "id": "cp_6Zu89GBVP"
   },
   "outputs": [],
   "source": [
    "temp_erro, temp_prevesao = criar_previsões_temp(preditores, dados, reg)"
   ]
  },
  {
   "cell_type": "code",
   "execution_count": 34,
   "metadata": {
    "executionInfo": {
     "elapsed": 8,
     "status": "ok",
     "timestamp": 1654775307373,
     "user": {
      "displayName": "Prince Nyarko",
      "userId": "02482838485601494345"
     },
     "user_tz": 180
    },
    "id": "dHQF9W59GBVP"
   },
   "outputs": [],
   "source": [
    "umid_erro, umid_prevesao = criar_previsões_umid(preditores, dados, reg)"
   ]
  },
  {
   "cell_type": "code",
   "execution_count": 35,
   "metadata": {
    "executionInfo": {
     "elapsed": 8,
     "status": "ok",
     "timestamp": 1654775307373,
     "user": {
      "displayName": "Prince Nyarko",
      "userId": "02482838485601494345"
     },
     "user_tz": 180
    },
    "id": "ImsKWHWBGBVP"
   },
   "outputs": [],
   "source": [
    "radi_erro, radi_prevesao = criar_previsões_radi(preditores, dados, reg)"
   ]
  },
  {
   "cell_type": "code",
   "execution_count": 36,
   "metadata": {
    "executionInfo": {
     "elapsed": 8,
     "status": "ok",
     "timestamp": 1654775307373,
     "user": {
      "displayName": "Prince Nyarko",
      "userId": "02482838485601494345"
     },
     "user_tz": 180
    },
    "id": "H1_pyNa3GBVP"
   },
   "outputs": [],
   "source": [
    "previsoes_dados = temp_prevesao"
   ]
  },
  {
   "cell_type": "code",
   "execution_count": 37,
   "metadata": {
    "executionInfo": {
     "elapsed": 8,
     "status": "ok",
     "timestamp": 1654775307374,
     "user": {
      "displayName": "Prince Nyarko",
      "userId": "02482838485601494345"
     },
     "user_tz": 180
    },
    "id": "WPi-qQrmGBVQ"
   },
   "outputs": [],
   "source": [
    "previsoes_dados[[\"ATUAL_UMIDADE\", \"PREVISOES_UMIDADE\"]] = umid_prevesao[[\"ATUAL_UMIDADE\", \"PREVISOES_UMIDADE\"]]"
   ]
  },
  {
   "cell_type": "code",
   "execution_count": 38,
   "metadata": {
    "executionInfo": {
     "elapsed": 8,
     "status": "ok",
     "timestamp": 1654775307374,
     "user": {
      "displayName": "Prince Nyarko",
      "userId": "02482838485601494345"
     },
     "user_tz": 180
    },
    "id": "lo5yQExXKicD"
   },
   "outputs": [],
   "source": [
    "previsoes_dados[[\"ATUAL_RADIACAO\", \"PREVISOES_RADIACAO\"]] = radi_prevesao[[\"ATUAL_RADIACAO\", \"PREVISOES_RADIACAO\"]]"
   ]
  },
  {
   "cell_type": "code",
   "execution_count": 39,
   "metadata": {
    "executionInfo": {
     "elapsed": 486,
     "status": "ok",
     "timestamp": 1654775307852,
     "user": {
      "displayName": "Prince Nyarko",
      "userId": "02482838485601494345"
     },
     "user_tz": 180
    },
    "id": "GVOuLqqAGBVQ"
   },
   "outputs": [],
   "source": [
    "previsoes_dados = previsoes_dados[['DATA','HORARIO','ATUAL_TEMPERATURA','PREVISOES_TEMPERATURA','ATUAL_UMIDADE','PREVISOES_UMIDADE','ATUAL_RADIACAO','PREVISOES_RADIACAO']]"
   ]
  },
  {
   "cell_type": "code",
   "execution_count": 40,
   "metadata": {
    "colab": {
     "base_uri": "https://localhost:8080/",
     "height": 802
    },
    "executionInfo": {
     "elapsed": 45,
     "status": "ok",
     "timestamp": 1654775307853,
     "user": {
      "displayName": "Prince Nyarko",
      "userId": "02482838485601494345"
     },
     "user_tz": 180
    },
    "id": "iu58xjggMEbO",
    "outputId": "34edd404-9c98-4268-b813-cb91a26eb6b3"
   },
   "outputs": [
    {
     "data": {
      "text/html": [
       "<div>\n",
       "<style scoped>\n",
       "    .dataframe tbody tr th:only-of-type {\n",
       "        vertical-align: middle;\n",
       "    }\n",
       "\n",
       "    .dataframe tbody tr th {\n",
       "        vertical-align: top;\n",
       "    }\n",
       "\n",
       "    .dataframe thead th {\n",
       "        text-align: right;\n",
       "    }\n",
       "</style>\n",
       "<table border=\"1\" class=\"dataframe\">\n",
       "  <thead>\n",
       "    <tr style=\"text-align: right;\">\n",
       "      <th></th>\n",
       "      <th>DATA</th>\n",
       "      <th>HORARIO</th>\n",
       "      <th>ATUAL_TEMPERATURA</th>\n",
       "      <th>PREVISOES_TEMPERATURA</th>\n",
       "      <th>ATUAL_UMIDADE</th>\n",
       "      <th>PREVISOES_UMIDADE</th>\n",
       "      <th>ATUAL_RADIACAO</th>\n",
       "      <th>PREVISOES_RADIACAO</th>\n",
       "    </tr>\n",
       "  </thead>\n",
       "  <tbody>\n",
       "    <tr>\n",
       "      <th>8783</th>\n",
       "      <td>2022-06-07</td>\n",
       "      <td>2000.0</td>\n",
       "      <td>25.3</td>\n",
       "      <td>25.301482</td>\n",
       "      <td>85.0</td>\n",
       "      <td>87.997905</td>\n",
       "      <td>-2.0</td>\n",
       "      <td>-144.845693</td>\n",
       "    </tr>\n",
       "    <tr>\n",
       "      <th>8784</th>\n",
       "      <td>2022-06-08</td>\n",
       "      <td>2100.0</td>\n",
       "      <td>24.8</td>\n",
       "      <td>24.485175</td>\n",
       "      <td>89.0</td>\n",
       "      <td>91.776454</td>\n",
       "      <td>-2.4</td>\n",
       "      <td>70.054121</td>\n",
       "    </tr>\n",
       "    <tr>\n",
       "      <th>8785</th>\n",
       "      <td>2022-06-08</td>\n",
       "      <td>2200.0</td>\n",
       "      <td>24.7</td>\n",
       "      <td>24.365322</td>\n",
       "      <td>90.0</td>\n",
       "      <td>92.281331</td>\n",
       "      <td>-2.4</td>\n",
       "      <td>116.604239</td>\n",
       "    </tr>\n",
       "    <tr>\n",
       "      <th>8786</th>\n",
       "      <td>2022-06-08</td>\n",
       "      <td>2300.0</td>\n",
       "      <td>24.7</td>\n",
       "      <td>24.184924</td>\n",
       "      <td>90.0</td>\n",
       "      <td>93.760331</td>\n",
       "      <td>-2.3</td>\n",
       "      <td>102.431875</td>\n",
       "    </tr>\n",
       "    <tr>\n",
       "      <th>8787</th>\n",
       "      <td>2022-06-08</td>\n",
       "      <td>0.0</td>\n",
       "      <td>24.5</td>\n",
       "      <td>23.950483</td>\n",
       "      <td>92.0</td>\n",
       "      <td>94.974652</td>\n",
       "      <td>-3.5</td>\n",
       "      <td>44.044907</td>\n",
       "    </tr>\n",
       "    <tr>\n",
       "      <th>8788</th>\n",
       "      <td>2022-06-08</td>\n",
       "      <td>100.0</td>\n",
       "      <td>24.1</td>\n",
       "      <td>23.856810</td>\n",
       "      <td>94.0</td>\n",
       "      <td>95.803993</td>\n",
       "      <td>-3.0</td>\n",
       "      <td>-26.223007</td>\n",
       "    </tr>\n",
       "    <tr>\n",
       "      <th>8789</th>\n",
       "      <td>2022-06-08</td>\n",
       "      <td>200.0</td>\n",
       "      <td>23.8</td>\n",
       "      <td>23.798535</td>\n",
       "      <td>96.0</td>\n",
       "      <td>96.121523</td>\n",
       "      <td>-2.3</td>\n",
       "      <td>-71.485088</td>\n",
       "    </tr>\n",
       "    <tr>\n",
       "      <th>8790</th>\n",
       "      <td>2022-06-08</td>\n",
       "      <td>300.0</td>\n",
       "      <td>23.6</td>\n",
       "      <td>23.740576</td>\n",
       "      <td>97.0</td>\n",
       "      <td>96.437758</td>\n",
       "      <td>-2.2</td>\n",
       "      <td>-116.675041</td>\n",
       "    </tr>\n",
       "    <tr>\n",
       "      <th>8791</th>\n",
       "      <td>2022-06-08</td>\n",
       "      <td>400.0</td>\n",
       "      <td>23.4</td>\n",
       "      <td>23.684904</td>\n",
       "      <td>98.0</td>\n",
       "      <td>96.109362</td>\n",
       "      <td>-2.6</td>\n",
       "      <td>-156.734317</td>\n",
       "    </tr>\n",
       "    <tr>\n",
       "      <th>8792</th>\n",
       "      <td>2022-06-08</td>\n",
       "      <td>500.0</td>\n",
       "      <td>23.2</td>\n",
       "      <td>23.624711</td>\n",
       "      <td>98.0</td>\n",
       "      <td>95.790066</td>\n",
       "      <td>-2.5</td>\n",
       "      <td>-196.216010</td>\n",
       "    </tr>\n",
       "    <tr>\n",
       "      <th>8793</th>\n",
       "      <td>2022-06-08</td>\n",
       "      <td>600.0</td>\n",
       "      <td>23.0</td>\n",
       "      <td>23.919157</td>\n",
       "      <td>98.0</td>\n",
       "      <td>96.461649</td>\n",
       "      <td>37.6</td>\n",
       "      <td>-85.402439</td>\n",
       "    </tr>\n",
       "    <tr>\n",
       "      <th>8794</th>\n",
       "      <td>2022-06-08</td>\n",
       "      <td>700.0</td>\n",
       "      <td>23.7</td>\n",
       "      <td>24.677229</td>\n",
       "      <td>98.0</td>\n",
       "      <td>92.571627</td>\n",
       "      <td>422.4</td>\n",
       "      <td>231.349506</td>\n",
       "    </tr>\n",
       "    <tr>\n",
       "      <th>8795</th>\n",
       "      <td>2022-06-08</td>\n",
       "      <td>800.0</td>\n",
       "      <td>25.3</td>\n",
       "      <td>26.503788</td>\n",
       "      <td>90.0</td>\n",
       "      <td>84.585063</td>\n",
       "      <td>1247.0</td>\n",
       "      <td>944.584286</td>\n",
       "    </tr>\n",
       "    <tr>\n",
       "      <th>8796</th>\n",
       "      <td>2022-06-08</td>\n",
       "      <td>900.0</td>\n",
       "      <td>28.2</td>\n",
       "      <td>28.643951</td>\n",
       "      <td>77.0</td>\n",
       "      <td>76.018277</td>\n",
       "      <td>1918.8</td>\n",
       "      <td>1674.603182</td>\n",
       "    </tr>\n",
       "    <tr>\n",
       "      <th>8797</th>\n",
       "      <td>2022-06-08</td>\n",
       "      <td>1000.0</td>\n",
       "      <td>30.2</td>\n",
       "      <td>29.601079</td>\n",
       "      <td>69.0</td>\n",
       "      <td>73.494516</td>\n",
       "      <td>1874.5</td>\n",
       "      <td>1855.323359</td>\n",
       "    </tr>\n",
       "    <tr>\n",
       "      <th>8798</th>\n",
       "      <td>2022-06-08</td>\n",
       "      <td>1100.0</td>\n",
       "      <td>29.8</td>\n",
       "      <td>29.008320</td>\n",
       "      <td>73.0</td>\n",
       "      <td>76.671558</td>\n",
       "      <td>1932.2</td>\n",
       "      <td>1475.634051</td>\n",
       "    </tr>\n",
       "    <tr>\n",
       "      <th>8799</th>\n",
       "      <td>2022-06-08</td>\n",
       "      <td>1200.0</td>\n",
       "      <td>28.2</td>\n",
       "      <td>30.516315</td>\n",
       "      <td>81.0</td>\n",
       "      <td>69.313233</td>\n",
       "      <td>2897.8</td>\n",
       "      <td>2044.867747</td>\n",
       "    </tr>\n",
       "    <tr>\n",
       "      <th>8800</th>\n",
       "      <td>2022-06-08</td>\n",
       "      <td>1300.0</td>\n",
       "      <td>31.3</td>\n",
       "      <td>31.748704</td>\n",
       "      <td>66.0</td>\n",
       "      <td>61.735062</td>\n",
       "      <td>1792.1</td>\n",
       "      <td>2289.312104</td>\n",
       "    </tr>\n",
       "    <tr>\n",
       "      <th>8801</th>\n",
       "      <td>2022-06-08</td>\n",
       "      <td>1400.0</td>\n",
       "      <td>30.4</td>\n",
       "      <td>31.021594</td>\n",
       "      <td>66.0</td>\n",
       "      <td>64.471586</td>\n",
       "      <td>2455.7</td>\n",
       "      <td>2050.525554</td>\n",
       "    </tr>\n",
       "    <tr>\n",
       "      <th>8802</th>\n",
       "      <td>2022-06-08</td>\n",
       "      <td>1500.0</td>\n",
       "      <td>32.2</td>\n",
       "      <td>31.106583</td>\n",
       "      <td>58.0</td>\n",
       "      <td>64.553423</td>\n",
       "      <td>709.0</td>\n",
       "      <td>1874.544882</td>\n",
       "    </tr>\n",
       "    <tr>\n",
       "      <th>8803</th>\n",
       "      <td>2022-06-08</td>\n",
       "      <td>1600.0</td>\n",
       "      <td>29.8</td>\n",
       "      <td>27.146109</td>\n",
       "      <td>69.0</td>\n",
       "      <td>83.818924</td>\n",
       "      <td>158.4</td>\n",
       "      <td>380.383843</td>\n",
       "    </tr>\n",
       "    <tr>\n",
       "      <th>8804</th>\n",
       "      <td>2022-06-08</td>\n",
       "      <td>1700.0</td>\n",
       "      <td>26.4</td>\n",
       "      <td>25.977070</td>\n",
       "      <td>88.0</td>\n",
       "      <td>87.128246</td>\n",
       "      <td>38.0</td>\n",
       "      <td>7.656007</td>\n",
       "    </tr>\n",
       "    <tr>\n",
       "      <th>8805</th>\n",
       "      <td>2022-06-08</td>\n",
       "      <td>1800.0</td>\n",
       "      <td>25.6</td>\n",
       "      <td>25.698732</td>\n",
       "      <td>89.0</td>\n",
       "      <td>89.516493</td>\n",
       "      <td>2.6</td>\n",
       "      <td>-13.909940</td>\n",
       "    </tr>\n",
       "    <tr>\n",
       "      <th>8806</th>\n",
       "      <td>2022-06-08</td>\n",
       "      <td>1900.0</td>\n",
       "      <td>25.6</td>\n",
       "      <td>25.358757</td>\n",
       "      <td>91.0</td>\n",
       "      <td>90.798531</td>\n",
       "      <td>-2.5</td>\n",
       "      <td>-81.262581</td>\n",
       "    </tr>\n",
       "  </tbody>\n",
       "</table>\n",
       "</div>"
      ],
      "text/plain": [
       "            DATA  HORARIO  ATUAL_TEMPERATURA  PREVISOES_TEMPERATURA  \\\n",
       "8783  2022-06-07   2000.0               25.3              25.301482   \n",
       "8784  2022-06-08   2100.0               24.8              24.485175   \n",
       "8785  2022-06-08   2200.0               24.7              24.365322   \n",
       "8786  2022-06-08   2300.0               24.7              24.184924   \n",
       "8787  2022-06-08      0.0               24.5              23.950483   \n",
       "8788  2022-06-08    100.0               24.1              23.856810   \n",
       "8789  2022-06-08    200.0               23.8              23.798535   \n",
       "8790  2022-06-08    300.0               23.6              23.740576   \n",
       "8791  2022-06-08    400.0               23.4              23.684904   \n",
       "8792  2022-06-08    500.0               23.2              23.624711   \n",
       "8793  2022-06-08    600.0               23.0              23.919157   \n",
       "8794  2022-06-08    700.0               23.7              24.677229   \n",
       "8795  2022-06-08    800.0               25.3              26.503788   \n",
       "8796  2022-06-08    900.0               28.2              28.643951   \n",
       "8797  2022-06-08   1000.0               30.2              29.601079   \n",
       "8798  2022-06-08   1100.0               29.8              29.008320   \n",
       "8799  2022-06-08   1200.0               28.2              30.516315   \n",
       "8800  2022-06-08   1300.0               31.3              31.748704   \n",
       "8801  2022-06-08   1400.0               30.4              31.021594   \n",
       "8802  2022-06-08   1500.0               32.2              31.106583   \n",
       "8803  2022-06-08   1600.0               29.8              27.146109   \n",
       "8804  2022-06-08   1700.0               26.4              25.977070   \n",
       "8805  2022-06-08   1800.0               25.6              25.698732   \n",
       "8806  2022-06-08   1900.0               25.6              25.358757   \n",
       "\n",
       "      ATUAL_UMIDADE  PREVISOES_UMIDADE  ATUAL_RADIACAO  PREVISOES_RADIACAO  \n",
       "8783           85.0          87.997905            -2.0         -144.845693  \n",
       "8784           89.0          91.776454            -2.4           70.054121  \n",
       "8785           90.0          92.281331            -2.4          116.604239  \n",
       "8786           90.0          93.760331            -2.3          102.431875  \n",
       "8787           92.0          94.974652            -3.5           44.044907  \n",
       "8788           94.0          95.803993            -3.0          -26.223007  \n",
       "8789           96.0          96.121523            -2.3          -71.485088  \n",
       "8790           97.0          96.437758            -2.2         -116.675041  \n",
       "8791           98.0          96.109362            -2.6         -156.734317  \n",
       "8792           98.0          95.790066            -2.5         -196.216010  \n",
       "8793           98.0          96.461649            37.6          -85.402439  \n",
       "8794           98.0          92.571627           422.4          231.349506  \n",
       "8795           90.0          84.585063          1247.0          944.584286  \n",
       "8796           77.0          76.018277          1918.8         1674.603182  \n",
       "8797           69.0          73.494516          1874.5         1855.323359  \n",
       "8798           73.0          76.671558          1932.2         1475.634051  \n",
       "8799           81.0          69.313233          2897.8         2044.867747  \n",
       "8800           66.0          61.735062          1792.1         2289.312104  \n",
       "8801           66.0          64.471586          2455.7         2050.525554  \n",
       "8802           58.0          64.553423           709.0         1874.544882  \n",
       "8803           69.0          83.818924           158.4          380.383843  \n",
       "8804           88.0          87.128246            38.0            7.656007  \n",
       "8805           89.0          89.516493             2.6          -13.909940  \n",
       "8806           91.0          90.798531            -2.5          -81.262581  "
      ]
     },
     "execution_count": 40,
     "metadata": {},
     "output_type": "execute_result"
    }
   ],
   "source": [
    "previsoes_dados"
   ]
  },
  {
   "cell_type": "code",
   "execution_count": 41,
   "metadata": {
    "executionInfo": {
     "elapsed": 43,
     "status": "ok",
     "timestamp": 1654775307853,
     "user": {
      "displayName": "Prince Nyarko",
      "userId": "02482838485601494345"
     },
     "user_tz": 180
    },
    "id": "bsuYJPTwjbzr"
   },
   "outputs": [],
   "source": [
    "previsoes_dados.to_csv('garoa.csv', index=False)"
   ]
  },
  {
   "cell_type": "code",
   "execution_count": 42,
   "metadata": {
    "colab": {
     "base_uri": "https://localhost:8080/"
    },
    "executionInfo": {
     "elapsed": 43,
     "status": "ok",
     "timestamp": 1654775307854,
     "user": {
      "displayName": "Prince Nyarko",
      "userId": "02482838485601494345"
     },
     "user_tz": 180
    },
    "id": "hTH-zGQnlGf0",
    "outputId": "cf264b9e-d029-4db4-ad1a-d89f55b2aa4e"
   },
   "outputs": [],
   "source": [
    "#previsoes_dados.to_excel('garoa.xls', index=False)"
   ]
  },
  {
   "cell_type": "code",
   "execution_count": 43,
   "metadata": {
    "colab": {
     "base_uri": "https://localhost:8080/"
    },
    "executionInfo": {
     "elapsed": 37,
     "status": "ok",
     "timestamp": 1654775307854,
     "user": {
      "displayName": "Prince Nyarko",
      "userId": "02482838485601494345"
     },
     "user_tz": 180
    },
    "id": "y0CYebmjGBVQ",
    "outputId": "064e297e-cc72-4ad0-fb07-9e6522c483c2"
   },
   "outputs": [
    {
     "data": {
      "text/plain": [
       "0.04463341979246512"
      ]
     },
     "execution_count": 43,
     "metadata": {},
     "output_type": "execute_result"
    }
   ],
   "source": [
    "umid_erro"
   ]
  },
  {
   "cell_type": "code",
   "execution_count": 44,
   "metadata": {
    "colab": {
     "base_uri": "https://localhost:8080/"
    },
    "executionInfo": {
     "elapsed": 34,
     "status": "ok",
     "timestamp": 1654775307855,
     "user": {
      "displayName": "Prince Nyarko",
      "userId": "02482838485601494345"
     },
     "user_tz": 180
    },
    "id": "9e21wTLnNU2Z",
    "outputId": "34d4dc19-bf98-4d4c-dfc7-2dfc31ceb849"
   },
   "outputs": [
    {
     "data": {
      "text/plain": [
       "0.024013769382248862"
      ]
     },
     "execution_count": 44,
     "metadata": {},
     "output_type": "execute_result"
    }
   ],
   "source": [
    "temp_erro"
   ]
  },
  {
   "cell_type": "code",
   "execution_count": 45,
   "metadata": {
    "colab": {
     "base_uri": "https://localhost:8080/"
    },
    "executionInfo": {
     "elapsed": 30,
     "status": "ok",
     "timestamp": 1654775307855,
     "user": {
      "displayName": "Prince Nyarko",
      "userId": "02482838485601494345"
     },
     "user_tz": 180
    },
    "id": "YREAn3RFNYIg",
    "outputId": "24738d12-a4bb-4f5f-87c9-e30eba80af36"
   },
   "outputs": [
    {
     "data": {
      "text/plain": [
       "20.15487649504082"
      ]
     },
     "execution_count": 45,
     "metadata": {},
     "output_type": "execute_result"
    }
   ],
   "source": [
    "radi_erro"
   ]
  },
  {
   "cell_type": "code",
   "execution_count": 46,
   "metadata": {
    "colab": {
     "base_uri": "https://localhost:8080/",
     "height": 284
    },
    "executionInfo": {
     "elapsed": 645,
     "status": "ok",
     "timestamp": 1654775308475,
     "user": {
      "displayName": "Prince Nyarko",
      "userId": "02482838485601494345"
     },
     "user_tz": 180
    },
    "id": "6UNTwbypTB2R",
    "outputId": "4186c582-a4d0-461f-92e1-7a723e501a3c"
   },
   "outputs": [
    {
     "data": {
      "text/plain": [
       "<AxesSubplot:>"
      ]
     },
     "execution_count": 46,
     "metadata": {},
     "output_type": "execute_result"
    },
    {
     "data": {
      "image/png": "[encoded data removed]",
      "text/plain": [
       "<Figure size 432x288 with 1 Axes>"
      ]
     },
     "metadata": {
      "needs_background": "light"
     },
     "output_type": "display_data"
    }
   ],
   "source": [
    "previsoes_dados.plot()"
   ]
  },
  {
   "cell_type": "code",
   "execution_count": 47,
   "metadata": {
    "colab": {
     "base_uri": "https://localhost:8080/",
     "height": 438
    },
    "executionInfo": {
     "elapsed": 554,
     "status": "ok",
     "timestamp": 1654775309020,
     "user": {
      "displayName": "Prince Nyarko",
      "userId": "02482838485601494345"
     },
     "user_tz": 180
    },
    "id": "Ux4sYPgRU-zJ",
    "outputId": "8f569319-94fa-4d8e-b057-e5332ea5aa80"
   },
   "outputs": [
    {
     "data": {
      "text/plain": [
       "<AxesSubplot:title={'center':'PREVISOES_TEMPERATURA'}, xlabel='HORARIO'>"
      ]
     },
     "execution_count": 47,
     "metadata": {},
     "output_type": "execute_result"
    },
    {
     "data": {
      "image/png": "[encoded data removed]",
      "text/plain": [
       "<Figure size 1728x432 with 1 Axes>"
      ]
     },
     "metadata": {
      "needs_background": "light"
     },
     "output_type": "display_data"
    }
   ],
   "source": [
    "previsoes_dados.boxplot(\"PREVISOES_TEMPERATURA\", by='HORARIO', figsize=(24,6))"
   ]
  },
  {
   "cell_type": "code",
   "execution_count": 48,
   "metadata": {
    "executionInfo": {
     "elapsed": 14,
     "status": "ok",
     "timestamp": 1654775309021,
     "user": {
      "displayName": "Prince Nyarko",
      "userId": "02482838485601494345"
     },
     "user_tz": 180
    },
    "id": "hyNmMIhHTFtw"
   },
   "outputs": [],
   "source": [
    "import matplotlib.pyplot as plt\n"
   ]
  },
  {
   "cell_type": "code",
   "execution_count": 49,
   "metadata": {
    "colab": {
     "base_uri": "https://localhost:8080/",
     "height": 265
    },
    "executionInfo": {
     "elapsed": 14,
     "status": "ok",
     "timestamp": 1654775309022,
     "user": {
      "displayName": "Prince Nyarko",
      "userId": "02482838485601494345"
     },
     "user_tz": 180
    },
    "id": "ZeAJDeQcTUZH",
    "outputId": "efcec62b-55a8-4f27-cbd9-56910dd34a33"
   },
   "outputs": [
    {
     "data": {
      "image/png": "[encoded data removed]",
      "text/plain": [
       "<Figure size 432x288 with 1 Axes>"
      ]
     },
     "metadata": {
      "needs_background": "light"
     },
     "output_type": "display_data"
    }
   ],
   "source": [
    "plt.plot( previsoes_dados.PREVISOES_TEMPERATURA)\n",
    "#plt.plot(previsoes_dados.HORARIO, previsoes_dados.ATUAL_UMIDADE)\n",
    "#plt.plot(previsoes_dados.HORARIO, previsoes_dados.ATUAL_RADIACAO)\n",
    "\n",
    "plt.show()"
   ]
  }
 ],
 "metadata": {
  "colab": {
   "collapsed_sections": [],
   "name": "Cópia de teste.ipynb",
   "provenance": [
    {
     "file_id": "https://github.com/garoa-startup/previsao/blob/main/modelo/teste.ipynb",
     "timestamp": 1653564358004
    }
   ]
  },
  "interpreter": {
   "hash": "767d51c1340bd893661ea55ea3124f6de3c7a262a8b4abca0554b478b1e2ff90"
  },
  "kernelspec": {
   "display_name": "Python 3 (ipykernel)",
   "language": "python",
   "name": "python3"
  },
  "language_info": {
   "codemirror_mode": {
    "name": "ipython",
    "version": 3
   },
   "file_extension": ".py",
   "mimetype": "text/x-python",
   "name": "python",
   "nbconvert_exporter": "python",
   "pygments_lexer": "ipython3",
   "version": "3.10.5"
  }
 },
 "nbformat": 4,
 "nbformat_minor": 1
}
